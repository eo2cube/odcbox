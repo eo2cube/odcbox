{
 "cells": [
  {
   "cell_type": "markdown",
   "id": "dc617c8f",
   "metadata": {},
   "source": [
    "# Using `odcr` in R to work with Sentinel-2 data in the Open Data Cube\n",
    "\n",
    "This notebook quickly demonstrates how to use the `odcr` R package to interact with the *Open Data Cube*. To fully reproduce the contents of this notebook, you may want to use the *eo2cube* [`odcbox`](https://github.com/eo2cube/odcbox) docker container, installing an *Open Data Cube* instance that serves a Jupyter notebook environment with both a Python kernel and an R kernel. Make sure to follow the instructions to initilaize the Open Data Cube instance so that the Sentinel-2 example data used in this notebook are installed as well. If you are using a different setup, just adapt the notebook to connect to your own database (see section [Connect to a database](#connect_db)) and query your own, indexed data (see section [Query a datacube](#query_cube)).\n",
    "\n"
   ]
  },
  {
   "cell_type": "markdown",
   "id": "95fc1a0b",
   "metadata": {},
   "source": [
    "## Configuration\n",
    "\n",
    "Install and load the `odcr` package. Use the function `config` to make sure that the Python installation on your host and the `datacube` core has been found. You may point `odcr` towards a different Python binary/environment in case you have multiple installed using the argument `python`."
   ]
  },
  {
   "cell_type": "code",
   "execution_count": 4,
   "id": "e8769b40",
   "metadata": {},
   "outputs": [
    {
     "name": "stderr",
     "output_type": "stream",
     "text": [
      "Using github PAT from envvar GITHUB_TOKEN\n",
      "\n",
      "Downloading GitHub repo eo2cube/odcr@HEAD\n",
      "\n"
     ]
    },
    {
     "name": "stdout",
     "output_type": "stream",
     "text": [
      "\n",
      "\u001b[32m✔\u001b[39m  \u001b[90mchecking for file ‘/tmp/RtmpIJ4lHp/remotes7d3263e1c7/eo2cube-odcr-6d53414e8ddfc03462610fa0c65bb3436135a0b5/DESCRIPTION’\u001b[39m\u001b[36m\u001b[39m\n",
      "\u001b[90m─\u001b[39m\u001b[90m  \u001b[39m\u001b[90mpreparing ‘odcr’:\u001b[39m\u001b[36m\u001b[39m\n",
      "\u001b[32m✔\u001b[39m  \u001b[90mchecking DESCRIPTION meta-information\u001b[39m\u001b[36m\u001b[39m\n",
      "\u001b[90m─\u001b[39m\u001b[90m  \u001b[39m\u001b[90mchecking for LF line-endings in source and make files and shell scripts\u001b[39m\u001b[36m\u001b[39m\n",
      "\u001b[90m─\u001b[39m\u001b[90m  \u001b[39m\u001b[90mchecking for empty or unneeded directories\u001b[39m\u001b[36m\u001b[39m\n",
      "\u001b[90m─\u001b[39m\u001b[90m  \u001b[39m\u001b[90mbuilding ‘odcr_0.0.1-5.tar.gz’\u001b[39m\u001b[36m\u001b[39m\n",
      "   \n",
      "\r"
     ]
    },
    {
     "name": "stderr",
     "output_type": "stream",
     "text": [
      "Installing package into ‘/usr/local/lib/R/site-library’\n",
      "(as ‘lib’ is unspecified)\n",
      "\n"
     ]
    }
   ],
   "source": [
    "devtools::install_github(\"eo2cube/odcr\")\n",
    "library(odcr)"
   ]
  },
  {
   "cell_type": "code",
   "execution_count": 5,
   "id": "99e16c7b",
   "metadata": {
    "scrolled": true
   },
   "outputs": [
    {
     "name": "stdout",
     "output_type": "stream",
     "text": [
      "'odcr' is using the following python configuration:\n",
      "\n",
      "python:         /env/bin/python3\n",
      "libpython:      /usr/lib/python3.6/config-3.6m-x86_64-linux-gnu/libpython3.6.so\n",
      "pythonhome:     //env://env\n",
      "version:        3.6.9 (default, Oct  8 2020, 12:12:24)  [GCC 8.4.0]\n",
      "numpy:          /env/lib/python3.6/site-packages/numpy\n",
      "numpy_version:  1.19.5\n",
      "datacube:       /env/lib/python3.6/site-packages/datacube\n",
      "\n",
      "python versions found: \n",
      " /env/bin/python3\n",
      " /usr/bin/python3\n",
      "\n",
      "Python library 'datacube' is available, 'odcr' configuration successfull.\n"
     ]
    }
   ],
   "source": [
    "odcr::config()"
   ]
  },
  {
   "cell_type": "markdown",
   "id": "c13ddbdf",
   "metadata": {},
   "source": [
    "## <a name=\"connect_db\"></a>Connect to a database\n",
    "\n",
    "You now may to connect your session to your database to gain access to your Open Data Cube instance."
   ]
  },
  {
   "cell_type": "code",
   "execution_count": 6,
   "id": "a5ad758b",
   "metadata": {},
   "outputs": [],
   "source": [
    "database_connect(app = \"Sentinel_2\")"
   ]
  },
  {
   "cell_type": "markdown",
   "id": "f9ee8752",
   "metadata": {},
   "source": [
    "## List measurements and products\n",
    "\n",
    "Using the `dc*` functions, you can retrieve meta data about what is stored in your *Open Data Cube* instance:"
   ]
  },
  {
   "cell_type": "code",
   "execution_count": 7,
   "id": "5d882ba1",
   "metadata": {},
   "outputs": [
    {
     "data": {
      "text/html": [
       "<table class=\"dataframe\">\n",
       "<caption>A data.frame: 15 × 6</caption>\n",
       "<thead>\n",
       "\t<tr><th scope=col>name</th><th scope=col>dtype</th><th scope=col>units</th><th scope=col>nodata</th><th scope=col>aliases</th><th scope=col>flags_definition</th></tr>\n",
       "\t<tr><th scope=col>&lt;chr&gt;</th><th scope=col>&lt;chr&gt;</th><th scope=col>&lt;chr&gt;</th><th scope=col>&lt;dbl&gt;</th><th scope=col>&lt;list&gt;</th><th scope=col>&lt;list&gt;</th></tr>\n",
       "</thead>\n",
       "<tbody>\n",
       "\t<tr><td>B01</td><td>uint16</td><td>1</td><td>0</td><td>band_01        , coastal_aerosol</td><td>NaN</td></tr>\n",
       "\t<tr><td>B02</td><td>uint16</td><td>1</td><td>0</td><td>band_02, blue   </td><td>NaN</td></tr>\n",
       "\t<tr><td>B03</td><td>uint16</td><td>1</td><td>0</td><td>band_03, green  </td><td>NaN</td></tr>\n",
       "\t<tr><td>B04</td><td>uint16</td><td>1</td><td>0</td><td>band_04, red    </td><td>NaN</td></tr>\n",
       "\t<tr><td>B05</td><td>uint16</td><td>1</td><td>0</td><td>band_05   , red_edge_1</td><td>NaN</td></tr>\n",
       "\t<tr><td>B06</td><td>uint16</td><td>1</td><td>0</td><td>band_06   , red_edge_2</td><td>NaN</td></tr>\n",
       "\t<tr><td>B07</td><td>uint16</td><td>1</td><td>0</td><td>band_07   , red_edge_3</td><td>NaN</td></tr>\n",
       "\t<tr><td>B08</td><td>uint16</td><td>1</td><td>0</td><td>band_08, nir    , nir_1  </td><td>NaN</td></tr>\n",
       "\t<tr><td>B8A</td><td>uint16</td><td>1</td><td>0</td><td>band_8a   , nir_narrow, nir_2     </td><td>NaN</td></tr>\n",
       "\t<tr><td>B09</td><td>uint16</td><td>1</td><td>0</td><td>band_09     , water_vapour</td><td>NaN</td></tr>\n",
       "\t<tr><td>B11</td><td>uint16</td><td>1</td><td>0</td><td>band_11, swir_1 , swir_16</td><td>NaN</td></tr>\n",
       "\t<tr><td>B12</td><td>uint16</td><td>1</td><td>0</td><td>band_12, swir_2 , swir_22</td><td>NaN</td></tr>\n",
       "\t<tr><td>SCL</td><td>uint8 </td><td>1</td><td>0</td><td>mask, qa  </td><td>0                           , 1                           , 2                           , 3                           , 4                           , 5                           , 6                           , 7                           , no data                     , saturated or defective      , dark area pixels            , cloud shadows               , vegetation                  , bare soils                  , water                       , unclassified                , cloud medium probability    , cloud high probability      , thin cirrus                 , snow or ice                 , Sen2Cor Scene Classification</td></tr>\n",
       "\t<tr><td>AOT</td><td>uint16</td><td>1</td><td>0</td><td>aerosol_optical_thickness</td><td>NaN</td></tr>\n",
       "\t<tr><td>WVP</td><td>uint16</td><td>1</td><td>0</td><td>scene_average_water_vapour</td><td>NaN</td></tr>\n",
       "</tbody>\n",
       "</table>\n"
      ],
      "text/latex": [
       "A data.frame: 15 × 6\n",
       "\\begin{tabular}{llllll}\n",
       " name & dtype & units & nodata & aliases & flags\\_definition\\\\\n",
       " <chr> & <chr> & <chr> & <dbl> & <list> & <list>\\\\\n",
       "\\hline\n",
       "\t B01 & uint16 & 1 & 0 & band\\_01        , coastal\\_aerosol & NaN\\\\\n",
       "\t B02 & uint16 & 1 & 0 & band\\_02, blue    & NaN\\\\\n",
       "\t B03 & uint16 & 1 & 0 & band\\_03, green   & NaN\\\\\n",
       "\t B04 & uint16 & 1 & 0 & band\\_04, red     & NaN\\\\\n",
       "\t B05 & uint16 & 1 & 0 & band\\_05   , red\\_edge\\_1 & NaN\\\\\n",
       "\t B06 & uint16 & 1 & 0 & band\\_06   , red\\_edge\\_2 & NaN\\\\\n",
       "\t B07 & uint16 & 1 & 0 & band\\_07   , red\\_edge\\_3 & NaN\\\\\n",
       "\t B08 & uint16 & 1 & 0 & band\\_08, nir    , nir\\_1   & NaN\\\\\n",
       "\t B8A & uint16 & 1 & 0 & band\\_8a   , nir\\_narrow, nir\\_2      & NaN\\\\\n",
       "\t B09 & uint16 & 1 & 0 & band\\_09     , water\\_vapour & NaN\\\\\n",
       "\t B11 & uint16 & 1 & 0 & band\\_11, swir\\_1 , swir\\_16 & NaN\\\\\n",
       "\t B12 & uint16 & 1 & 0 & band\\_12, swir\\_2 , swir\\_22 & NaN\\\\\n",
       "\t SCL & uint8  & 1 & 0 & mask, qa   & 0                           , 1                           , 2                           , 3                           , 4                           , 5                           , 6                           , 7                           , no data                     , saturated or defective      , dark area pixels            , cloud shadows               , vegetation                  , bare soils                  , water                       , unclassified                , cloud medium probability    , cloud high probability      , thin cirrus                 , snow or ice                 , Sen2Cor Scene Classification\\\\\n",
       "\t AOT & uint16 & 1 & 0 & aerosol\\_optical\\_thickness & NaN\\\\\n",
       "\t WVP & uint16 & 1 & 0 & scene\\_average\\_water\\_vapour & NaN\\\\\n",
       "\\end{tabular}\n"
      ],
      "text/markdown": [
       "\n",
       "A data.frame: 15 × 6\n",
       "\n",
       "| name &lt;chr&gt; | dtype &lt;chr&gt; | units &lt;chr&gt; | nodata &lt;dbl&gt; | aliases &lt;list&gt; | flags_definition &lt;list&gt; |\n",
       "|---|---|---|---|---|---|\n",
       "| B01 | uint16 | 1 | 0 | band_01        , coastal_aerosol | NaN |\n",
       "| B02 | uint16 | 1 | 0 | band_02, blue    | NaN |\n",
       "| B03 | uint16 | 1 | 0 | band_03, green   | NaN |\n",
       "| B04 | uint16 | 1 | 0 | band_04, red     | NaN |\n",
       "| B05 | uint16 | 1 | 0 | band_05   , red_edge_1 | NaN |\n",
       "| B06 | uint16 | 1 | 0 | band_06   , red_edge_2 | NaN |\n",
       "| B07 | uint16 | 1 | 0 | band_07   , red_edge_3 | NaN |\n",
       "| B08 | uint16 | 1 | 0 | band_08, nir    , nir_1   | NaN |\n",
       "| B8A | uint16 | 1 | 0 | band_8a   , nir_narrow, nir_2      | NaN |\n",
       "| B09 | uint16 | 1 | 0 | band_09     , water_vapour | NaN |\n",
       "| B11 | uint16 | 1 | 0 | band_11, swir_1 , swir_16 | NaN |\n",
       "| B12 | uint16 | 1 | 0 | band_12, swir_2 , swir_22 | NaN |\n",
       "| SCL | uint8  | 1 | 0 | mask, qa   | 0                           , 1                           , 2                           , 3                           , 4                           , 5                           , 6                           , 7                           , no data                     , saturated or defective      , dark area pixels            , cloud shadows               , vegetation                  , bare soils                  , water                       , unclassified                , cloud medium probability    , cloud high probability      , thin cirrus                 , snow or ice                 , Sen2Cor Scene Classification |\n",
       "| AOT | uint16 | 1 | 0 | aerosol_optical_thickness | NaN |\n",
       "| WVP | uint16 | 1 | 0 | scene_average_water_vapour | NaN |\n",
       "\n"
      ],
      "text/plain": [
       "   name dtype  units nodata aliases                           \n",
       "1  B01  uint16 1     0      band_01        , coastal_aerosol  \n",
       "2  B02  uint16 1     0      band_02, blue                     \n",
       "3  B03  uint16 1     0      band_03, green                    \n",
       "4  B04  uint16 1     0      band_04, red                      \n",
       "5  B05  uint16 1     0      band_05   , red_edge_1            \n",
       "6  B06  uint16 1     0      band_06   , red_edge_2            \n",
       "7  B07  uint16 1     0      band_07   , red_edge_3            \n",
       "8  B08  uint16 1     0      band_08, nir    , nir_1           \n",
       "9  B8A  uint16 1     0      band_8a   , nir_narrow, nir_2     \n",
       "10 B09  uint16 1     0      band_09     , water_vapour        \n",
       "11 B11  uint16 1     0      band_11, swir_1 , swir_16         \n",
       "12 B12  uint16 1     0      band_12, swir_2 , swir_22         \n",
       "13 SCL  uint8  1     0      mask, qa                          \n",
       "14 AOT  uint16 1     0      aerosol_optical_thickness         \n",
       "15 WVP  uint16 1     0      scene_average_water_vapour        \n",
       "   flags_definition                                                                                                                                                                                                                                                                                                                                                                                                                                                                                                                                                                                                                                    \n",
       "1  NaN                                                                                                                                                                                                                                                                                                                                                                                                                                                                                                                                                                                                                                                 \n",
       "2  NaN                                                                                                                                                                                                                                                                                                                                                                                                                                                                                                                                                                                                                                                 \n",
       "3  NaN                                                                                                                                                                                                                                                                                                                                                                                                                                                                                                                                                                                                                                                 \n",
       "4  NaN                                                                                                                                                                                                                                                                                                                                                                                                                                                                                                                                                                                                                                                 \n",
       "5  NaN                                                                                                                                                                                                                                                                                                                                                                                                                                                                                                                                                                                                                                                 \n",
       "6  NaN                                                                                                                                                                                                                                                                                                                                                                                                                                                                                                                                                                                                                                                 \n",
       "7  NaN                                                                                                                                                                                                                                                                                                                                                                                                                                                                                                                                                                                                                                                 \n",
       "8  NaN                                                                                                                                                                                                                                                                                                                                                                                                                                                                                                                                                                                                                                                 \n",
       "9  NaN                                                                                                                                                                                                                                                                                                                                                                                                                                                                                                                                                                                                                                                 \n",
       "10 NaN                                                                                                                                                                                                                                                                                                                                                                                                                                                                                                                                                                                                                                                 \n",
       "11 NaN                                                                                                                                                                                                                                                                                                                                                                                                                                                                                                                                                                                                                                                 \n",
       "12 NaN                                                                                                                                                                                                                                                                                                                                                                                                                                                                                                                                                                                                                                                 \n",
       "13 0                           , 1                           , 2                           , 3                           , 4                           , 5                           , 6                           , 7                           , no data                     , saturated or defective      , dark area pixels            , cloud shadows               , vegetation                  , bare soils                  , water                       , unclassified                , cloud medium probability    , cloud high probability      , thin cirrus                 , snow or ice                 , Sen2Cor Scene Classification\n",
       "14 NaN                                                                                                                                                                                                                                                                                                                                                                                                                                                                                                                                                                                                                                                 \n",
       "15 NaN                                                                                                                                                                                                                                                                                                                                                                                                                                                                                                                                                                                                                                                 "
      ]
     },
     "metadata": {},
     "output_type": "display_data"
    }
   ],
   "source": [
    "dc_list_measurements()"
   ]
  },
  {
   "cell_type": "code",
   "execution_count": 8,
   "id": "50921ff4",
   "metadata": {},
   "outputs": [
    {
     "data": {
      "text/html": [
       "<table class=\"dataframe\">\n",
       "<caption>A data.frame: 1 × 17</caption>\n",
       "<thead>\n",
       "\t<tr><th></th><th scope=col>name</th><th scope=col>description</th><th scope=col>region_code</th><th scope=col>instrument</th><th scope=col>platform</th><th scope=col>label</th><th scope=col>creation_time</th><th scope=col>product_family</th><th scope=col>lat</th><th scope=col>lon</th><th scope=col>dataset_maturity</th><th scope=col>time</th><th scope=col>format</th><th scope=col>crs</th><th scope=col>resolution</th><th scope=col>tile_size</th><th scope=col>spatial_dimensions</th></tr>\n",
       "\t<tr><th></th><th scope=col>&lt;chr&gt;</th><th scope=col>&lt;chr&gt;</th><th scope=col>&lt;list&gt;</th><th scope=col>&lt;list&gt;</th><th scope=col>&lt;list&gt;</th><th scope=col>&lt;list&gt;</th><th scope=col>&lt;list&gt;</th><th scope=col>&lt;list&gt;</th><th scope=col>&lt;list&gt;</th><th scope=col>&lt;list&gt;</th><th scope=col>&lt;list&gt;</th><th scope=col>&lt;list&gt;</th><th scope=col>&lt;list&gt;</th><th scope=col>&lt;dbl&gt;</th><th scope=col>&lt;dbl&gt;</th><th scope=col>&lt;dbl&gt;</th><th scope=col>&lt;dbl&gt;</th></tr>\n",
       "</thead>\n",
       "<tbody>\n",
       "\t<tr><th scope=row>1</th><td>s2_l2a</td><td>Sentinel-2a and Sentinel-2b imagery, processed to Level 2A (Surface Reflectance) and converted to Cloud Optimized GeoTIFFs</td><td>NULL</td><td>NULL</td><td>NULL</td><td>NULL</td><td>NULL</td><td>NULL</td><td>NULL</td><td>NULL</td><td>NULL</td><td>NULL</td><td>NULL</td><td>NaN</td><td>NaN</td><td>NaN</td><td>NaN</td></tr>\n",
       "</tbody>\n",
       "</table>\n"
      ],
      "text/latex": [
       "A data.frame: 1 × 17\n",
       "\\begin{tabular}{r|lllllllllllllllll}\n",
       "  & name & description & region\\_code & instrument & platform & label & creation\\_time & product\\_family & lat & lon & dataset\\_maturity & time & format & crs & resolution & tile\\_size & spatial\\_dimensions\\\\\n",
       "  & <chr> & <chr> & <list> & <list> & <list> & <list> & <list> & <list> & <list> & <list> & <list> & <list> & <list> & <dbl> & <dbl> & <dbl> & <dbl>\\\\\n",
       "\\hline\n",
       "\t1 & s2\\_l2a & Sentinel-2a and Sentinel-2b imagery, processed to Level 2A (Surface Reflectance) and converted to Cloud Optimized GeoTIFFs & NULL & NULL & NULL & NULL & NULL & NULL & NULL & NULL & NULL & NULL & NULL & NaN & NaN & NaN & NaN\\\\\n",
       "\\end{tabular}\n"
      ],
      "text/markdown": [
       "\n",
       "A data.frame: 1 × 17\n",
       "\n",
       "| <!--/--> | name &lt;chr&gt; | description &lt;chr&gt; | region_code &lt;list&gt; | instrument &lt;list&gt; | platform &lt;list&gt; | label &lt;list&gt; | creation_time &lt;list&gt; | product_family &lt;list&gt; | lat &lt;list&gt; | lon &lt;list&gt; | dataset_maturity &lt;list&gt; | time &lt;list&gt; | format &lt;list&gt; | crs &lt;dbl&gt; | resolution &lt;dbl&gt; | tile_size &lt;dbl&gt; | spatial_dimensions &lt;dbl&gt; |\n",
       "|---|---|---|---|---|---|---|---|---|---|---|---|---|---|---|---|---|---|\n",
       "| 1 | s2_l2a | Sentinel-2a and Sentinel-2b imagery, processed to Level 2A (Surface Reflectance) and converted to Cloud Optimized GeoTIFFs | NULL | NULL | NULL | NULL | NULL | NULL | NULL | NULL | NULL | NULL | NULL | NaN | NaN | NaN | NaN |\n",
       "\n"
      ],
      "text/plain": [
       "  name  \n",
       "1 s2_l2a\n",
       "  description                                                                                                               \n",
       "1 Sentinel-2a and Sentinel-2b imagery, processed to Level 2A (Surface Reflectance) and converted to Cloud Optimized GeoTIFFs\n",
       "  region_code instrument platform label creation_time product_family lat  lon \n",
       "1 NULL        NULL       NULL     NULL  NULL          NULL           NULL NULL\n",
       "  dataset_maturity time format crs resolution tile_size spatial_dimensions\n",
       "1 NULL             NULL NULL   NaN NaN        NaN       NaN               "
      ]
     },
     "metadata": {},
     "output_type": "display_data"
    }
   ],
   "source": [
    "dc_list_products()"
   ]
  },
  {
   "cell_type": "markdown",
   "id": "1462c42c",
   "metadata": {},
   "source": [
    "## <a name=\"query_cube\"></a>Query a datacube\n",
    "\n",
    "A query is written as a named `list` object, of which each element represents an allowed query parameter. Here, we define a lat/lon range, a time range, the desired output crs and the desired output resolution:"
   ]
  },
  {
   "cell_type": "code",
   "execution_count": 9,
   "id": "98affae8",
   "metadata": {},
   "outputs": [],
   "source": [
    "# Create a query object\n",
    "lat <- 22.821\n",
    "lon <- 28.518\n",
    "buffer <- 0.05\n",
    "\n",
    "query <- list(\n",
    "    'time' = c('2020-01', '2020-03'),\n",
    "    'x' = c(lon - buffer, lon + buffer),\n",
    "    'y' = c(lat + buffer, lat - buffer),\n",
    "    'output_crs' = 'epsg:6933',\n",
    "    'resolution' = c(-20,20)\n",
    ")"
   ]
  },
  {
   "cell_type": "markdown",
   "id": "acad9ce0",
   "metadata": {},
   "source": [
    "With `dc_find_datasets`, you can retrieve all datasets associated with your query:"
   ]
  },
  {
   "cell_type": "code",
   "execution_count": 10,
   "id": "81b10e62",
   "metadata": {},
   "outputs": [
    {
     "data": {
      "text/html": [
       "<table class=\"dataframe\">\n",
       "<caption>A data.frame: 19 × 17</caption>\n",
       "<thead>\n",
       "\t<tr><th scope=col>AOT</th><th scope=col>B01</th><th scope=col>B02</th><th scope=col>B03</th><th scope=col>B04</th><th scope=col>B05</th><th scope=col>B06</th><th scope=col>B07</th><th scope=col>B08</th><th scope=col>B09</th><th scope=col>B11</th><th scope=col>B12</th><th scope=col>B8A</th><th scope=col>SCL</th><th scope=col>WVP</th><th scope=col>visual</th><th scope=col>overview</th></tr>\n",
       "\t<tr><th scope=col>&lt;chr&gt;</th><th scope=col>&lt;chr&gt;</th><th scope=col>&lt;chr&gt;</th><th scope=col>&lt;chr&gt;</th><th scope=col>&lt;chr&gt;</th><th scope=col>&lt;chr&gt;</th><th scope=col>&lt;chr&gt;</th><th scope=col>&lt;chr&gt;</th><th scope=col>&lt;chr&gt;</th><th scope=col>&lt;chr&gt;</th><th scope=col>&lt;chr&gt;</th><th scope=col>&lt;chr&gt;</th><th scope=col>&lt;chr&gt;</th><th scope=col>&lt;chr&gt;</th><th scope=col>&lt;chr&gt;</th><th scope=col>&lt;chr&gt;</th><th scope=col>&lt;chr&gt;</th></tr>\n",
       "</thead>\n",
       "<tbody>\n",
       "\t<tr><td>https://sentinel-cogs.s3.us-west-2.amazonaws.com/sentinel-s2-l2a-cogs/35/Q/PF/2020/3/S2B_35QPF_20200307_0_L2A/AOT.tif</td><td>https://sentinel-cogs.s3.us-west-2.amazonaws.com/sentinel-s2-l2a-cogs/35/Q/PF/2020/3/S2B_35QPF_20200307_0_L2A/B01.tif</td><td>https://sentinel-cogs.s3.us-west-2.amazonaws.com/sentinel-s2-l2a-cogs/35/Q/PF/2020/3/S2B_35QPF_20200307_0_L2A/B02.tif</td><td>https://sentinel-cogs.s3.us-west-2.amazonaws.com/sentinel-s2-l2a-cogs/35/Q/PF/2020/3/S2B_35QPF_20200307_0_L2A/B03.tif</td><td>https://sentinel-cogs.s3.us-west-2.amazonaws.com/sentinel-s2-l2a-cogs/35/Q/PF/2020/3/S2B_35QPF_20200307_0_L2A/B04.tif</td><td>https://sentinel-cogs.s3.us-west-2.amazonaws.com/sentinel-s2-l2a-cogs/35/Q/PF/2020/3/S2B_35QPF_20200307_0_L2A/B05.tif</td><td>https://sentinel-cogs.s3.us-west-2.amazonaws.com/sentinel-s2-l2a-cogs/35/Q/PF/2020/3/S2B_35QPF_20200307_0_L2A/B06.tif</td><td>https://sentinel-cogs.s3.us-west-2.amazonaws.com/sentinel-s2-l2a-cogs/35/Q/PF/2020/3/S2B_35QPF_20200307_0_L2A/B07.tif</td><td>https://sentinel-cogs.s3.us-west-2.amazonaws.com/sentinel-s2-l2a-cogs/35/Q/PF/2020/3/S2B_35QPF_20200307_0_L2A/B08.tif</td><td>https://sentinel-cogs.s3.us-west-2.amazonaws.com/sentinel-s2-l2a-cogs/35/Q/PF/2020/3/S2B_35QPF_20200307_0_L2A/B09.tif</td><td>https://sentinel-cogs.s3.us-west-2.amazonaws.com/sentinel-s2-l2a-cogs/35/Q/PF/2020/3/S2B_35QPF_20200307_0_L2A/B11.tif</td><td>https://sentinel-cogs.s3.us-west-2.amazonaws.com/sentinel-s2-l2a-cogs/35/Q/PF/2020/3/S2B_35QPF_20200307_0_L2A/B12.tif</td><td>https://sentinel-cogs.s3.us-west-2.amazonaws.com/sentinel-s2-l2a-cogs/35/Q/PF/2020/3/S2B_35QPF_20200307_0_L2A/B8A.tif</td><td>https://sentinel-cogs.s3.us-west-2.amazonaws.com/sentinel-s2-l2a-cogs/35/Q/PF/2020/3/S2B_35QPF_20200307_0_L2A/SCL.tif</td><td>https://sentinel-cogs.s3.us-west-2.amazonaws.com/sentinel-s2-l2a-cogs/35/Q/PF/2020/3/S2B_35QPF_20200307_0_L2A/WVP.tif</td><td>https://sentinel-cogs.s3.us-west-2.amazonaws.com/sentinel-s2-l2a-cogs/35/Q/PF/2020/3/S2B_35QPF_20200307_0_L2A/TCI.tif</td><td>https://sentinel-cogs.s3.us-west-2.amazonaws.com/sentinel-s2-l2a-cogs/35/Q/PF/2020/3/S2B_35QPF_20200307_0_L2A/L2A_PVI.tif</td></tr>\n",
       "\t<tr><td>https://sentinel-cogs.s3.us-west-2.amazonaws.com/sentinel-s2-l2a-cogs/35/Q/PF/2020/1/S2A_35QPF_20200102_0_L2A/AOT.tif</td><td>https://sentinel-cogs.s3.us-west-2.amazonaws.com/sentinel-s2-l2a-cogs/35/Q/PF/2020/1/S2A_35QPF_20200102_0_L2A/B01.tif</td><td>https://sentinel-cogs.s3.us-west-2.amazonaws.com/sentinel-s2-l2a-cogs/35/Q/PF/2020/1/S2A_35QPF_20200102_0_L2A/B02.tif</td><td>https://sentinel-cogs.s3.us-west-2.amazonaws.com/sentinel-s2-l2a-cogs/35/Q/PF/2020/1/S2A_35QPF_20200102_0_L2A/B03.tif</td><td>https://sentinel-cogs.s3.us-west-2.amazonaws.com/sentinel-s2-l2a-cogs/35/Q/PF/2020/1/S2A_35QPF_20200102_0_L2A/B04.tif</td><td>https://sentinel-cogs.s3.us-west-2.amazonaws.com/sentinel-s2-l2a-cogs/35/Q/PF/2020/1/S2A_35QPF_20200102_0_L2A/B05.tif</td><td>https://sentinel-cogs.s3.us-west-2.amazonaws.com/sentinel-s2-l2a-cogs/35/Q/PF/2020/1/S2A_35QPF_20200102_0_L2A/B06.tif</td><td>https://sentinel-cogs.s3.us-west-2.amazonaws.com/sentinel-s2-l2a-cogs/35/Q/PF/2020/1/S2A_35QPF_20200102_0_L2A/B07.tif</td><td>https://sentinel-cogs.s3.us-west-2.amazonaws.com/sentinel-s2-l2a-cogs/35/Q/PF/2020/1/S2A_35QPF_20200102_0_L2A/B08.tif</td><td>https://sentinel-cogs.s3.us-west-2.amazonaws.com/sentinel-s2-l2a-cogs/35/Q/PF/2020/1/S2A_35QPF_20200102_0_L2A/B09.tif</td><td>https://sentinel-cogs.s3.us-west-2.amazonaws.com/sentinel-s2-l2a-cogs/35/Q/PF/2020/1/S2A_35QPF_20200102_0_L2A/B11.tif</td><td>https://sentinel-cogs.s3.us-west-2.amazonaws.com/sentinel-s2-l2a-cogs/35/Q/PF/2020/1/S2A_35QPF_20200102_0_L2A/B12.tif</td><td>https://sentinel-cogs.s3.us-west-2.amazonaws.com/sentinel-s2-l2a-cogs/35/Q/PF/2020/1/S2A_35QPF_20200102_0_L2A/B8A.tif</td><td>https://sentinel-cogs.s3.us-west-2.amazonaws.com/sentinel-s2-l2a-cogs/35/Q/PF/2020/1/S2A_35QPF_20200102_0_L2A/SCL.tif</td><td>https://sentinel-cogs.s3.us-west-2.amazonaws.com/sentinel-s2-l2a-cogs/35/Q/PF/2020/1/S2A_35QPF_20200102_0_L2A/WVP.tif</td><td>https://sentinel-cogs.s3.us-west-2.amazonaws.com/sentinel-s2-l2a-cogs/35/Q/PF/2020/1/S2A_35QPF_20200102_0_L2A/TCI.tif</td><td>https://sentinel-cogs.s3.us-west-2.amazonaws.com/sentinel-s2-l2a-cogs/35/Q/PF/2020/1/S2A_35QPF_20200102_0_L2A/L2A_PVI.tif</td></tr>\n",
       "\t<tr><td>https://sentinel-cogs.s3.us-west-2.amazonaws.com/sentinel-s2-l2a-cogs/35/Q/PF/2020/1/S2B_35QPF_20200117_0_L2A/AOT.tif</td><td>https://sentinel-cogs.s3.us-west-2.amazonaws.com/sentinel-s2-l2a-cogs/35/Q/PF/2020/1/S2B_35QPF_20200117_0_L2A/B01.tif</td><td>https://sentinel-cogs.s3.us-west-2.amazonaws.com/sentinel-s2-l2a-cogs/35/Q/PF/2020/1/S2B_35QPF_20200117_0_L2A/B02.tif</td><td>https://sentinel-cogs.s3.us-west-2.amazonaws.com/sentinel-s2-l2a-cogs/35/Q/PF/2020/1/S2B_35QPF_20200117_0_L2A/B03.tif</td><td>https://sentinel-cogs.s3.us-west-2.amazonaws.com/sentinel-s2-l2a-cogs/35/Q/PF/2020/1/S2B_35QPF_20200117_0_L2A/B04.tif</td><td>https://sentinel-cogs.s3.us-west-2.amazonaws.com/sentinel-s2-l2a-cogs/35/Q/PF/2020/1/S2B_35QPF_20200117_0_L2A/B05.tif</td><td>https://sentinel-cogs.s3.us-west-2.amazonaws.com/sentinel-s2-l2a-cogs/35/Q/PF/2020/1/S2B_35QPF_20200117_0_L2A/B06.tif</td><td>https://sentinel-cogs.s3.us-west-2.amazonaws.com/sentinel-s2-l2a-cogs/35/Q/PF/2020/1/S2B_35QPF_20200117_0_L2A/B07.tif</td><td>https://sentinel-cogs.s3.us-west-2.amazonaws.com/sentinel-s2-l2a-cogs/35/Q/PF/2020/1/S2B_35QPF_20200117_0_L2A/B08.tif</td><td>https://sentinel-cogs.s3.us-west-2.amazonaws.com/sentinel-s2-l2a-cogs/35/Q/PF/2020/1/S2B_35QPF_20200117_0_L2A/B09.tif</td><td>https://sentinel-cogs.s3.us-west-2.amazonaws.com/sentinel-s2-l2a-cogs/35/Q/PF/2020/1/S2B_35QPF_20200117_0_L2A/B11.tif</td><td>https://sentinel-cogs.s3.us-west-2.amazonaws.com/sentinel-s2-l2a-cogs/35/Q/PF/2020/1/S2B_35QPF_20200117_0_L2A/B12.tif</td><td>https://sentinel-cogs.s3.us-west-2.amazonaws.com/sentinel-s2-l2a-cogs/35/Q/PF/2020/1/S2B_35QPF_20200117_0_L2A/B8A.tif</td><td>https://sentinel-cogs.s3.us-west-2.amazonaws.com/sentinel-s2-l2a-cogs/35/Q/PF/2020/1/S2B_35QPF_20200117_0_L2A/SCL.tif</td><td>https://sentinel-cogs.s3.us-west-2.amazonaws.com/sentinel-s2-l2a-cogs/35/Q/PF/2020/1/S2B_35QPF_20200117_0_L2A/WVP.tif</td><td>https://sentinel-cogs.s3.us-west-2.amazonaws.com/sentinel-s2-l2a-cogs/35/Q/PF/2020/1/S2B_35QPF_20200117_0_L2A/TCI.tif</td><td>https://sentinel-cogs.s3.us-west-2.amazonaws.com/sentinel-s2-l2a-cogs/35/Q/PF/2020/1/S2B_35QPF_20200117_0_L2A/L2A_PVI.tif</td></tr>\n",
       "\t<tr><td>https://sentinel-cogs.s3.us-west-2.amazonaws.com/sentinel-s2-l2a-cogs/35/Q/PF/2020/3/S2A_35QPF_20200312_0_L2A/AOT.tif</td><td>https://sentinel-cogs.s3.us-west-2.amazonaws.com/sentinel-s2-l2a-cogs/35/Q/PF/2020/3/S2A_35QPF_20200312_0_L2A/B01.tif</td><td>https://sentinel-cogs.s3.us-west-2.amazonaws.com/sentinel-s2-l2a-cogs/35/Q/PF/2020/3/S2A_35QPF_20200312_0_L2A/B02.tif</td><td>https://sentinel-cogs.s3.us-west-2.amazonaws.com/sentinel-s2-l2a-cogs/35/Q/PF/2020/3/S2A_35QPF_20200312_0_L2A/B03.tif</td><td>https://sentinel-cogs.s3.us-west-2.amazonaws.com/sentinel-s2-l2a-cogs/35/Q/PF/2020/3/S2A_35QPF_20200312_0_L2A/B04.tif</td><td>https://sentinel-cogs.s3.us-west-2.amazonaws.com/sentinel-s2-l2a-cogs/35/Q/PF/2020/3/S2A_35QPF_20200312_0_L2A/B05.tif</td><td>https://sentinel-cogs.s3.us-west-2.amazonaws.com/sentinel-s2-l2a-cogs/35/Q/PF/2020/3/S2A_35QPF_20200312_0_L2A/B06.tif</td><td>https://sentinel-cogs.s3.us-west-2.amazonaws.com/sentinel-s2-l2a-cogs/35/Q/PF/2020/3/S2A_35QPF_20200312_0_L2A/B07.tif</td><td>https://sentinel-cogs.s3.us-west-2.amazonaws.com/sentinel-s2-l2a-cogs/35/Q/PF/2020/3/S2A_35QPF_20200312_0_L2A/B08.tif</td><td>https://sentinel-cogs.s3.us-west-2.amazonaws.com/sentinel-s2-l2a-cogs/35/Q/PF/2020/3/S2A_35QPF_20200312_0_L2A/B09.tif</td><td>https://sentinel-cogs.s3.us-west-2.amazonaws.com/sentinel-s2-l2a-cogs/35/Q/PF/2020/3/S2A_35QPF_20200312_0_L2A/B11.tif</td><td>https://sentinel-cogs.s3.us-west-2.amazonaws.com/sentinel-s2-l2a-cogs/35/Q/PF/2020/3/S2A_35QPF_20200312_0_L2A/B12.tif</td><td>https://sentinel-cogs.s3.us-west-2.amazonaws.com/sentinel-s2-l2a-cogs/35/Q/PF/2020/3/S2A_35QPF_20200312_0_L2A/B8A.tif</td><td>https://sentinel-cogs.s3.us-west-2.amazonaws.com/sentinel-s2-l2a-cogs/35/Q/PF/2020/3/S2A_35QPF_20200312_0_L2A/SCL.tif</td><td>https://sentinel-cogs.s3.us-west-2.amazonaws.com/sentinel-s2-l2a-cogs/35/Q/PF/2020/3/S2A_35QPF_20200312_0_L2A/WVP.tif</td><td>https://sentinel-cogs.s3.us-west-2.amazonaws.com/sentinel-s2-l2a-cogs/35/Q/PF/2020/3/S2A_35QPF_20200312_0_L2A/TCI.tif</td><td>https://sentinel-cogs.s3.us-west-2.amazonaws.com/sentinel-s2-l2a-cogs/35/Q/PF/2020/3/S2A_35QPF_20200312_0_L2A/L2A_PVI.tif</td></tr>\n",
       "\t<tr><td>https://sentinel-cogs.s3.us-west-2.amazonaws.com/sentinel-s2-l2a-cogs/35/Q/PF/2020/3/S2B_35QPF_20200317_0_L2A/AOT.tif</td><td>https://sentinel-cogs.s3.us-west-2.amazonaws.com/sentinel-s2-l2a-cogs/35/Q/PF/2020/3/S2B_35QPF_20200317_0_L2A/B01.tif</td><td>https://sentinel-cogs.s3.us-west-2.amazonaws.com/sentinel-s2-l2a-cogs/35/Q/PF/2020/3/S2B_35QPF_20200317_0_L2A/B02.tif</td><td>https://sentinel-cogs.s3.us-west-2.amazonaws.com/sentinel-s2-l2a-cogs/35/Q/PF/2020/3/S2B_35QPF_20200317_0_L2A/B03.tif</td><td>https://sentinel-cogs.s3.us-west-2.amazonaws.com/sentinel-s2-l2a-cogs/35/Q/PF/2020/3/S2B_35QPF_20200317_0_L2A/B04.tif</td><td>https://sentinel-cogs.s3.us-west-2.amazonaws.com/sentinel-s2-l2a-cogs/35/Q/PF/2020/3/S2B_35QPF_20200317_0_L2A/B05.tif</td><td>https://sentinel-cogs.s3.us-west-2.amazonaws.com/sentinel-s2-l2a-cogs/35/Q/PF/2020/3/S2B_35QPF_20200317_0_L2A/B06.tif</td><td>https://sentinel-cogs.s3.us-west-2.amazonaws.com/sentinel-s2-l2a-cogs/35/Q/PF/2020/3/S2B_35QPF_20200317_0_L2A/B07.tif</td><td>https://sentinel-cogs.s3.us-west-2.amazonaws.com/sentinel-s2-l2a-cogs/35/Q/PF/2020/3/S2B_35QPF_20200317_0_L2A/B08.tif</td><td>https://sentinel-cogs.s3.us-west-2.amazonaws.com/sentinel-s2-l2a-cogs/35/Q/PF/2020/3/S2B_35QPF_20200317_0_L2A/B09.tif</td><td>https://sentinel-cogs.s3.us-west-2.amazonaws.com/sentinel-s2-l2a-cogs/35/Q/PF/2020/3/S2B_35QPF_20200317_0_L2A/B11.tif</td><td>https://sentinel-cogs.s3.us-west-2.amazonaws.com/sentinel-s2-l2a-cogs/35/Q/PF/2020/3/S2B_35QPF_20200317_0_L2A/B12.tif</td><td>https://sentinel-cogs.s3.us-west-2.amazonaws.com/sentinel-s2-l2a-cogs/35/Q/PF/2020/3/S2B_35QPF_20200317_0_L2A/B8A.tif</td><td>https://sentinel-cogs.s3.us-west-2.amazonaws.com/sentinel-s2-l2a-cogs/35/Q/PF/2020/3/S2B_35QPF_20200317_0_L2A/SCL.tif</td><td>https://sentinel-cogs.s3.us-west-2.amazonaws.com/sentinel-s2-l2a-cogs/35/Q/PF/2020/3/S2B_35QPF_20200317_0_L2A/WVP.tif</td><td>https://sentinel-cogs.s3.us-west-2.amazonaws.com/sentinel-s2-l2a-cogs/35/Q/PF/2020/3/S2B_35QPF_20200317_0_L2A/TCI.tif</td><td>https://sentinel-cogs.s3.us-west-2.amazonaws.com/sentinel-s2-l2a-cogs/35/Q/PF/2020/3/S2B_35QPF_20200317_0_L2A/L2A_PVI.tif</td></tr>\n",
       "\t<tr><td>https://sentinel-cogs.s3.us-west-2.amazonaws.com/sentinel-s2-l2a-cogs/35/Q/PF/2020/1/S2A_35QPF_20200122_1_L2A/AOT.tif</td><td>https://sentinel-cogs.s3.us-west-2.amazonaws.com/sentinel-s2-l2a-cogs/35/Q/PF/2020/1/S2A_35QPF_20200122_1_L2A/B01.tif</td><td>https://sentinel-cogs.s3.us-west-2.amazonaws.com/sentinel-s2-l2a-cogs/35/Q/PF/2020/1/S2A_35QPF_20200122_1_L2A/B02.tif</td><td>https://sentinel-cogs.s3.us-west-2.amazonaws.com/sentinel-s2-l2a-cogs/35/Q/PF/2020/1/S2A_35QPF_20200122_1_L2A/B03.tif</td><td>https://sentinel-cogs.s3.us-west-2.amazonaws.com/sentinel-s2-l2a-cogs/35/Q/PF/2020/1/S2A_35QPF_20200122_1_L2A/B04.tif</td><td>https://sentinel-cogs.s3.us-west-2.amazonaws.com/sentinel-s2-l2a-cogs/35/Q/PF/2020/1/S2A_35QPF_20200122_1_L2A/B05.tif</td><td>https://sentinel-cogs.s3.us-west-2.amazonaws.com/sentinel-s2-l2a-cogs/35/Q/PF/2020/1/S2A_35QPF_20200122_1_L2A/B06.tif</td><td>https://sentinel-cogs.s3.us-west-2.amazonaws.com/sentinel-s2-l2a-cogs/35/Q/PF/2020/1/S2A_35QPF_20200122_1_L2A/B07.tif</td><td>https://sentinel-cogs.s3.us-west-2.amazonaws.com/sentinel-s2-l2a-cogs/35/Q/PF/2020/1/S2A_35QPF_20200122_1_L2A/B08.tif</td><td>https://sentinel-cogs.s3.us-west-2.amazonaws.com/sentinel-s2-l2a-cogs/35/Q/PF/2020/1/S2A_35QPF_20200122_1_L2A/B09.tif</td><td>https://sentinel-cogs.s3.us-west-2.amazonaws.com/sentinel-s2-l2a-cogs/35/Q/PF/2020/1/S2A_35QPF_20200122_1_L2A/B11.tif</td><td>https://sentinel-cogs.s3.us-west-2.amazonaws.com/sentinel-s2-l2a-cogs/35/Q/PF/2020/1/S2A_35QPF_20200122_1_L2A/B12.tif</td><td>https://sentinel-cogs.s3.us-west-2.amazonaws.com/sentinel-s2-l2a-cogs/35/Q/PF/2020/1/S2A_35QPF_20200122_1_L2A/B8A.tif</td><td>https://sentinel-cogs.s3.us-west-2.amazonaws.com/sentinel-s2-l2a-cogs/35/Q/PF/2020/1/S2A_35QPF_20200122_1_L2A/SCL.tif</td><td>https://sentinel-cogs.s3.us-west-2.amazonaws.com/sentinel-s2-l2a-cogs/35/Q/PF/2020/1/S2A_35QPF_20200122_1_L2A/WVP.tif</td><td>https://sentinel-cogs.s3.us-west-2.amazonaws.com/sentinel-s2-l2a-cogs/35/Q/PF/2020/1/S2A_35QPF_20200122_1_L2A/TCI.tif</td><td>https://sentinel-cogs.s3.us-west-2.amazonaws.com/sentinel-s2-l2a-cogs/35/Q/PF/2020/1/S2A_35QPF_20200122_1_L2A/L2A_PVI.tif</td></tr>\n",
       "\t<tr><td>https://sentinel-cogs.s3.us-west-2.amazonaws.com/sentinel-s2-l2a-cogs/35/Q/PF/2020/3/S2B_35QPF_20200327_0_L2A/AOT.tif</td><td>https://sentinel-cogs.s3.us-west-2.amazonaws.com/sentinel-s2-l2a-cogs/35/Q/PF/2020/3/S2B_35QPF_20200327_0_L2A/B01.tif</td><td>https://sentinel-cogs.s3.us-west-2.amazonaws.com/sentinel-s2-l2a-cogs/35/Q/PF/2020/3/S2B_35QPF_20200327_0_L2A/B02.tif</td><td>https://sentinel-cogs.s3.us-west-2.amazonaws.com/sentinel-s2-l2a-cogs/35/Q/PF/2020/3/S2B_35QPF_20200327_0_L2A/B03.tif</td><td>https://sentinel-cogs.s3.us-west-2.amazonaws.com/sentinel-s2-l2a-cogs/35/Q/PF/2020/3/S2B_35QPF_20200327_0_L2A/B04.tif</td><td>https://sentinel-cogs.s3.us-west-2.amazonaws.com/sentinel-s2-l2a-cogs/35/Q/PF/2020/3/S2B_35QPF_20200327_0_L2A/B05.tif</td><td>https://sentinel-cogs.s3.us-west-2.amazonaws.com/sentinel-s2-l2a-cogs/35/Q/PF/2020/3/S2B_35QPF_20200327_0_L2A/B06.tif</td><td>https://sentinel-cogs.s3.us-west-2.amazonaws.com/sentinel-s2-l2a-cogs/35/Q/PF/2020/3/S2B_35QPF_20200327_0_L2A/B07.tif</td><td>https://sentinel-cogs.s3.us-west-2.amazonaws.com/sentinel-s2-l2a-cogs/35/Q/PF/2020/3/S2B_35QPF_20200327_0_L2A/B08.tif</td><td>https://sentinel-cogs.s3.us-west-2.amazonaws.com/sentinel-s2-l2a-cogs/35/Q/PF/2020/3/S2B_35QPF_20200327_0_L2A/B09.tif</td><td>https://sentinel-cogs.s3.us-west-2.amazonaws.com/sentinel-s2-l2a-cogs/35/Q/PF/2020/3/S2B_35QPF_20200327_0_L2A/B11.tif</td><td>https://sentinel-cogs.s3.us-west-2.amazonaws.com/sentinel-s2-l2a-cogs/35/Q/PF/2020/3/S2B_35QPF_20200327_0_L2A/B12.tif</td><td>https://sentinel-cogs.s3.us-west-2.amazonaws.com/sentinel-s2-l2a-cogs/35/Q/PF/2020/3/S2B_35QPF_20200327_0_L2A/B8A.tif</td><td>https://sentinel-cogs.s3.us-west-2.amazonaws.com/sentinel-s2-l2a-cogs/35/Q/PF/2020/3/S2B_35QPF_20200327_0_L2A/SCL.tif</td><td>https://sentinel-cogs.s3.us-west-2.amazonaws.com/sentinel-s2-l2a-cogs/35/Q/PF/2020/3/S2B_35QPF_20200327_0_L2A/WVP.tif</td><td>https://sentinel-cogs.s3.us-west-2.amazonaws.com/sentinel-s2-l2a-cogs/35/Q/PF/2020/3/S2B_35QPF_20200327_0_L2A/TCI.tif</td><td>https://sentinel-cogs.s3.us-west-2.amazonaws.com/sentinel-s2-l2a-cogs/35/Q/PF/2020/3/S2B_35QPF_20200327_0_L2A/L2A_PVI.tif</td></tr>\n",
       "\t<tr><td>https://sentinel-cogs.s3.us-west-2.amazonaws.com/sentinel-s2-l2a-cogs/35/Q/PF/2020/2/S2B_35QPF_20200206_0_L2A/AOT.tif</td><td>https://sentinel-cogs.s3.us-west-2.amazonaws.com/sentinel-s2-l2a-cogs/35/Q/PF/2020/2/S2B_35QPF_20200206_0_L2A/B01.tif</td><td>https://sentinel-cogs.s3.us-west-2.amazonaws.com/sentinel-s2-l2a-cogs/35/Q/PF/2020/2/S2B_35QPF_20200206_0_L2A/B02.tif</td><td>https://sentinel-cogs.s3.us-west-2.amazonaws.com/sentinel-s2-l2a-cogs/35/Q/PF/2020/2/S2B_35QPF_20200206_0_L2A/B03.tif</td><td>https://sentinel-cogs.s3.us-west-2.amazonaws.com/sentinel-s2-l2a-cogs/35/Q/PF/2020/2/S2B_35QPF_20200206_0_L2A/B04.tif</td><td>https://sentinel-cogs.s3.us-west-2.amazonaws.com/sentinel-s2-l2a-cogs/35/Q/PF/2020/2/S2B_35QPF_20200206_0_L2A/B05.tif</td><td>https://sentinel-cogs.s3.us-west-2.amazonaws.com/sentinel-s2-l2a-cogs/35/Q/PF/2020/2/S2B_35QPF_20200206_0_L2A/B06.tif</td><td>https://sentinel-cogs.s3.us-west-2.amazonaws.com/sentinel-s2-l2a-cogs/35/Q/PF/2020/2/S2B_35QPF_20200206_0_L2A/B07.tif</td><td>https://sentinel-cogs.s3.us-west-2.amazonaws.com/sentinel-s2-l2a-cogs/35/Q/PF/2020/2/S2B_35QPF_20200206_0_L2A/B08.tif</td><td>https://sentinel-cogs.s3.us-west-2.amazonaws.com/sentinel-s2-l2a-cogs/35/Q/PF/2020/2/S2B_35QPF_20200206_0_L2A/B09.tif</td><td>https://sentinel-cogs.s3.us-west-2.amazonaws.com/sentinel-s2-l2a-cogs/35/Q/PF/2020/2/S2B_35QPF_20200206_0_L2A/B11.tif</td><td>https://sentinel-cogs.s3.us-west-2.amazonaws.com/sentinel-s2-l2a-cogs/35/Q/PF/2020/2/S2B_35QPF_20200206_0_L2A/B12.tif</td><td>https://sentinel-cogs.s3.us-west-2.amazonaws.com/sentinel-s2-l2a-cogs/35/Q/PF/2020/2/S2B_35QPF_20200206_0_L2A/B8A.tif</td><td>https://sentinel-cogs.s3.us-west-2.amazonaws.com/sentinel-s2-l2a-cogs/35/Q/PF/2020/2/S2B_35QPF_20200206_0_L2A/SCL.tif</td><td>https://sentinel-cogs.s3.us-west-2.amazonaws.com/sentinel-s2-l2a-cogs/35/Q/PF/2020/2/S2B_35QPF_20200206_0_L2A/WVP.tif</td><td>https://sentinel-cogs.s3.us-west-2.amazonaws.com/sentinel-s2-l2a-cogs/35/Q/PF/2020/2/S2B_35QPF_20200206_0_L2A/TCI.tif</td><td>https://sentinel-cogs.s3.us-west-2.amazonaws.com/sentinel-s2-l2a-cogs/35/Q/PF/2020/2/S2B_35QPF_20200206_0_L2A/L2A_PVI.tif</td></tr>\n",
       "\t<tr><td>https://sentinel-cogs.s3.us-west-2.amazonaws.com/sentinel-s2-l2a-cogs/35/Q/PF/2020/2/S2A_35QPF_20200211_0_L2A/AOT.tif</td><td>https://sentinel-cogs.s3.us-west-2.amazonaws.com/sentinel-s2-l2a-cogs/35/Q/PF/2020/2/S2A_35QPF_20200211_0_L2A/B01.tif</td><td>https://sentinel-cogs.s3.us-west-2.amazonaws.com/sentinel-s2-l2a-cogs/35/Q/PF/2020/2/S2A_35QPF_20200211_0_L2A/B02.tif</td><td>https://sentinel-cogs.s3.us-west-2.amazonaws.com/sentinel-s2-l2a-cogs/35/Q/PF/2020/2/S2A_35QPF_20200211_0_L2A/B03.tif</td><td>https://sentinel-cogs.s3.us-west-2.amazonaws.com/sentinel-s2-l2a-cogs/35/Q/PF/2020/2/S2A_35QPF_20200211_0_L2A/B04.tif</td><td>https://sentinel-cogs.s3.us-west-2.amazonaws.com/sentinel-s2-l2a-cogs/35/Q/PF/2020/2/S2A_35QPF_20200211_0_L2A/B05.tif</td><td>https://sentinel-cogs.s3.us-west-2.amazonaws.com/sentinel-s2-l2a-cogs/35/Q/PF/2020/2/S2A_35QPF_20200211_0_L2A/B06.tif</td><td>https://sentinel-cogs.s3.us-west-2.amazonaws.com/sentinel-s2-l2a-cogs/35/Q/PF/2020/2/S2A_35QPF_20200211_0_L2A/B07.tif</td><td>https://sentinel-cogs.s3.us-west-2.amazonaws.com/sentinel-s2-l2a-cogs/35/Q/PF/2020/2/S2A_35QPF_20200211_0_L2A/B08.tif</td><td>https://sentinel-cogs.s3.us-west-2.amazonaws.com/sentinel-s2-l2a-cogs/35/Q/PF/2020/2/S2A_35QPF_20200211_0_L2A/B09.tif</td><td>https://sentinel-cogs.s3.us-west-2.amazonaws.com/sentinel-s2-l2a-cogs/35/Q/PF/2020/2/S2A_35QPF_20200211_0_L2A/B11.tif</td><td>https://sentinel-cogs.s3.us-west-2.amazonaws.com/sentinel-s2-l2a-cogs/35/Q/PF/2020/2/S2A_35QPF_20200211_0_L2A/B12.tif</td><td>https://sentinel-cogs.s3.us-west-2.amazonaws.com/sentinel-s2-l2a-cogs/35/Q/PF/2020/2/S2A_35QPF_20200211_0_L2A/B8A.tif</td><td>https://sentinel-cogs.s3.us-west-2.amazonaws.com/sentinel-s2-l2a-cogs/35/Q/PF/2020/2/S2A_35QPF_20200211_0_L2A/SCL.tif</td><td>https://sentinel-cogs.s3.us-west-2.amazonaws.com/sentinel-s2-l2a-cogs/35/Q/PF/2020/2/S2A_35QPF_20200211_0_L2A/WVP.tif</td><td>https://sentinel-cogs.s3.us-west-2.amazonaws.com/sentinel-s2-l2a-cogs/35/Q/PF/2020/2/S2A_35QPF_20200211_0_L2A/TCI.tif</td><td>https://sentinel-cogs.s3.us-west-2.amazonaws.com/sentinel-s2-l2a-cogs/35/Q/PF/2020/2/S2A_35QPF_20200211_0_L2A/L2A_PVI.tif</td></tr>\n",
       "\t<tr><td>https://sentinel-cogs.s3.us-west-2.amazonaws.com/sentinel-s2-l2a-cogs/35/Q/PF/2020/2/S2A_35QPF_20200221_0_L2A/AOT.tif</td><td>https://sentinel-cogs.s3.us-west-2.amazonaws.com/sentinel-s2-l2a-cogs/35/Q/PF/2020/2/S2A_35QPF_20200221_0_L2A/B01.tif</td><td>https://sentinel-cogs.s3.us-west-2.amazonaws.com/sentinel-s2-l2a-cogs/35/Q/PF/2020/2/S2A_35QPF_20200221_0_L2A/B02.tif</td><td>https://sentinel-cogs.s3.us-west-2.amazonaws.com/sentinel-s2-l2a-cogs/35/Q/PF/2020/2/S2A_35QPF_20200221_0_L2A/B03.tif</td><td>https://sentinel-cogs.s3.us-west-2.amazonaws.com/sentinel-s2-l2a-cogs/35/Q/PF/2020/2/S2A_35QPF_20200221_0_L2A/B04.tif</td><td>https://sentinel-cogs.s3.us-west-2.amazonaws.com/sentinel-s2-l2a-cogs/35/Q/PF/2020/2/S2A_35QPF_20200221_0_L2A/B05.tif</td><td>https://sentinel-cogs.s3.us-west-2.amazonaws.com/sentinel-s2-l2a-cogs/35/Q/PF/2020/2/S2A_35QPF_20200221_0_L2A/B06.tif</td><td>https://sentinel-cogs.s3.us-west-2.amazonaws.com/sentinel-s2-l2a-cogs/35/Q/PF/2020/2/S2A_35QPF_20200221_0_L2A/B07.tif</td><td>https://sentinel-cogs.s3.us-west-2.amazonaws.com/sentinel-s2-l2a-cogs/35/Q/PF/2020/2/S2A_35QPF_20200221_0_L2A/B08.tif</td><td>https://sentinel-cogs.s3.us-west-2.amazonaws.com/sentinel-s2-l2a-cogs/35/Q/PF/2020/2/S2A_35QPF_20200221_0_L2A/B09.tif</td><td>https://sentinel-cogs.s3.us-west-2.amazonaws.com/sentinel-s2-l2a-cogs/35/Q/PF/2020/2/S2A_35QPF_20200221_0_L2A/B11.tif</td><td>https://sentinel-cogs.s3.us-west-2.amazonaws.com/sentinel-s2-l2a-cogs/35/Q/PF/2020/2/S2A_35QPF_20200221_0_L2A/B12.tif</td><td>https://sentinel-cogs.s3.us-west-2.amazonaws.com/sentinel-s2-l2a-cogs/35/Q/PF/2020/2/S2A_35QPF_20200221_0_L2A/B8A.tif</td><td>https://sentinel-cogs.s3.us-west-2.amazonaws.com/sentinel-s2-l2a-cogs/35/Q/PF/2020/2/S2A_35QPF_20200221_0_L2A/SCL.tif</td><td>https://sentinel-cogs.s3.us-west-2.amazonaws.com/sentinel-s2-l2a-cogs/35/Q/PF/2020/2/S2A_35QPF_20200221_0_L2A/WVP.tif</td><td>https://sentinel-cogs.s3.us-west-2.amazonaws.com/sentinel-s2-l2a-cogs/35/Q/PF/2020/2/S2A_35QPF_20200221_0_L2A/TCI.tif</td><td>https://sentinel-cogs.s3.us-west-2.amazonaws.com/sentinel-s2-l2a-cogs/35/Q/PF/2020/2/S2A_35QPF_20200221_0_L2A/L2A_PVI.tif</td></tr>\n",
       "\t<tr><td>https://sentinel-cogs.s3.us-west-2.amazonaws.com/sentinel-s2-l2a-cogs/35/Q/PF/2020/1/S2B_35QPF_20200107_0_L2A/AOT.tif</td><td>https://sentinel-cogs.s3.us-west-2.amazonaws.com/sentinel-s2-l2a-cogs/35/Q/PF/2020/1/S2B_35QPF_20200107_0_L2A/B01.tif</td><td>https://sentinel-cogs.s3.us-west-2.amazonaws.com/sentinel-s2-l2a-cogs/35/Q/PF/2020/1/S2B_35QPF_20200107_0_L2A/B02.tif</td><td>https://sentinel-cogs.s3.us-west-2.amazonaws.com/sentinel-s2-l2a-cogs/35/Q/PF/2020/1/S2B_35QPF_20200107_0_L2A/B03.tif</td><td>https://sentinel-cogs.s3.us-west-2.amazonaws.com/sentinel-s2-l2a-cogs/35/Q/PF/2020/1/S2B_35QPF_20200107_0_L2A/B04.tif</td><td>https://sentinel-cogs.s3.us-west-2.amazonaws.com/sentinel-s2-l2a-cogs/35/Q/PF/2020/1/S2B_35QPF_20200107_0_L2A/B05.tif</td><td>https://sentinel-cogs.s3.us-west-2.amazonaws.com/sentinel-s2-l2a-cogs/35/Q/PF/2020/1/S2B_35QPF_20200107_0_L2A/B06.tif</td><td>https://sentinel-cogs.s3.us-west-2.amazonaws.com/sentinel-s2-l2a-cogs/35/Q/PF/2020/1/S2B_35QPF_20200107_0_L2A/B07.tif</td><td>https://sentinel-cogs.s3.us-west-2.amazonaws.com/sentinel-s2-l2a-cogs/35/Q/PF/2020/1/S2B_35QPF_20200107_0_L2A/B08.tif</td><td>https://sentinel-cogs.s3.us-west-2.amazonaws.com/sentinel-s2-l2a-cogs/35/Q/PF/2020/1/S2B_35QPF_20200107_0_L2A/B09.tif</td><td>https://sentinel-cogs.s3.us-west-2.amazonaws.com/sentinel-s2-l2a-cogs/35/Q/PF/2020/1/S2B_35QPF_20200107_0_L2A/B11.tif</td><td>https://sentinel-cogs.s3.us-west-2.amazonaws.com/sentinel-s2-l2a-cogs/35/Q/PF/2020/1/S2B_35QPF_20200107_0_L2A/B12.tif</td><td>https://sentinel-cogs.s3.us-west-2.amazonaws.com/sentinel-s2-l2a-cogs/35/Q/PF/2020/1/S2B_35QPF_20200107_0_L2A/B8A.tif</td><td>https://sentinel-cogs.s3.us-west-2.amazonaws.com/sentinel-s2-l2a-cogs/35/Q/PF/2020/1/S2B_35QPF_20200107_0_L2A/SCL.tif</td><td>https://sentinel-cogs.s3.us-west-2.amazonaws.com/sentinel-s2-l2a-cogs/35/Q/PF/2020/1/S2B_35QPF_20200107_0_L2A/WVP.tif</td><td>https://sentinel-cogs.s3.us-west-2.amazonaws.com/sentinel-s2-l2a-cogs/35/Q/PF/2020/1/S2B_35QPF_20200107_0_L2A/TCI.tif</td><td>https://sentinel-cogs.s3.us-west-2.amazonaws.com/sentinel-s2-l2a-cogs/35/Q/PF/2020/1/S2B_35QPF_20200107_0_L2A/L2A_PVI.tif</td></tr>\n",
       "\t<tr><td>https://sentinel-cogs.s3.us-west-2.amazonaws.com/sentinel-s2-l2a-cogs/35/Q/PF/2020/2/S2B_35QPF_20200226_0_L2A/AOT.tif</td><td>https://sentinel-cogs.s3.us-west-2.amazonaws.com/sentinel-s2-l2a-cogs/35/Q/PF/2020/2/S2B_35QPF_20200226_0_L2A/B01.tif</td><td>https://sentinel-cogs.s3.us-west-2.amazonaws.com/sentinel-s2-l2a-cogs/35/Q/PF/2020/2/S2B_35QPF_20200226_0_L2A/B02.tif</td><td>https://sentinel-cogs.s3.us-west-2.amazonaws.com/sentinel-s2-l2a-cogs/35/Q/PF/2020/2/S2B_35QPF_20200226_0_L2A/B03.tif</td><td>https://sentinel-cogs.s3.us-west-2.amazonaws.com/sentinel-s2-l2a-cogs/35/Q/PF/2020/2/S2B_35QPF_20200226_0_L2A/B04.tif</td><td>https://sentinel-cogs.s3.us-west-2.amazonaws.com/sentinel-s2-l2a-cogs/35/Q/PF/2020/2/S2B_35QPF_20200226_0_L2A/B05.tif</td><td>https://sentinel-cogs.s3.us-west-2.amazonaws.com/sentinel-s2-l2a-cogs/35/Q/PF/2020/2/S2B_35QPF_20200226_0_L2A/B06.tif</td><td>https://sentinel-cogs.s3.us-west-2.amazonaws.com/sentinel-s2-l2a-cogs/35/Q/PF/2020/2/S2B_35QPF_20200226_0_L2A/B07.tif</td><td>https://sentinel-cogs.s3.us-west-2.amazonaws.com/sentinel-s2-l2a-cogs/35/Q/PF/2020/2/S2B_35QPF_20200226_0_L2A/B08.tif</td><td>https://sentinel-cogs.s3.us-west-2.amazonaws.com/sentinel-s2-l2a-cogs/35/Q/PF/2020/2/S2B_35QPF_20200226_0_L2A/B09.tif</td><td>https://sentinel-cogs.s3.us-west-2.amazonaws.com/sentinel-s2-l2a-cogs/35/Q/PF/2020/2/S2B_35QPF_20200226_0_L2A/B11.tif</td><td>https://sentinel-cogs.s3.us-west-2.amazonaws.com/sentinel-s2-l2a-cogs/35/Q/PF/2020/2/S2B_35QPF_20200226_0_L2A/B12.tif</td><td>https://sentinel-cogs.s3.us-west-2.amazonaws.com/sentinel-s2-l2a-cogs/35/Q/PF/2020/2/S2B_35QPF_20200226_0_L2A/B8A.tif</td><td>https://sentinel-cogs.s3.us-west-2.amazonaws.com/sentinel-s2-l2a-cogs/35/Q/PF/2020/2/S2B_35QPF_20200226_0_L2A/SCL.tif</td><td>https://sentinel-cogs.s3.us-west-2.amazonaws.com/sentinel-s2-l2a-cogs/35/Q/PF/2020/2/S2B_35QPF_20200226_0_L2A/WVP.tif</td><td>https://sentinel-cogs.s3.us-west-2.amazonaws.com/sentinel-s2-l2a-cogs/35/Q/PF/2020/2/S2B_35QPF_20200226_0_L2A/TCI.tif</td><td>https://sentinel-cogs.s3.us-west-2.amazonaws.com/sentinel-s2-l2a-cogs/35/Q/PF/2020/2/S2B_35QPF_20200226_0_L2A/L2A_PVI.tif</td></tr>\n",
       "\t<tr><td>https://sentinel-cogs.s3.us-west-2.amazonaws.com/sentinel-s2-l2a-cogs/35/Q/PF/2020/3/S2A_35QPF_20200302_0_L2A/AOT.tif</td><td>https://sentinel-cogs.s3.us-west-2.amazonaws.com/sentinel-s2-l2a-cogs/35/Q/PF/2020/3/S2A_35QPF_20200302_0_L2A/B01.tif</td><td>https://sentinel-cogs.s3.us-west-2.amazonaws.com/sentinel-s2-l2a-cogs/35/Q/PF/2020/3/S2A_35QPF_20200302_0_L2A/B02.tif</td><td>https://sentinel-cogs.s3.us-west-2.amazonaws.com/sentinel-s2-l2a-cogs/35/Q/PF/2020/3/S2A_35QPF_20200302_0_L2A/B03.tif</td><td>https://sentinel-cogs.s3.us-west-2.amazonaws.com/sentinel-s2-l2a-cogs/35/Q/PF/2020/3/S2A_35QPF_20200302_0_L2A/B04.tif</td><td>https://sentinel-cogs.s3.us-west-2.amazonaws.com/sentinel-s2-l2a-cogs/35/Q/PF/2020/3/S2A_35QPF_20200302_0_L2A/B05.tif</td><td>https://sentinel-cogs.s3.us-west-2.amazonaws.com/sentinel-s2-l2a-cogs/35/Q/PF/2020/3/S2A_35QPF_20200302_0_L2A/B06.tif</td><td>https://sentinel-cogs.s3.us-west-2.amazonaws.com/sentinel-s2-l2a-cogs/35/Q/PF/2020/3/S2A_35QPF_20200302_0_L2A/B07.tif</td><td>https://sentinel-cogs.s3.us-west-2.amazonaws.com/sentinel-s2-l2a-cogs/35/Q/PF/2020/3/S2A_35QPF_20200302_0_L2A/B08.tif</td><td>https://sentinel-cogs.s3.us-west-2.amazonaws.com/sentinel-s2-l2a-cogs/35/Q/PF/2020/3/S2A_35QPF_20200302_0_L2A/B09.tif</td><td>https://sentinel-cogs.s3.us-west-2.amazonaws.com/sentinel-s2-l2a-cogs/35/Q/PF/2020/3/S2A_35QPF_20200302_0_L2A/B11.tif</td><td>https://sentinel-cogs.s3.us-west-2.amazonaws.com/sentinel-s2-l2a-cogs/35/Q/PF/2020/3/S2A_35QPF_20200302_0_L2A/B12.tif</td><td>https://sentinel-cogs.s3.us-west-2.amazonaws.com/sentinel-s2-l2a-cogs/35/Q/PF/2020/3/S2A_35QPF_20200302_0_L2A/B8A.tif</td><td>https://sentinel-cogs.s3.us-west-2.amazonaws.com/sentinel-s2-l2a-cogs/35/Q/PF/2020/3/S2A_35QPF_20200302_0_L2A/SCL.tif</td><td>https://sentinel-cogs.s3.us-west-2.amazonaws.com/sentinel-s2-l2a-cogs/35/Q/PF/2020/3/S2A_35QPF_20200302_0_L2A/WVP.tif</td><td>https://sentinel-cogs.s3.us-west-2.amazonaws.com/sentinel-s2-l2a-cogs/35/Q/PF/2020/3/S2A_35QPF_20200302_0_L2A/TCI.tif</td><td>https://sentinel-cogs.s3.us-west-2.amazonaws.com/sentinel-s2-l2a-cogs/35/Q/PF/2020/3/S2A_35QPF_20200302_0_L2A/L2A_PVI.tif</td></tr>\n",
       "\t<tr><td>https://sentinel-cogs.s3.us-west-2.amazonaws.com/sentinel-s2-l2a-cogs/35/Q/PF/2020/1/S2B_35QPF_20200127_1_L2A/AOT.tif</td><td>https://sentinel-cogs.s3.us-west-2.amazonaws.com/sentinel-s2-l2a-cogs/35/Q/PF/2020/1/S2B_35QPF_20200127_1_L2A/B01.tif</td><td>https://sentinel-cogs.s3.us-west-2.amazonaws.com/sentinel-s2-l2a-cogs/35/Q/PF/2020/1/S2B_35QPF_20200127_1_L2A/B02.tif</td><td>https://sentinel-cogs.s3.us-west-2.amazonaws.com/sentinel-s2-l2a-cogs/35/Q/PF/2020/1/S2B_35QPF_20200127_1_L2A/B03.tif</td><td>https://sentinel-cogs.s3.us-west-2.amazonaws.com/sentinel-s2-l2a-cogs/35/Q/PF/2020/1/S2B_35QPF_20200127_1_L2A/B04.tif</td><td>https://sentinel-cogs.s3.us-west-2.amazonaws.com/sentinel-s2-l2a-cogs/35/Q/PF/2020/1/S2B_35QPF_20200127_1_L2A/B05.tif</td><td>https://sentinel-cogs.s3.us-west-2.amazonaws.com/sentinel-s2-l2a-cogs/35/Q/PF/2020/1/S2B_35QPF_20200127_1_L2A/B06.tif</td><td>https://sentinel-cogs.s3.us-west-2.amazonaws.com/sentinel-s2-l2a-cogs/35/Q/PF/2020/1/S2B_35QPF_20200127_1_L2A/B07.tif</td><td>https://sentinel-cogs.s3.us-west-2.amazonaws.com/sentinel-s2-l2a-cogs/35/Q/PF/2020/1/S2B_35QPF_20200127_1_L2A/B08.tif</td><td>https://sentinel-cogs.s3.us-west-2.amazonaws.com/sentinel-s2-l2a-cogs/35/Q/PF/2020/1/S2B_35QPF_20200127_1_L2A/B09.tif</td><td>https://sentinel-cogs.s3.us-west-2.amazonaws.com/sentinel-s2-l2a-cogs/35/Q/PF/2020/1/S2B_35QPF_20200127_1_L2A/B11.tif</td><td>https://sentinel-cogs.s3.us-west-2.amazonaws.com/sentinel-s2-l2a-cogs/35/Q/PF/2020/1/S2B_35QPF_20200127_1_L2A/B12.tif</td><td>https://sentinel-cogs.s3.us-west-2.amazonaws.com/sentinel-s2-l2a-cogs/35/Q/PF/2020/1/S2B_35QPF_20200127_1_L2A/B8A.tif</td><td>https://sentinel-cogs.s3.us-west-2.amazonaws.com/sentinel-s2-l2a-cogs/35/Q/PF/2020/1/S2B_35QPF_20200127_1_L2A/SCL.tif</td><td>https://sentinel-cogs.s3.us-west-2.amazonaws.com/sentinel-s2-l2a-cogs/35/Q/PF/2020/1/S2B_35QPF_20200127_1_L2A/WVP.tif</td><td>https://sentinel-cogs.s3.us-west-2.amazonaws.com/sentinel-s2-l2a-cogs/35/Q/PF/2020/1/S2B_35QPF_20200127_1_L2A/TCI.tif</td><td>https://sentinel-cogs.s3.us-west-2.amazonaws.com/sentinel-s2-l2a-cogs/35/Q/PF/2020/1/S2B_35QPF_20200127_1_L2A/L2A_PVI.tif</td></tr>\n",
       "\t<tr><td>https://sentinel-cogs.s3.us-west-2.amazonaws.com/sentinel-s2-l2a-cogs/35/Q/PF/2020/2/S2A_35QPF_20200201_0_L2A/AOT.tif</td><td>https://sentinel-cogs.s3.us-west-2.amazonaws.com/sentinel-s2-l2a-cogs/35/Q/PF/2020/2/S2A_35QPF_20200201_0_L2A/B01.tif</td><td>https://sentinel-cogs.s3.us-west-2.amazonaws.com/sentinel-s2-l2a-cogs/35/Q/PF/2020/2/S2A_35QPF_20200201_0_L2A/B02.tif</td><td>https://sentinel-cogs.s3.us-west-2.amazonaws.com/sentinel-s2-l2a-cogs/35/Q/PF/2020/2/S2A_35QPF_20200201_0_L2A/B03.tif</td><td>https://sentinel-cogs.s3.us-west-2.amazonaws.com/sentinel-s2-l2a-cogs/35/Q/PF/2020/2/S2A_35QPF_20200201_0_L2A/B04.tif</td><td>https://sentinel-cogs.s3.us-west-2.amazonaws.com/sentinel-s2-l2a-cogs/35/Q/PF/2020/2/S2A_35QPF_20200201_0_L2A/B05.tif</td><td>https://sentinel-cogs.s3.us-west-2.amazonaws.com/sentinel-s2-l2a-cogs/35/Q/PF/2020/2/S2A_35QPF_20200201_0_L2A/B06.tif</td><td>https://sentinel-cogs.s3.us-west-2.amazonaws.com/sentinel-s2-l2a-cogs/35/Q/PF/2020/2/S2A_35QPF_20200201_0_L2A/B07.tif</td><td>https://sentinel-cogs.s3.us-west-2.amazonaws.com/sentinel-s2-l2a-cogs/35/Q/PF/2020/2/S2A_35QPF_20200201_0_L2A/B08.tif</td><td>https://sentinel-cogs.s3.us-west-2.amazonaws.com/sentinel-s2-l2a-cogs/35/Q/PF/2020/2/S2A_35QPF_20200201_0_L2A/B09.tif</td><td>https://sentinel-cogs.s3.us-west-2.amazonaws.com/sentinel-s2-l2a-cogs/35/Q/PF/2020/2/S2A_35QPF_20200201_0_L2A/B11.tif</td><td>https://sentinel-cogs.s3.us-west-2.amazonaws.com/sentinel-s2-l2a-cogs/35/Q/PF/2020/2/S2A_35QPF_20200201_0_L2A/B12.tif</td><td>https://sentinel-cogs.s3.us-west-2.amazonaws.com/sentinel-s2-l2a-cogs/35/Q/PF/2020/2/S2A_35QPF_20200201_0_L2A/B8A.tif</td><td>https://sentinel-cogs.s3.us-west-2.amazonaws.com/sentinel-s2-l2a-cogs/35/Q/PF/2020/2/S2A_35QPF_20200201_0_L2A/SCL.tif</td><td>https://sentinel-cogs.s3.us-west-2.amazonaws.com/sentinel-s2-l2a-cogs/35/Q/PF/2020/2/S2A_35QPF_20200201_0_L2A/WVP.tif</td><td>https://sentinel-cogs.s3.us-west-2.amazonaws.com/sentinel-s2-l2a-cogs/35/Q/PF/2020/2/S2A_35QPF_20200201_0_L2A/TCI.tif</td><td>https://sentinel-cogs.s3.us-west-2.amazonaws.com/sentinel-s2-l2a-cogs/35/Q/PF/2020/2/S2A_35QPF_20200201_0_L2A/L2A_PVI.tif</td></tr>\n",
       "\t<tr><td>https://sentinel-cogs.s3.us-west-2.amazonaws.com/sentinel-s2-l2a-cogs/35/Q/PF/2020/3/S2A_35QPF_20200322_0_L2A/AOT.tif</td><td>https://sentinel-cogs.s3.us-west-2.amazonaws.com/sentinel-s2-l2a-cogs/35/Q/PF/2020/3/S2A_35QPF_20200322_0_L2A/B01.tif</td><td>https://sentinel-cogs.s3.us-west-2.amazonaws.com/sentinel-s2-l2a-cogs/35/Q/PF/2020/3/S2A_35QPF_20200322_0_L2A/B02.tif</td><td>https://sentinel-cogs.s3.us-west-2.amazonaws.com/sentinel-s2-l2a-cogs/35/Q/PF/2020/3/S2A_35QPF_20200322_0_L2A/B03.tif</td><td>https://sentinel-cogs.s3.us-west-2.amazonaws.com/sentinel-s2-l2a-cogs/35/Q/PF/2020/3/S2A_35QPF_20200322_0_L2A/B04.tif</td><td>https://sentinel-cogs.s3.us-west-2.amazonaws.com/sentinel-s2-l2a-cogs/35/Q/PF/2020/3/S2A_35QPF_20200322_0_L2A/B05.tif</td><td>https://sentinel-cogs.s3.us-west-2.amazonaws.com/sentinel-s2-l2a-cogs/35/Q/PF/2020/3/S2A_35QPF_20200322_0_L2A/B06.tif</td><td>https://sentinel-cogs.s3.us-west-2.amazonaws.com/sentinel-s2-l2a-cogs/35/Q/PF/2020/3/S2A_35QPF_20200322_0_L2A/B07.tif</td><td>https://sentinel-cogs.s3.us-west-2.amazonaws.com/sentinel-s2-l2a-cogs/35/Q/PF/2020/3/S2A_35QPF_20200322_0_L2A/B08.tif</td><td>https://sentinel-cogs.s3.us-west-2.amazonaws.com/sentinel-s2-l2a-cogs/35/Q/PF/2020/3/S2A_35QPF_20200322_0_L2A/B09.tif</td><td>https://sentinel-cogs.s3.us-west-2.amazonaws.com/sentinel-s2-l2a-cogs/35/Q/PF/2020/3/S2A_35QPF_20200322_0_L2A/B11.tif</td><td>https://sentinel-cogs.s3.us-west-2.amazonaws.com/sentinel-s2-l2a-cogs/35/Q/PF/2020/3/S2A_35QPF_20200322_0_L2A/B12.tif</td><td>https://sentinel-cogs.s3.us-west-2.amazonaws.com/sentinel-s2-l2a-cogs/35/Q/PF/2020/3/S2A_35QPF_20200322_0_L2A/B8A.tif</td><td>https://sentinel-cogs.s3.us-west-2.amazonaws.com/sentinel-s2-l2a-cogs/35/Q/PF/2020/3/S2A_35QPF_20200322_0_L2A/SCL.tif</td><td>https://sentinel-cogs.s3.us-west-2.amazonaws.com/sentinel-s2-l2a-cogs/35/Q/PF/2020/3/S2A_35QPF_20200322_0_L2A/WVP.tif</td><td>https://sentinel-cogs.s3.us-west-2.amazonaws.com/sentinel-s2-l2a-cogs/35/Q/PF/2020/3/S2A_35QPF_20200322_0_L2A/TCI.tif</td><td>https://sentinel-cogs.s3.us-west-2.amazonaws.com/sentinel-s2-l2a-cogs/35/Q/PF/2020/3/S2A_35QPF_20200322_0_L2A/L2A_PVI.tif</td></tr>\n",
       "\t<tr><td>https://sentinel-cogs.s3.us-west-2.amazonaws.com/sentinel-s2-l2a-cogs/35/Q/PF/2020/2/S2B_35QPF_20200216_0_L2A/AOT.tif</td><td>https://sentinel-cogs.s3.us-west-2.amazonaws.com/sentinel-s2-l2a-cogs/35/Q/PF/2020/2/S2B_35QPF_20200216_0_L2A/B01.tif</td><td>https://sentinel-cogs.s3.us-west-2.amazonaws.com/sentinel-s2-l2a-cogs/35/Q/PF/2020/2/S2B_35QPF_20200216_0_L2A/B02.tif</td><td>https://sentinel-cogs.s3.us-west-2.amazonaws.com/sentinel-s2-l2a-cogs/35/Q/PF/2020/2/S2B_35QPF_20200216_0_L2A/B03.tif</td><td>https://sentinel-cogs.s3.us-west-2.amazonaws.com/sentinel-s2-l2a-cogs/35/Q/PF/2020/2/S2B_35QPF_20200216_0_L2A/B04.tif</td><td>https://sentinel-cogs.s3.us-west-2.amazonaws.com/sentinel-s2-l2a-cogs/35/Q/PF/2020/2/S2B_35QPF_20200216_0_L2A/B05.tif</td><td>https://sentinel-cogs.s3.us-west-2.amazonaws.com/sentinel-s2-l2a-cogs/35/Q/PF/2020/2/S2B_35QPF_20200216_0_L2A/B06.tif</td><td>https://sentinel-cogs.s3.us-west-2.amazonaws.com/sentinel-s2-l2a-cogs/35/Q/PF/2020/2/S2B_35QPF_20200216_0_L2A/B07.tif</td><td>https://sentinel-cogs.s3.us-west-2.amazonaws.com/sentinel-s2-l2a-cogs/35/Q/PF/2020/2/S2B_35QPF_20200216_0_L2A/B08.tif</td><td>https://sentinel-cogs.s3.us-west-2.amazonaws.com/sentinel-s2-l2a-cogs/35/Q/PF/2020/2/S2B_35QPF_20200216_0_L2A/B09.tif</td><td>https://sentinel-cogs.s3.us-west-2.amazonaws.com/sentinel-s2-l2a-cogs/35/Q/PF/2020/2/S2B_35QPF_20200216_0_L2A/B11.tif</td><td>https://sentinel-cogs.s3.us-west-2.amazonaws.com/sentinel-s2-l2a-cogs/35/Q/PF/2020/2/S2B_35QPF_20200216_0_L2A/B12.tif</td><td>https://sentinel-cogs.s3.us-west-2.amazonaws.com/sentinel-s2-l2a-cogs/35/Q/PF/2020/2/S2B_35QPF_20200216_0_L2A/B8A.tif</td><td>https://sentinel-cogs.s3.us-west-2.amazonaws.com/sentinel-s2-l2a-cogs/35/Q/PF/2020/2/S2B_35QPF_20200216_0_L2A/SCL.tif</td><td>https://sentinel-cogs.s3.us-west-2.amazonaws.com/sentinel-s2-l2a-cogs/35/Q/PF/2020/2/S2B_35QPF_20200216_0_L2A/WVP.tif</td><td>https://sentinel-cogs.s3.us-west-2.amazonaws.com/sentinel-s2-l2a-cogs/35/Q/PF/2020/2/S2B_35QPF_20200216_0_L2A/TCI.tif</td><td>https://sentinel-cogs.s3.us-west-2.amazonaws.com/sentinel-s2-l2a-cogs/35/Q/PF/2020/2/S2B_35QPF_20200216_0_L2A/L2A_PVI.tif</td></tr>\n",
       "\t<tr><td>https://sentinel-cogs.s3.us-west-2.amazonaws.com/sentinel-s2-l2a-cogs/35/Q/PF/2020/1/S2A_35QPF_20200112_0_L2A/AOT.tif</td><td>https://sentinel-cogs.s3.us-west-2.amazonaws.com/sentinel-s2-l2a-cogs/35/Q/PF/2020/1/S2A_35QPF_20200112_0_L2A/B01.tif</td><td>https://sentinel-cogs.s3.us-west-2.amazonaws.com/sentinel-s2-l2a-cogs/35/Q/PF/2020/1/S2A_35QPF_20200112_0_L2A/B02.tif</td><td>https://sentinel-cogs.s3.us-west-2.amazonaws.com/sentinel-s2-l2a-cogs/35/Q/PF/2020/1/S2A_35QPF_20200112_0_L2A/B03.tif</td><td>https://sentinel-cogs.s3.us-west-2.amazonaws.com/sentinel-s2-l2a-cogs/35/Q/PF/2020/1/S2A_35QPF_20200112_0_L2A/B04.tif</td><td>https://sentinel-cogs.s3.us-west-2.amazonaws.com/sentinel-s2-l2a-cogs/35/Q/PF/2020/1/S2A_35QPF_20200112_0_L2A/B05.tif</td><td>https://sentinel-cogs.s3.us-west-2.amazonaws.com/sentinel-s2-l2a-cogs/35/Q/PF/2020/1/S2A_35QPF_20200112_0_L2A/B06.tif</td><td>https://sentinel-cogs.s3.us-west-2.amazonaws.com/sentinel-s2-l2a-cogs/35/Q/PF/2020/1/S2A_35QPF_20200112_0_L2A/B07.tif</td><td>https://sentinel-cogs.s3.us-west-2.amazonaws.com/sentinel-s2-l2a-cogs/35/Q/PF/2020/1/S2A_35QPF_20200112_0_L2A/B08.tif</td><td>https://sentinel-cogs.s3.us-west-2.amazonaws.com/sentinel-s2-l2a-cogs/35/Q/PF/2020/1/S2A_35QPF_20200112_0_L2A/B09.tif</td><td>https://sentinel-cogs.s3.us-west-2.amazonaws.com/sentinel-s2-l2a-cogs/35/Q/PF/2020/1/S2A_35QPF_20200112_0_L2A/B11.tif</td><td>https://sentinel-cogs.s3.us-west-2.amazonaws.com/sentinel-s2-l2a-cogs/35/Q/PF/2020/1/S2A_35QPF_20200112_0_L2A/B12.tif</td><td>https://sentinel-cogs.s3.us-west-2.amazonaws.com/sentinel-s2-l2a-cogs/35/Q/PF/2020/1/S2A_35QPF_20200112_0_L2A/B8A.tif</td><td>https://sentinel-cogs.s3.us-west-2.amazonaws.com/sentinel-s2-l2a-cogs/35/Q/PF/2020/1/S2A_35QPF_20200112_0_L2A/SCL.tif</td><td>https://sentinel-cogs.s3.us-west-2.amazonaws.com/sentinel-s2-l2a-cogs/35/Q/PF/2020/1/S2A_35QPF_20200112_0_L2A/WVP.tif</td><td>https://sentinel-cogs.s3.us-west-2.amazonaws.com/sentinel-s2-l2a-cogs/35/Q/PF/2020/1/S2A_35QPF_20200112_0_L2A/TCI.tif</td><td>https://sentinel-cogs.s3.us-west-2.amazonaws.com/sentinel-s2-l2a-cogs/35/Q/PF/2020/1/S2A_35QPF_20200112_0_L2A/L2A_PVI.tif</td></tr>\n",
       "\t<tr><td>https://sentinel-cogs.s3.us-west-2.amazonaws.com/sentinel-s2-l2a-cogs/35/Q/PF/2020/1/S2A_35QPF_20200112_1_L2A/AOT.tif</td><td>https://sentinel-cogs.s3.us-west-2.amazonaws.com/sentinel-s2-l2a-cogs/35/Q/PF/2020/1/S2A_35QPF_20200112_1_L2A/B01.tif</td><td>https://sentinel-cogs.s3.us-west-2.amazonaws.com/sentinel-s2-l2a-cogs/35/Q/PF/2020/1/S2A_35QPF_20200112_1_L2A/B02.tif</td><td>https://sentinel-cogs.s3.us-west-2.amazonaws.com/sentinel-s2-l2a-cogs/35/Q/PF/2020/1/S2A_35QPF_20200112_1_L2A/B03.tif</td><td>https://sentinel-cogs.s3.us-west-2.amazonaws.com/sentinel-s2-l2a-cogs/35/Q/PF/2020/1/S2A_35QPF_20200112_1_L2A/B04.tif</td><td>https://sentinel-cogs.s3.us-west-2.amazonaws.com/sentinel-s2-l2a-cogs/35/Q/PF/2020/1/S2A_35QPF_20200112_1_L2A/B05.tif</td><td>https://sentinel-cogs.s3.us-west-2.amazonaws.com/sentinel-s2-l2a-cogs/35/Q/PF/2020/1/S2A_35QPF_20200112_1_L2A/B06.tif</td><td>https://sentinel-cogs.s3.us-west-2.amazonaws.com/sentinel-s2-l2a-cogs/35/Q/PF/2020/1/S2A_35QPF_20200112_1_L2A/B07.tif</td><td>https://sentinel-cogs.s3.us-west-2.amazonaws.com/sentinel-s2-l2a-cogs/35/Q/PF/2020/1/S2A_35QPF_20200112_1_L2A/B08.tif</td><td>https://sentinel-cogs.s3.us-west-2.amazonaws.com/sentinel-s2-l2a-cogs/35/Q/PF/2020/1/S2A_35QPF_20200112_1_L2A/B09.tif</td><td>https://sentinel-cogs.s3.us-west-2.amazonaws.com/sentinel-s2-l2a-cogs/35/Q/PF/2020/1/S2A_35QPF_20200112_1_L2A/B11.tif</td><td>https://sentinel-cogs.s3.us-west-2.amazonaws.com/sentinel-s2-l2a-cogs/35/Q/PF/2020/1/S2A_35QPF_20200112_1_L2A/B12.tif</td><td>https://sentinel-cogs.s3.us-west-2.amazonaws.com/sentinel-s2-l2a-cogs/35/Q/PF/2020/1/S2A_35QPF_20200112_1_L2A/B8A.tif</td><td>https://sentinel-cogs.s3.us-west-2.amazonaws.com/sentinel-s2-l2a-cogs/35/Q/PF/2020/1/S2A_35QPF_20200112_1_L2A/SCL.tif</td><td>https://sentinel-cogs.s3.us-west-2.amazonaws.com/sentinel-s2-l2a-cogs/35/Q/PF/2020/1/S2A_35QPF_20200112_1_L2A/WVP.tif</td><td>https://sentinel-cogs.s3.us-west-2.amazonaws.com/sentinel-s2-l2a-cogs/35/Q/PF/2020/1/S2A_35QPF_20200112_1_L2A/TCI.tif</td><td>https://sentinel-cogs.s3.us-west-2.amazonaws.com/sentinel-s2-l2a-cogs/35/Q/PF/2020/1/S2A_35QPF_20200112_1_L2A/L2A_PVI.tif</td></tr>\n",
       "</tbody>\n",
       "</table>\n"
      ],
      "text/latex": [
       "A data.frame: 19 × 17\n",
       "\\begin{tabular}{lllllllllllllllll}\n",
       " AOT & B01 & B02 & B03 & B04 & B05 & B06 & B07 & B08 & B09 & B11 & B12 & B8A & SCL & WVP & visual & overview\\\\\n",
       " <chr> & <chr> & <chr> & <chr> & <chr> & <chr> & <chr> & <chr> & <chr> & <chr> & <chr> & <chr> & <chr> & <chr> & <chr> & <chr> & <chr>\\\\\n",
       "\\hline\n",
       "\t https://sentinel-cogs.s3.us-west-2.amazonaws.com/sentinel-s2-l2a-cogs/35/Q/PF/2020/3/S2B\\_35QPF\\_20200307\\_0\\_L2A/AOT.tif & https://sentinel-cogs.s3.us-west-2.amazonaws.com/sentinel-s2-l2a-cogs/35/Q/PF/2020/3/S2B\\_35QPF\\_20200307\\_0\\_L2A/B01.tif & https://sentinel-cogs.s3.us-west-2.amazonaws.com/sentinel-s2-l2a-cogs/35/Q/PF/2020/3/S2B\\_35QPF\\_20200307\\_0\\_L2A/B02.tif & https://sentinel-cogs.s3.us-west-2.amazonaws.com/sentinel-s2-l2a-cogs/35/Q/PF/2020/3/S2B\\_35QPF\\_20200307\\_0\\_L2A/B03.tif & https://sentinel-cogs.s3.us-west-2.amazonaws.com/sentinel-s2-l2a-cogs/35/Q/PF/2020/3/S2B\\_35QPF\\_20200307\\_0\\_L2A/B04.tif & https://sentinel-cogs.s3.us-west-2.amazonaws.com/sentinel-s2-l2a-cogs/35/Q/PF/2020/3/S2B\\_35QPF\\_20200307\\_0\\_L2A/B05.tif & https://sentinel-cogs.s3.us-west-2.amazonaws.com/sentinel-s2-l2a-cogs/35/Q/PF/2020/3/S2B\\_35QPF\\_20200307\\_0\\_L2A/B06.tif & https://sentinel-cogs.s3.us-west-2.amazonaws.com/sentinel-s2-l2a-cogs/35/Q/PF/2020/3/S2B\\_35QPF\\_20200307\\_0\\_L2A/B07.tif & https://sentinel-cogs.s3.us-west-2.amazonaws.com/sentinel-s2-l2a-cogs/35/Q/PF/2020/3/S2B\\_35QPF\\_20200307\\_0\\_L2A/B08.tif & https://sentinel-cogs.s3.us-west-2.amazonaws.com/sentinel-s2-l2a-cogs/35/Q/PF/2020/3/S2B\\_35QPF\\_20200307\\_0\\_L2A/B09.tif & https://sentinel-cogs.s3.us-west-2.amazonaws.com/sentinel-s2-l2a-cogs/35/Q/PF/2020/3/S2B\\_35QPF\\_20200307\\_0\\_L2A/B11.tif & https://sentinel-cogs.s3.us-west-2.amazonaws.com/sentinel-s2-l2a-cogs/35/Q/PF/2020/3/S2B\\_35QPF\\_20200307\\_0\\_L2A/B12.tif & https://sentinel-cogs.s3.us-west-2.amazonaws.com/sentinel-s2-l2a-cogs/35/Q/PF/2020/3/S2B\\_35QPF\\_20200307\\_0\\_L2A/B8A.tif & https://sentinel-cogs.s3.us-west-2.amazonaws.com/sentinel-s2-l2a-cogs/35/Q/PF/2020/3/S2B\\_35QPF\\_20200307\\_0\\_L2A/SCL.tif & https://sentinel-cogs.s3.us-west-2.amazonaws.com/sentinel-s2-l2a-cogs/35/Q/PF/2020/3/S2B\\_35QPF\\_20200307\\_0\\_L2A/WVP.tif & https://sentinel-cogs.s3.us-west-2.amazonaws.com/sentinel-s2-l2a-cogs/35/Q/PF/2020/3/S2B\\_35QPF\\_20200307\\_0\\_L2A/TCI.tif & https://sentinel-cogs.s3.us-west-2.amazonaws.com/sentinel-s2-l2a-cogs/35/Q/PF/2020/3/S2B\\_35QPF\\_20200307\\_0\\_L2A/L2A\\_PVI.tif\\\\\n",
       "\t https://sentinel-cogs.s3.us-west-2.amazonaws.com/sentinel-s2-l2a-cogs/35/Q/PF/2020/1/S2A\\_35QPF\\_20200102\\_0\\_L2A/AOT.tif & https://sentinel-cogs.s3.us-west-2.amazonaws.com/sentinel-s2-l2a-cogs/35/Q/PF/2020/1/S2A\\_35QPF\\_20200102\\_0\\_L2A/B01.tif & https://sentinel-cogs.s3.us-west-2.amazonaws.com/sentinel-s2-l2a-cogs/35/Q/PF/2020/1/S2A\\_35QPF\\_20200102\\_0\\_L2A/B02.tif & https://sentinel-cogs.s3.us-west-2.amazonaws.com/sentinel-s2-l2a-cogs/35/Q/PF/2020/1/S2A\\_35QPF\\_20200102\\_0\\_L2A/B03.tif & https://sentinel-cogs.s3.us-west-2.amazonaws.com/sentinel-s2-l2a-cogs/35/Q/PF/2020/1/S2A\\_35QPF\\_20200102\\_0\\_L2A/B04.tif & https://sentinel-cogs.s3.us-west-2.amazonaws.com/sentinel-s2-l2a-cogs/35/Q/PF/2020/1/S2A\\_35QPF\\_20200102\\_0\\_L2A/B05.tif & https://sentinel-cogs.s3.us-west-2.amazonaws.com/sentinel-s2-l2a-cogs/35/Q/PF/2020/1/S2A\\_35QPF\\_20200102\\_0\\_L2A/B06.tif & https://sentinel-cogs.s3.us-west-2.amazonaws.com/sentinel-s2-l2a-cogs/35/Q/PF/2020/1/S2A\\_35QPF\\_20200102\\_0\\_L2A/B07.tif & https://sentinel-cogs.s3.us-west-2.amazonaws.com/sentinel-s2-l2a-cogs/35/Q/PF/2020/1/S2A\\_35QPF\\_20200102\\_0\\_L2A/B08.tif & https://sentinel-cogs.s3.us-west-2.amazonaws.com/sentinel-s2-l2a-cogs/35/Q/PF/2020/1/S2A\\_35QPF\\_20200102\\_0\\_L2A/B09.tif & https://sentinel-cogs.s3.us-west-2.amazonaws.com/sentinel-s2-l2a-cogs/35/Q/PF/2020/1/S2A\\_35QPF\\_20200102\\_0\\_L2A/B11.tif & https://sentinel-cogs.s3.us-west-2.amazonaws.com/sentinel-s2-l2a-cogs/35/Q/PF/2020/1/S2A\\_35QPF\\_20200102\\_0\\_L2A/B12.tif & https://sentinel-cogs.s3.us-west-2.amazonaws.com/sentinel-s2-l2a-cogs/35/Q/PF/2020/1/S2A\\_35QPF\\_20200102\\_0\\_L2A/B8A.tif & https://sentinel-cogs.s3.us-west-2.amazonaws.com/sentinel-s2-l2a-cogs/35/Q/PF/2020/1/S2A\\_35QPF\\_20200102\\_0\\_L2A/SCL.tif & https://sentinel-cogs.s3.us-west-2.amazonaws.com/sentinel-s2-l2a-cogs/35/Q/PF/2020/1/S2A\\_35QPF\\_20200102\\_0\\_L2A/WVP.tif & https://sentinel-cogs.s3.us-west-2.amazonaws.com/sentinel-s2-l2a-cogs/35/Q/PF/2020/1/S2A\\_35QPF\\_20200102\\_0\\_L2A/TCI.tif & https://sentinel-cogs.s3.us-west-2.amazonaws.com/sentinel-s2-l2a-cogs/35/Q/PF/2020/1/S2A\\_35QPF\\_20200102\\_0\\_L2A/L2A\\_PVI.tif\\\\\n",
       "\t https://sentinel-cogs.s3.us-west-2.amazonaws.com/sentinel-s2-l2a-cogs/35/Q/PF/2020/1/S2B\\_35QPF\\_20200117\\_0\\_L2A/AOT.tif & https://sentinel-cogs.s3.us-west-2.amazonaws.com/sentinel-s2-l2a-cogs/35/Q/PF/2020/1/S2B\\_35QPF\\_20200117\\_0\\_L2A/B01.tif & https://sentinel-cogs.s3.us-west-2.amazonaws.com/sentinel-s2-l2a-cogs/35/Q/PF/2020/1/S2B\\_35QPF\\_20200117\\_0\\_L2A/B02.tif & https://sentinel-cogs.s3.us-west-2.amazonaws.com/sentinel-s2-l2a-cogs/35/Q/PF/2020/1/S2B\\_35QPF\\_20200117\\_0\\_L2A/B03.tif & https://sentinel-cogs.s3.us-west-2.amazonaws.com/sentinel-s2-l2a-cogs/35/Q/PF/2020/1/S2B\\_35QPF\\_20200117\\_0\\_L2A/B04.tif & https://sentinel-cogs.s3.us-west-2.amazonaws.com/sentinel-s2-l2a-cogs/35/Q/PF/2020/1/S2B\\_35QPF\\_20200117\\_0\\_L2A/B05.tif & https://sentinel-cogs.s3.us-west-2.amazonaws.com/sentinel-s2-l2a-cogs/35/Q/PF/2020/1/S2B\\_35QPF\\_20200117\\_0\\_L2A/B06.tif & https://sentinel-cogs.s3.us-west-2.amazonaws.com/sentinel-s2-l2a-cogs/35/Q/PF/2020/1/S2B\\_35QPF\\_20200117\\_0\\_L2A/B07.tif & https://sentinel-cogs.s3.us-west-2.amazonaws.com/sentinel-s2-l2a-cogs/35/Q/PF/2020/1/S2B\\_35QPF\\_20200117\\_0\\_L2A/B08.tif & https://sentinel-cogs.s3.us-west-2.amazonaws.com/sentinel-s2-l2a-cogs/35/Q/PF/2020/1/S2B\\_35QPF\\_20200117\\_0\\_L2A/B09.tif & https://sentinel-cogs.s3.us-west-2.amazonaws.com/sentinel-s2-l2a-cogs/35/Q/PF/2020/1/S2B\\_35QPF\\_20200117\\_0\\_L2A/B11.tif & https://sentinel-cogs.s3.us-west-2.amazonaws.com/sentinel-s2-l2a-cogs/35/Q/PF/2020/1/S2B\\_35QPF\\_20200117\\_0\\_L2A/B12.tif & https://sentinel-cogs.s3.us-west-2.amazonaws.com/sentinel-s2-l2a-cogs/35/Q/PF/2020/1/S2B\\_35QPF\\_20200117\\_0\\_L2A/B8A.tif & https://sentinel-cogs.s3.us-west-2.amazonaws.com/sentinel-s2-l2a-cogs/35/Q/PF/2020/1/S2B\\_35QPF\\_20200117\\_0\\_L2A/SCL.tif & https://sentinel-cogs.s3.us-west-2.amazonaws.com/sentinel-s2-l2a-cogs/35/Q/PF/2020/1/S2B\\_35QPF\\_20200117\\_0\\_L2A/WVP.tif & https://sentinel-cogs.s3.us-west-2.amazonaws.com/sentinel-s2-l2a-cogs/35/Q/PF/2020/1/S2B\\_35QPF\\_20200117\\_0\\_L2A/TCI.tif & https://sentinel-cogs.s3.us-west-2.amazonaws.com/sentinel-s2-l2a-cogs/35/Q/PF/2020/1/S2B\\_35QPF\\_20200117\\_0\\_L2A/L2A\\_PVI.tif\\\\\n",
       "\t https://sentinel-cogs.s3.us-west-2.amazonaws.com/sentinel-s2-l2a-cogs/35/Q/PF/2020/3/S2A\\_35QPF\\_20200312\\_0\\_L2A/AOT.tif & https://sentinel-cogs.s3.us-west-2.amazonaws.com/sentinel-s2-l2a-cogs/35/Q/PF/2020/3/S2A\\_35QPF\\_20200312\\_0\\_L2A/B01.tif & https://sentinel-cogs.s3.us-west-2.amazonaws.com/sentinel-s2-l2a-cogs/35/Q/PF/2020/3/S2A\\_35QPF\\_20200312\\_0\\_L2A/B02.tif & https://sentinel-cogs.s3.us-west-2.amazonaws.com/sentinel-s2-l2a-cogs/35/Q/PF/2020/3/S2A\\_35QPF\\_20200312\\_0\\_L2A/B03.tif & https://sentinel-cogs.s3.us-west-2.amazonaws.com/sentinel-s2-l2a-cogs/35/Q/PF/2020/3/S2A\\_35QPF\\_20200312\\_0\\_L2A/B04.tif & https://sentinel-cogs.s3.us-west-2.amazonaws.com/sentinel-s2-l2a-cogs/35/Q/PF/2020/3/S2A\\_35QPF\\_20200312\\_0\\_L2A/B05.tif & https://sentinel-cogs.s3.us-west-2.amazonaws.com/sentinel-s2-l2a-cogs/35/Q/PF/2020/3/S2A\\_35QPF\\_20200312\\_0\\_L2A/B06.tif & https://sentinel-cogs.s3.us-west-2.amazonaws.com/sentinel-s2-l2a-cogs/35/Q/PF/2020/3/S2A\\_35QPF\\_20200312\\_0\\_L2A/B07.tif & https://sentinel-cogs.s3.us-west-2.amazonaws.com/sentinel-s2-l2a-cogs/35/Q/PF/2020/3/S2A\\_35QPF\\_20200312\\_0\\_L2A/B08.tif & https://sentinel-cogs.s3.us-west-2.amazonaws.com/sentinel-s2-l2a-cogs/35/Q/PF/2020/3/S2A\\_35QPF\\_20200312\\_0\\_L2A/B09.tif & https://sentinel-cogs.s3.us-west-2.amazonaws.com/sentinel-s2-l2a-cogs/35/Q/PF/2020/3/S2A\\_35QPF\\_20200312\\_0\\_L2A/B11.tif & https://sentinel-cogs.s3.us-west-2.amazonaws.com/sentinel-s2-l2a-cogs/35/Q/PF/2020/3/S2A\\_35QPF\\_20200312\\_0\\_L2A/B12.tif & https://sentinel-cogs.s3.us-west-2.amazonaws.com/sentinel-s2-l2a-cogs/35/Q/PF/2020/3/S2A\\_35QPF\\_20200312\\_0\\_L2A/B8A.tif & https://sentinel-cogs.s3.us-west-2.amazonaws.com/sentinel-s2-l2a-cogs/35/Q/PF/2020/3/S2A\\_35QPF\\_20200312\\_0\\_L2A/SCL.tif & https://sentinel-cogs.s3.us-west-2.amazonaws.com/sentinel-s2-l2a-cogs/35/Q/PF/2020/3/S2A\\_35QPF\\_20200312\\_0\\_L2A/WVP.tif & https://sentinel-cogs.s3.us-west-2.amazonaws.com/sentinel-s2-l2a-cogs/35/Q/PF/2020/3/S2A\\_35QPF\\_20200312\\_0\\_L2A/TCI.tif & https://sentinel-cogs.s3.us-west-2.amazonaws.com/sentinel-s2-l2a-cogs/35/Q/PF/2020/3/S2A\\_35QPF\\_20200312\\_0\\_L2A/L2A\\_PVI.tif\\\\\n",
       "\t https://sentinel-cogs.s3.us-west-2.amazonaws.com/sentinel-s2-l2a-cogs/35/Q/PF/2020/3/S2B\\_35QPF\\_20200317\\_0\\_L2A/AOT.tif & https://sentinel-cogs.s3.us-west-2.amazonaws.com/sentinel-s2-l2a-cogs/35/Q/PF/2020/3/S2B\\_35QPF\\_20200317\\_0\\_L2A/B01.tif & https://sentinel-cogs.s3.us-west-2.amazonaws.com/sentinel-s2-l2a-cogs/35/Q/PF/2020/3/S2B\\_35QPF\\_20200317\\_0\\_L2A/B02.tif & https://sentinel-cogs.s3.us-west-2.amazonaws.com/sentinel-s2-l2a-cogs/35/Q/PF/2020/3/S2B\\_35QPF\\_20200317\\_0\\_L2A/B03.tif & https://sentinel-cogs.s3.us-west-2.amazonaws.com/sentinel-s2-l2a-cogs/35/Q/PF/2020/3/S2B\\_35QPF\\_20200317\\_0\\_L2A/B04.tif & https://sentinel-cogs.s3.us-west-2.amazonaws.com/sentinel-s2-l2a-cogs/35/Q/PF/2020/3/S2B\\_35QPF\\_20200317\\_0\\_L2A/B05.tif & https://sentinel-cogs.s3.us-west-2.amazonaws.com/sentinel-s2-l2a-cogs/35/Q/PF/2020/3/S2B\\_35QPF\\_20200317\\_0\\_L2A/B06.tif & https://sentinel-cogs.s3.us-west-2.amazonaws.com/sentinel-s2-l2a-cogs/35/Q/PF/2020/3/S2B\\_35QPF\\_20200317\\_0\\_L2A/B07.tif & https://sentinel-cogs.s3.us-west-2.amazonaws.com/sentinel-s2-l2a-cogs/35/Q/PF/2020/3/S2B\\_35QPF\\_20200317\\_0\\_L2A/B08.tif & https://sentinel-cogs.s3.us-west-2.amazonaws.com/sentinel-s2-l2a-cogs/35/Q/PF/2020/3/S2B\\_35QPF\\_20200317\\_0\\_L2A/B09.tif & https://sentinel-cogs.s3.us-west-2.amazonaws.com/sentinel-s2-l2a-cogs/35/Q/PF/2020/3/S2B\\_35QPF\\_20200317\\_0\\_L2A/B11.tif & https://sentinel-cogs.s3.us-west-2.amazonaws.com/sentinel-s2-l2a-cogs/35/Q/PF/2020/3/S2B\\_35QPF\\_20200317\\_0\\_L2A/B12.tif & https://sentinel-cogs.s3.us-west-2.amazonaws.com/sentinel-s2-l2a-cogs/35/Q/PF/2020/3/S2B\\_35QPF\\_20200317\\_0\\_L2A/B8A.tif & https://sentinel-cogs.s3.us-west-2.amazonaws.com/sentinel-s2-l2a-cogs/35/Q/PF/2020/3/S2B\\_35QPF\\_20200317\\_0\\_L2A/SCL.tif & https://sentinel-cogs.s3.us-west-2.amazonaws.com/sentinel-s2-l2a-cogs/35/Q/PF/2020/3/S2B\\_35QPF\\_20200317\\_0\\_L2A/WVP.tif & https://sentinel-cogs.s3.us-west-2.amazonaws.com/sentinel-s2-l2a-cogs/35/Q/PF/2020/3/S2B\\_35QPF\\_20200317\\_0\\_L2A/TCI.tif & https://sentinel-cogs.s3.us-west-2.amazonaws.com/sentinel-s2-l2a-cogs/35/Q/PF/2020/3/S2B\\_35QPF\\_20200317\\_0\\_L2A/L2A\\_PVI.tif\\\\\n",
       "\t https://sentinel-cogs.s3.us-west-2.amazonaws.com/sentinel-s2-l2a-cogs/35/Q/PF/2020/1/S2A\\_35QPF\\_20200122\\_1\\_L2A/AOT.tif & https://sentinel-cogs.s3.us-west-2.amazonaws.com/sentinel-s2-l2a-cogs/35/Q/PF/2020/1/S2A\\_35QPF\\_20200122\\_1\\_L2A/B01.tif & https://sentinel-cogs.s3.us-west-2.amazonaws.com/sentinel-s2-l2a-cogs/35/Q/PF/2020/1/S2A\\_35QPF\\_20200122\\_1\\_L2A/B02.tif & https://sentinel-cogs.s3.us-west-2.amazonaws.com/sentinel-s2-l2a-cogs/35/Q/PF/2020/1/S2A\\_35QPF\\_20200122\\_1\\_L2A/B03.tif & https://sentinel-cogs.s3.us-west-2.amazonaws.com/sentinel-s2-l2a-cogs/35/Q/PF/2020/1/S2A\\_35QPF\\_20200122\\_1\\_L2A/B04.tif & https://sentinel-cogs.s3.us-west-2.amazonaws.com/sentinel-s2-l2a-cogs/35/Q/PF/2020/1/S2A\\_35QPF\\_20200122\\_1\\_L2A/B05.tif & https://sentinel-cogs.s3.us-west-2.amazonaws.com/sentinel-s2-l2a-cogs/35/Q/PF/2020/1/S2A\\_35QPF\\_20200122\\_1\\_L2A/B06.tif & https://sentinel-cogs.s3.us-west-2.amazonaws.com/sentinel-s2-l2a-cogs/35/Q/PF/2020/1/S2A\\_35QPF\\_20200122\\_1\\_L2A/B07.tif & https://sentinel-cogs.s3.us-west-2.amazonaws.com/sentinel-s2-l2a-cogs/35/Q/PF/2020/1/S2A\\_35QPF\\_20200122\\_1\\_L2A/B08.tif & https://sentinel-cogs.s3.us-west-2.amazonaws.com/sentinel-s2-l2a-cogs/35/Q/PF/2020/1/S2A\\_35QPF\\_20200122\\_1\\_L2A/B09.tif & https://sentinel-cogs.s3.us-west-2.amazonaws.com/sentinel-s2-l2a-cogs/35/Q/PF/2020/1/S2A\\_35QPF\\_20200122\\_1\\_L2A/B11.tif & https://sentinel-cogs.s3.us-west-2.amazonaws.com/sentinel-s2-l2a-cogs/35/Q/PF/2020/1/S2A\\_35QPF\\_20200122\\_1\\_L2A/B12.tif & https://sentinel-cogs.s3.us-west-2.amazonaws.com/sentinel-s2-l2a-cogs/35/Q/PF/2020/1/S2A\\_35QPF\\_20200122\\_1\\_L2A/B8A.tif & https://sentinel-cogs.s3.us-west-2.amazonaws.com/sentinel-s2-l2a-cogs/35/Q/PF/2020/1/S2A\\_35QPF\\_20200122\\_1\\_L2A/SCL.tif & https://sentinel-cogs.s3.us-west-2.amazonaws.com/sentinel-s2-l2a-cogs/35/Q/PF/2020/1/S2A\\_35QPF\\_20200122\\_1\\_L2A/WVP.tif & https://sentinel-cogs.s3.us-west-2.amazonaws.com/sentinel-s2-l2a-cogs/35/Q/PF/2020/1/S2A\\_35QPF\\_20200122\\_1\\_L2A/TCI.tif & https://sentinel-cogs.s3.us-west-2.amazonaws.com/sentinel-s2-l2a-cogs/35/Q/PF/2020/1/S2A\\_35QPF\\_20200122\\_1\\_L2A/L2A\\_PVI.tif\\\\\n",
       "\t https://sentinel-cogs.s3.us-west-2.amazonaws.com/sentinel-s2-l2a-cogs/35/Q/PF/2020/3/S2B\\_35QPF\\_20200327\\_0\\_L2A/AOT.tif & https://sentinel-cogs.s3.us-west-2.amazonaws.com/sentinel-s2-l2a-cogs/35/Q/PF/2020/3/S2B\\_35QPF\\_20200327\\_0\\_L2A/B01.tif & https://sentinel-cogs.s3.us-west-2.amazonaws.com/sentinel-s2-l2a-cogs/35/Q/PF/2020/3/S2B\\_35QPF\\_20200327\\_0\\_L2A/B02.tif & https://sentinel-cogs.s3.us-west-2.amazonaws.com/sentinel-s2-l2a-cogs/35/Q/PF/2020/3/S2B\\_35QPF\\_20200327\\_0\\_L2A/B03.tif & https://sentinel-cogs.s3.us-west-2.amazonaws.com/sentinel-s2-l2a-cogs/35/Q/PF/2020/3/S2B\\_35QPF\\_20200327\\_0\\_L2A/B04.tif & https://sentinel-cogs.s3.us-west-2.amazonaws.com/sentinel-s2-l2a-cogs/35/Q/PF/2020/3/S2B\\_35QPF\\_20200327\\_0\\_L2A/B05.tif & https://sentinel-cogs.s3.us-west-2.amazonaws.com/sentinel-s2-l2a-cogs/35/Q/PF/2020/3/S2B\\_35QPF\\_20200327\\_0\\_L2A/B06.tif & https://sentinel-cogs.s3.us-west-2.amazonaws.com/sentinel-s2-l2a-cogs/35/Q/PF/2020/3/S2B\\_35QPF\\_20200327\\_0\\_L2A/B07.tif & https://sentinel-cogs.s3.us-west-2.amazonaws.com/sentinel-s2-l2a-cogs/35/Q/PF/2020/3/S2B\\_35QPF\\_20200327\\_0\\_L2A/B08.tif & https://sentinel-cogs.s3.us-west-2.amazonaws.com/sentinel-s2-l2a-cogs/35/Q/PF/2020/3/S2B\\_35QPF\\_20200327\\_0\\_L2A/B09.tif & https://sentinel-cogs.s3.us-west-2.amazonaws.com/sentinel-s2-l2a-cogs/35/Q/PF/2020/3/S2B\\_35QPF\\_20200327\\_0\\_L2A/B11.tif & https://sentinel-cogs.s3.us-west-2.amazonaws.com/sentinel-s2-l2a-cogs/35/Q/PF/2020/3/S2B\\_35QPF\\_20200327\\_0\\_L2A/B12.tif & https://sentinel-cogs.s3.us-west-2.amazonaws.com/sentinel-s2-l2a-cogs/35/Q/PF/2020/3/S2B\\_35QPF\\_20200327\\_0\\_L2A/B8A.tif & https://sentinel-cogs.s3.us-west-2.amazonaws.com/sentinel-s2-l2a-cogs/35/Q/PF/2020/3/S2B\\_35QPF\\_20200327\\_0\\_L2A/SCL.tif & https://sentinel-cogs.s3.us-west-2.amazonaws.com/sentinel-s2-l2a-cogs/35/Q/PF/2020/3/S2B\\_35QPF\\_20200327\\_0\\_L2A/WVP.tif & https://sentinel-cogs.s3.us-west-2.amazonaws.com/sentinel-s2-l2a-cogs/35/Q/PF/2020/3/S2B\\_35QPF\\_20200327\\_0\\_L2A/TCI.tif & https://sentinel-cogs.s3.us-west-2.amazonaws.com/sentinel-s2-l2a-cogs/35/Q/PF/2020/3/S2B\\_35QPF\\_20200327\\_0\\_L2A/L2A\\_PVI.tif\\\\\n",
       "\t https://sentinel-cogs.s3.us-west-2.amazonaws.com/sentinel-s2-l2a-cogs/35/Q/PF/2020/2/S2B\\_35QPF\\_20200206\\_0\\_L2A/AOT.tif & https://sentinel-cogs.s3.us-west-2.amazonaws.com/sentinel-s2-l2a-cogs/35/Q/PF/2020/2/S2B\\_35QPF\\_20200206\\_0\\_L2A/B01.tif & https://sentinel-cogs.s3.us-west-2.amazonaws.com/sentinel-s2-l2a-cogs/35/Q/PF/2020/2/S2B\\_35QPF\\_20200206\\_0\\_L2A/B02.tif & https://sentinel-cogs.s3.us-west-2.amazonaws.com/sentinel-s2-l2a-cogs/35/Q/PF/2020/2/S2B\\_35QPF\\_20200206\\_0\\_L2A/B03.tif & https://sentinel-cogs.s3.us-west-2.amazonaws.com/sentinel-s2-l2a-cogs/35/Q/PF/2020/2/S2B\\_35QPF\\_20200206\\_0\\_L2A/B04.tif & https://sentinel-cogs.s3.us-west-2.amazonaws.com/sentinel-s2-l2a-cogs/35/Q/PF/2020/2/S2B\\_35QPF\\_20200206\\_0\\_L2A/B05.tif & https://sentinel-cogs.s3.us-west-2.amazonaws.com/sentinel-s2-l2a-cogs/35/Q/PF/2020/2/S2B\\_35QPF\\_20200206\\_0\\_L2A/B06.tif & https://sentinel-cogs.s3.us-west-2.amazonaws.com/sentinel-s2-l2a-cogs/35/Q/PF/2020/2/S2B\\_35QPF\\_20200206\\_0\\_L2A/B07.tif & https://sentinel-cogs.s3.us-west-2.amazonaws.com/sentinel-s2-l2a-cogs/35/Q/PF/2020/2/S2B\\_35QPF\\_20200206\\_0\\_L2A/B08.tif & https://sentinel-cogs.s3.us-west-2.amazonaws.com/sentinel-s2-l2a-cogs/35/Q/PF/2020/2/S2B\\_35QPF\\_20200206\\_0\\_L2A/B09.tif & https://sentinel-cogs.s3.us-west-2.amazonaws.com/sentinel-s2-l2a-cogs/35/Q/PF/2020/2/S2B\\_35QPF\\_20200206\\_0\\_L2A/B11.tif & https://sentinel-cogs.s3.us-west-2.amazonaws.com/sentinel-s2-l2a-cogs/35/Q/PF/2020/2/S2B\\_35QPF\\_20200206\\_0\\_L2A/B12.tif & https://sentinel-cogs.s3.us-west-2.amazonaws.com/sentinel-s2-l2a-cogs/35/Q/PF/2020/2/S2B\\_35QPF\\_20200206\\_0\\_L2A/B8A.tif & https://sentinel-cogs.s3.us-west-2.amazonaws.com/sentinel-s2-l2a-cogs/35/Q/PF/2020/2/S2B\\_35QPF\\_20200206\\_0\\_L2A/SCL.tif & https://sentinel-cogs.s3.us-west-2.amazonaws.com/sentinel-s2-l2a-cogs/35/Q/PF/2020/2/S2B\\_35QPF\\_20200206\\_0\\_L2A/WVP.tif & https://sentinel-cogs.s3.us-west-2.amazonaws.com/sentinel-s2-l2a-cogs/35/Q/PF/2020/2/S2B\\_35QPF\\_20200206\\_0\\_L2A/TCI.tif & https://sentinel-cogs.s3.us-west-2.amazonaws.com/sentinel-s2-l2a-cogs/35/Q/PF/2020/2/S2B\\_35QPF\\_20200206\\_0\\_L2A/L2A\\_PVI.tif\\\\\n",
       "\t https://sentinel-cogs.s3.us-west-2.amazonaws.com/sentinel-s2-l2a-cogs/35/Q/PF/2020/2/S2A\\_35QPF\\_20200211\\_0\\_L2A/AOT.tif & https://sentinel-cogs.s3.us-west-2.amazonaws.com/sentinel-s2-l2a-cogs/35/Q/PF/2020/2/S2A\\_35QPF\\_20200211\\_0\\_L2A/B01.tif & https://sentinel-cogs.s3.us-west-2.amazonaws.com/sentinel-s2-l2a-cogs/35/Q/PF/2020/2/S2A\\_35QPF\\_20200211\\_0\\_L2A/B02.tif & https://sentinel-cogs.s3.us-west-2.amazonaws.com/sentinel-s2-l2a-cogs/35/Q/PF/2020/2/S2A\\_35QPF\\_20200211\\_0\\_L2A/B03.tif & https://sentinel-cogs.s3.us-west-2.amazonaws.com/sentinel-s2-l2a-cogs/35/Q/PF/2020/2/S2A\\_35QPF\\_20200211\\_0\\_L2A/B04.tif & https://sentinel-cogs.s3.us-west-2.amazonaws.com/sentinel-s2-l2a-cogs/35/Q/PF/2020/2/S2A\\_35QPF\\_20200211\\_0\\_L2A/B05.tif & https://sentinel-cogs.s3.us-west-2.amazonaws.com/sentinel-s2-l2a-cogs/35/Q/PF/2020/2/S2A\\_35QPF\\_20200211\\_0\\_L2A/B06.tif & https://sentinel-cogs.s3.us-west-2.amazonaws.com/sentinel-s2-l2a-cogs/35/Q/PF/2020/2/S2A\\_35QPF\\_20200211\\_0\\_L2A/B07.tif & https://sentinel-cogs.s3.us-west-2.amazonaws.com/sentinel-s2-l2a-cogs/35/Q/PF/2020/2/S2A\\_35QPF\\_20200211\\_0\\_L2A/B08.tif & https://sentinel-cogs.s3.us-west-2.amazonaws.com/sentinel-s2-l2a-cogs/35/Q/PF/2020/2/S2A\\_35QPF\\_20200211\\_0\\_L2A/B09.tif & https://sentinel-cogs.s3.us-west-2.amazonaws.com/sentinel-s2-l2a-cogs/35/Q/PF/2020/2/S2A\\_35QPF\\_20200211\\_0\\_L2A/B11.tif & https://sentinel-cogs.s3.us-west-2.amazonaws.com/sentinel-s2-l2a-cogs/35/Q/PF/2020/2/S2A\\_35QPF\\_20200211\\_0\\_L2A/B12.tif & https://sentinel-cogs.s3.us-west-2.amazonaws.com/sentinel-s2-l2a-cogs/35/Q/PF/2020/2/S2A\\_35QPF\\_20200211\\_0\\_L2A/B8A.tif & https://sentinel-cogs.s3.us-west-2.amazonaws.com/sentinel-s2-l2a-cogs/35/Q/PF/2020/2/S2A\\_35QPF\\_20200211\\_0\\_L2A/SCL.tif & https://sentinel-cogs.s3.us-west-2.amazonaws.com/sentinel-s2-l2a-cogs/35/Q/PF/2020/2/S2A\\_35QPF\\_20200211\\_0\\_L2A/WVP.tif & https://sentinel-cogs.s3.us-west-2.amazonaws.com/sentinel-s2-l2a-cogs/35/Q/PF/2020/2/S2A\\_35QPF\\_20200211\\_0\\_L2A/TCI.tif & https://sentinel-cogs.s3.us-west-2.amazonaws.com/sentinel-s2-l2a-cogs/35/Q/PF/2020/2/S2A\\_35QPF\\_20200211\\_0\\_L2A/L2A\\_PVI.tif\\\\\n",
       "\t https://sentinel-cogs.s3.us-west-2.amazonaws.com/sentinel-s2-l2a-cogs/35/Q/PF/2020/2/S2A\\_35QPF\\_20200221\\_0\\_L2A/AOT.tif & https://sentinel-cogs.s3.us-west-2.amazonaws.com/sentinel-s2-l2a-cogs/35/Q/PF/2020/2/S2A\\_35QPF\\_20200221\\_0\\_L2A/B01.tif & https://sentinel-cogs.s3.us-west-2.amazonaws.com/sentinel-s2-l2a-cogs/35/Q/PF/2020/2/S2A\\_35QPF\\_20200221\\_0\\_L2A/B02.tif & https://sentinel-cogs.s3.us-west-2.amazonaws.com/sentinel-s2-l2a-cogs/35/Q/PF/2020/2/S2A\\_35QPF\\_20200221\\_0\\_L2A/B03.tif & https://sentinel-cogs.s3.us-west-2.amazonaws.com/sentinel-s2-l2a-cogs/35/Q/PF/2020/2/S2A\\_35QPF\\_20200221\\_0\\_L2A/B04.tif & https://sentinel-cogs.s3.us-west-2.amazonaws.com/sentinel-s2-l2a-cogs/35/Q/PF/2020/2/S2A\\_35QPF\\_20200221\\_0\\_L2A/B05.tif & https://sentinel-cogs.s3.us-west-2.amazonaws.com/sentinel-s2-l2a-cogs/35/Q/PF/2020/2/S2A\\_35QPF\\_20200221\\_0\\_L2A/B06.tif & https://sentinel-cogs.s3.us-west-2.amazonaws.com/sentinel-s2-l2a-cogs/35/Q/PF/2020/2/S2A\\_35QPF\\_20200221\\_0\\_L2A/B07.tif & https://sentinel-cogs.s3.us-west-2.amazonaws.com/sentinel-s2-l2a-cogs/35/Q/PF/2020/2/S2A\\_35QPF\\_20200221\\_0\\_L2A/B08.tif & https://sentinel-cogs.s3.us-west-2.amazonaws.com/sentinel-s2-l2a-cogs/35/Q/PF/2020/2/S2A\\_35QPF\\_20200221\\_0\\_L2A/B09.tif & https://sentinel-cogs.s3.us-west-2.amazonaws.com/sentinel-s2-l2a-cogs/35/Q/PF/2020/2/S2A\\_35QPF\\_20200221\\_0\\_L2A/B11.tif & https://sentinel-cogs.s3.us-west-2.amazonaws.com/sentinel-s2-l2a-cogs/35/Q/PF/2020/2/S2A\\_35QPF\\_20200221\\_0\\_L2A/B12.tif & https://sentinel-cogs.s3.us-west-2.amazonaws.com/sentinel-s2-l2a-cogs/35/Q/PF/2020/2/S2A\\_35QPF\\_20200221\\_0\\_L2A/B8A.tif & https://sentinel-cogs.s3.us-west-2.amazonaws.com/sentinel-s2-l2a-cogs/35/Q/PF/2020/2/S2A\\_35QPF\\_20200221\\_0\\_L2A/SCL.tif & https://sentinel-cogs.s3.us-west-2.amazonaws.com/sentinel-s2-l2a-cogs/35/Q/PF/2020/2/S2A\\_35QPF\\_20200221\\_0\\_L2A/WVP.tif & https://sentinel-cogs.s3.us-west-2.amazonaws.com/sentinel-s2-l2a-cogs/35/Q/PF/2020/2/S2A\\_35QPF\\_20200221\\_0\\_L2A/TCI.tif & https://sentinel-cogs.s3.us-west-2.amazonaws.com/sentinel-s2-l2a-cogs/35/Q/PF/2020/2/S2A\\_35QPF\\_20200221\\_0\\_L2A/L2A\\_PVI.tif\\\\\n",
       "\t https://sentinel-cogs.s3.us-west-2.amazonaws.com/sentinel-s2-l2a-cogs/35/Q/PF/2020/1/S2B\\_35QPF\\_20200107\\_0\\_L2A/AOT.tif & https://sentinel-cogs.s3.us-west-2.amazonaws.com/sentinel-s2-l2a-cogs/35/Q/PF/2020/1/S2B\\_35QPF\\_20200107\\_0\\_L2A/B01.tif & https://sentinel-cogs.s3.us-west-2.amazonaws.com/sentinel-s2-l2a-cogs/35/Q/PF/2020/1/S2B\\_35QPF\\_20200107\\_0\\_L2A/B02.tif & https://sentinel-cogs.s3.us-west-2.amazonaws.com/sentinel-s2-l2a-cogs/35/Q/PF/2020/1/S2B\\_35QPF\\_20200107\\_0\\_L2A/B03.tif & https://sentinel-cogs.s3.us-west-2.amazonaws.com/sentinel-s2-l2a-cogs/35/Q/PF/2020/1/S2B\\_35QPF\\_20200107\\_0\\_L2A/B04.tif & https://sentinel-cogs.s3.us-west-2.amazonaws.com/sentinel-s2-l2a-cogs/35/Q/PF/2020/1/S2B\\_35QPF\\_20200107\\_0\\_L2A/B05.tif & https://sentinel-cogs.s3.us-west-2.amazonaws.com/sentinel-s2-l2a-cogs/35/Q/PF/2020/1/S2B\\_35QPF\\_20200107\\_0\\_L2A/B06.tif & https://sentinel-cogs.s3.us-west-2.amazonaws.com/sentinel-s2-l2a-cogs/35/Q/PF/2020/1/S2B\\_35QPF\\_20200107\\_0\\_L2A/B07.tif & https://sentinel-cogs.s3.us-west-2.amazonaws.com/sentinel-s2-l2a-cogs/35/Q/PF/2020/1/S2B\\_35QPF\\_20200107\\_0\\_L2A/B08.tif & https://sentinel-cogs.s3.us-west-2.amazonaws.com/sentinel-s2-l2a-cogs/35/Q/PF/2020/1/S2B\\_35QPF\\_20200107\\_0\\_L2A/B09.tif & https://sentinel-cogs.s3.us-west-2.amazonaws.com/sentinel-s2-l2a-cogs/35/Q/PF/2020/1/S2B\\_35QPF\\_20200107\\_0\\_L2A/B11.tif & https://sentinel-cogs.s3.us-west-2.amazonaws.com/sentinel-s2-l2a-cogs/35/Q/PF/2020/1/S2B\\_35QPF\\_20200107\\_0\\_L2A/B12.tif & https://sentinel-cogs.s3.us-west-2.amazonaws.com/sentinel-s2-l2a-cogs/35/Q/PF/2020/1/S2B\\_35QPF\\_20200107\\_0\\_L2A/B8A.tif & https://sentinel-cogs.s3.us-west-2.amazonaws.com/sentinel-s2-l2a-cogs/35/Q/PF/2020/1/S2B\\_35QPF\\_20200107\\_0\\_L2A/SCL.tif & https://sentinel-cogs.s3.us-west-2.amazonaws.com/sentinel-s2-l2a-cogs/35/Q/PF/2020/1/S2B\\_35QPF\\_20200107\\_0\\_L2A/WVP.tif & https://sentinel-cogs.s3.us-west-2.amazonaws.com/sentinel-s2-l2a-cogs/35/Q/PF/2020/1/S2B\\_35QPF\\_20200107\\_0\\_L2A/TCI.tif & https://sentinel-cogs.s3.us-west-2.amazonaws.com/sentinel-s2-l2a-cogs/35/Q/PF/2020/1/S2B\\_35QPF\\_20200107\\_0\\_L2A/L2A\\_PVI.tif\\\\\n",
       "\t https://sentinel-cogs.s3.us-west-2.amazonaws.com/sentinel-s2-l2a-cogs/35/Q/PF/2020/2/S2B\\_35QPF\\_20200226\\_0\\_L2A/AOT.tif & https://sentinel-cogs.s3.us-west-2.amazonaws.com/sentinel-s2-l2a-cogs/35/Q/PF/2020/2/S2B\\_35QPF\\_20200226\\_0\\_L2A/B01.tif & https://sentinel-cogs.s3.us-west-2.amazonaws.com/sentinel-s2-l2a-cogs/35/Q/PF/2020/2/S2B\\_35QPF\\_20200226\\_0\\_L2A/B02.tif & https://sentinel-cogs.s3.us-west-2.amazonaws.com/sentinel-s2-l2a-cogs/35/Q/PF/2020/2/S2B\\_35QPF\\_20200226\\_0\\_L2A/B03.tif & https://sentinel-cogs.s3.us-west-2.amazonaws.com/sentinel-s2-l2a-cogs/35/Q/PF/2020/2/S2B\\_35QPF\\_20200226\\_0\\_L2A/B04.tif & https://sentinel-cogs.s3.us-west-2.amazonaws.com/sentinel-s2-l2a-cogs/35/Q/PF/2020/2/S2B\\_35QPF\\_20200226\\_0\\_L2A/B05.tif & https://sentinel-cogs.s3.us-west-2.amazonaws.com/sentinel-s2-l2a-cogs/35/Q/PF/2020/2/S2B\\_35QPF\\_20200226\\_0\\_L2A/B06.tif & https://sentinel-cogs.s3.us-west-2.amazonaws.com/sentinel-s2-l2a-cogs/35/Q/PF/2020/2/S2B\\_35QPF\\_20200226\\_0\\_L2A/B07.tif & https://sentinel-cogs.s3.us-west-2.amazonaws.com/sentinel-s2-l2a-cogs/35/Q/PF/2020/2/S2B\\_35QPF\\_20200226\\_0\\_L2A/B08.tif & https://sentinel-cogs.s3.us-west-2.amazonaws.com/sentinel-s2-l2a-cogs/35/Q/PF/2020/2/S2B\\_35QPF\\_20200226\\_0\\_L2A/B09.tif & https://sentinel-cogs.s3.us-west-2.amazonaws.com/sentinel-s2-l2a-cogs/35/Q/PF/2020/2/S2B\\_35QPF\\_20200226\\_0\\_L2A/B11.tif & https://sentinel-cogs.s3.us-west-2.amazonaws.com/sentinel-s2-l2a-cogs/35/Q/PF/2020/2/S2B\\_35QPF\\_20200226\\_0\\_L2A/B12.tif & https://sentinel-cogs.s3.us-west-2.amazonaws.com/sentinel-s2-l2a-cogs/35/Q/PF/2020/2/S2B\\_35QPF\\_20200226\\_0\\_L2A/B8A.tif & https://sentinel-cogs.s3.us-west-2.amazonaws.com/sentinel-s2-l2a-cogs/35/Q/PF/2020/2/S2B\\_35QPF\\_20200226\\_0\\_L2A/SCL.tif & https://sentinel-cogs.s3.us-west-2.amazonaws.com/sentinel-s2-l2a-cogs/35/Q/PF/2020/2/S2B\\_35QPF\\_20200226\\_0\\_L2A/WVP.tif & https://sentinel-cogs.s3.us-west-2.amazonaws.com/sentinel-s2-l2a-cogs/35/Q/PF/2020/2/S2B\\_35QPF\\_20200226\\_0\\_L2A/TCI.tif & https://sentinel-cogs.s3.us-west-2.amazonaws.com/sentinel-s2-l2a-cogs/35/Q/PF/2020/2/S2B\\_35QPF\\_20200226\\_0\\_L2A/L2A\\_PVI.tif\\\\\n",
       "\t https://sentinel-cogs.s3.us-west-2.amazonaws.com/sentinel-s2-l2a-cogs/35/Q/PF/2020/3/S2A\\_35QPF\\_20200302\\_0\\_L2A/AOT.tif & https://sentinel-cogs.s3.us-west-2.amazonaws.com/sentinel-s2-l2a-cogs/35/Q/PF/2020/3/S2A\\_35QPF\\_20200302\\_0\\_L2A/B01.tif & https://sentinel-cogs.s3.us-west-2.amazonaws.com/sentinel-s2-l2a-cogs/35/Q/PF/2020/3/S2A\\_35QPF\\_20200302\\_0\\_L2A/B02.tif & https://sentinel-cogs.s3.us-west-2.amazonaws.com/sentinel-s2-l2a-cogs/35/Q/PF/2020/3/S2A\\_35QPF\\_20200302\\_0\\_L2A/B03.tif & https://sentinel-cogs.s3.us-west-2.amazonaws.com/sentinel-s2-l2a-cogs/35/Q/PF/2020/3/S2A\\_35QPF\\_20200302\\_0\\_L2A/B04.tif & https://sentinel-cogs.s3.us-west-2.amazonaws.com/sentinel-s2-l2a-cogs/35/Q/PF/2020/3/S2A\\_35QPF\\_20200302\\_0\\_L2A/B05.tif & https://sentinel-cogs.s3.us-west-2.amazonaws.com/sentinel-s2-l2a-cogs/35/Q/PF/2020/3/S2A\\_35QPF\\_20200302\\_0\\_L2A/B06.tif & https://sentinel-cogs.s3.us-west-2.amazonaws.com/sentinel-s2-l2a-cogs/35/Q/PF/2020/3/S2A\\_35QPF\\_20200302\\_0\\_L2A/B07.tif & https://sentinel-cogs.s3.us-west-2.amazonaws.com/sentinel-s2-l2a-cogs/35/Q/PF/2020/3/S2A\\_35QPF\\_20200302\\_0\\_L2A/B08.tif & https://sentinel-cogs.s3.us-west-2.amazonaws.com/sentinel-s2-l2a-cogs/35/Q/PF/2020/3/S2A\\_35QPF\\_20200302\\_0\\_L2A/B09.tif & https://sentinel-cogs.s3.us-west-2.amazonaws.com/sentinel-s2-l2a-cogs/35/Q/PF/2020/3/S2A\\_35QPF\\_20200302\\_0\\_L2A/B11.tif & https://sentinel-cogs.s3.us-west-2.amazonaws.com/sentinel-s2-l2a-cogs/35/Q/PF/2020/3/S2A\\_35QPF\\_20200302\\_0\\_L2A/B12.tif & https://sentinel-cogs.s3.us-west-2.amazonaws.com/sentinel-s2-l2a-cogs/35/Q/PF/2020/3/S2A\\_35QPF\\_20200302\\_0\\_L2A/B8A.tif & https://sentinel-cogs.s3.us-west-2.amazonaws.com/sentinel-s2-l2a-cogs/35/Q/PF/2020/3/S2A\\_35QPF\\_20200302\\_0\\_L2A/SCL.tif & https://sentinel-cogs.s3.us-west-2.amazonaws.com/sentinel-s2-l2a-cogs/35/Q/PF/2020/3/S2A\\_35QPF\\_20200302\\_0\\_L2A/WVP.tif & https://sentinel-cogs.s3.us-west-2.amazonaws.com/sentinel-s2-l2a-cogs/35/Q/PF/2020/3/S2A\\_35QPF\\_20200302\\_0\\_L2A/TCI.tif & https://sentinel-cogs.s3.us-west-2.amazonaws.com/sentinel-s2-l2a-cogs/35/Q/PF/2020/3/S2A\\_35QPF\\_20200302\\_0\\_L2A/L2A\\_PVI.tif\\\\\n",
       "\t https://sentinel-cogs.s3.us-west-2.amazonaws.com/sentinel-s2-l2a-cogs/35/Q/PF/2020/1/S2B\\_35QPF\\_20200127\\_1\\_L2A/AOT.tif & https://sentinel-cogs.s3.us-west-2.amazonaws.com/sentinel-s2-l2a-cogs/35/Q/PF/2020/1/S2B\\_35QPF\\_20200127\\_1\\_L2A/B01.tif & https://sentinel-cogs.s3.us-west-2.amazonaws.com/sentinel-s2-l2a-cogs/35/Q/PF/2020/1/S2B\\_35QPF\\_20200127\\_1\\_L2A/B02.tif & https://sentinel-cogs.s3.us-west-2.amazonaws.com/sentinel-s2-l2a-cogs/35/Q/PF/2020/1/S2B\\_35QPF\\_20200127\\_1\\_L2A/B03.tif & https://sentinel-cogs.s3.us-west-2.amazonaws.com/sentinel-s2-l2a-cogs/35/Q/PF/2020/1/S2B\\_35QPF\\_20200127\\_1\\_L2A/B04.tif & https://sentinel-cogs.s3.us-west-2.amazonaws.com/sentinel-s2-l2a-cogs/35/Q/PF/2020/1/S2B\\_35QPF\\_20200127\\_1\\_L2A/B05.tif & https://sentinel-cogs.s3.us-west-2.amazonaws.com/sentinel-s2-l2a-cogs/35/Q/PF/2020/1/S2B\\_35QPF\\_20200127\\_1\\_L2A/B06.tif & https://sentinel-cogs.s3.us-west-2.amazonaws.com/sentinel-s2-l2a-cogs/35/Q/PF/2020/1/S2B\\_35QPF\\_20200127\\_1\\_L2A/B07.tif & https://sentinel-cogs.s3.us-west-2.amazonaws.com/sentinel-s2-l2a-cogs/35/Q/PF/2020/1/S2B\\_35QPF\\_20200127\\_1\\_L2A/B08.tif & https://sentinel-cogs.s3.us-west-2.amazonaws.com/sentinel-s2-l2a-cogs/35/Q/PF/2020/1/S2B\\_35QPF\\_20200127\\_1\\_L2A/B09.tif & https://sentinel-cogs.s3.us-west-2.amazonaws.com/sentinel-s2-l2a-cogs/35/Q/PF/2020/1/S2B\\_35QPF\\_20200127\\_1\\_L2A/B11.tif & https://sentinel-cogs.s3.us-west-2.amazonaws.com/sentinel-s2-l2a-cogs/35/Q/PF/2020/1/S2B\\_35QPF\\_20200127\\_1\\_L2A/B12.tif & https://sentinel-cogs.s3.us-west-2.amazonaws.com/sentinel-s2-l2a-cogs/35/Q/PF/2020/1/S2B\\_35QPF\\_20200127\\_1\\_L2A/B8A.tif & https://sentinel-cogs.s3.us-west-2.amazonaws.com/sentinel-s2-l2a-cogs/35/Q/PF/2020/1/S2B\\_35QPF\\_20200127\\_1\\_L2A/SCL.tif & https://sentinel-cogs.s3.us-west-2.amazonaws.com/sentinel-s2-l2a-cogs/35/Q/PF/2020/1/S2B\\_35QPF\\_20200127\\_1\\_L2A/WVP.tif & https://sentinel-cogs.s3.us-west-2.amazonaws.com/sentinel-s2-l2a-cogs/35/Q/PF/2020/1/S2B\\_35QPF\\_20200127\\_1\\_L2A/TCI.tif & https://sentinel-cogs.s3.us-west-2.amazonaws.com/sentinel-s2-l2a-cogs/35/Q/PF/2020/1/S2B\\_35QPF\\_20200127\\_1\\_L2A/L2A\\_PVI.tif\\\\\n",
       "\t https://sentinel-cogs.s3.us-west-2.amazonaws.com/sentinel-s2-l2a-cogs/35/Q/PF/2020/2/S2A\\_35QPF\\_20200201\\_0\\_L2A/AOT.tif & https://sentinel-cogs.s3.us-west-2.amazonaws.com/sentinel-s2-l2a-cogs/35/Q/PF/2020/2/S2A\\_35QPF\\_20200201\\_0\\_L2A/B01.tif & https://sentinel-cogs.s3.us-west-2.amazonaws.com/sentinel-s2-l2a-cogs/35/Q/PF/2020/2/S2A\\_35QPF\\_20200201\\_0\\_L2A/B02.tif & https://sentinel-cogs.s3.us-west-2.amazonaws.com/sentinel-s2-l2a-cogs/35/Q/PF/2020/2/S2A\\_35QPF\\_20200201\\_0\\_L2A/B03.tif & https://sentinel-cogs.s3.us-west-2.amazonaws.com/sentinel-s2-l2a-cogs/35/Q/PF/2020/2/S2A\\_35QPF\\_20200201\\_0\\_L2A/B04.tif & https://sentinel-cogs.s3.us-west-2.amazonaws.com/sentinel-s2-l2a-cogs/35/Q/PF/2020/2/S2A\\_35QPF\\_20200201\\_0\\_L2A/B05.tif & https://sentinel-cogs.s3.us-west-2.amazonaws.com/sentinel-s2-l2a-cogs/35/Q/PF/2020/2/S2A\\_35QPF\\_20200201\\_0\\_L2A/B06.tif & https://sentinel-cogs.s3.us-west-2.amazonaws.com/sentinel-s2-l2a-cogs/35/Q/PF/2020/2/S2A\\_35QPF\\_20200201\\_0\\_L2A/B07.tif & https://sentinel-cogs.s3.us-west-2.amazonaws.com/sentinel-s2-l2a-cogs/35/Q/PF/2020/2/S2A\\_35QPF\\_20200201\\_0\\_L2A/B08.tif & https://sentinel-cogs.s3.us-west-2.amazonaws.com/sentinel-s2-l2a-cogs/35/Q/PF/2020/2/S2A\\_35QPF\\_20200201\\_0\\_L2A/B09.tif & https://sentinel-cogs.s3.us-west-2.amazonaws.com/sentinel-s2-l2a-cogs/35/Q/PF/2020/2/S2A\\_35QPF\\_20200201\\_0\\_L2A/B11.tif & https://sentinel-cogs.s3.us-west-2.amazonaws.com/sentinel-s2-l2a-cogs/35/Q/PF/2020/2/S2A\\_35QPF\\_20200201\\_0\\_L2A/B12.tif & https://sentinel-cogs.s3.us-west-2.amazonaws.com/sentinel-s2-l2a-cogs/35/Q/PF/2020/2/S2A\\_35QPF\\_20200201\\_0\\_L2A/B8A.tif & https://sentinel-cogs.s3.us-west-2.amazonaws.com/sentinel-s2-l2a-cogs/35/Q/PF/2020/2/S2A\\_35QPF\\_20200201\\_0\\_L2A/SCL.tif & https://sentinel-cogs.s3.us-west-2.amazonaws.com/sentinel-s2-l2a-cogs/35/Q/PF/2020/2/S2A\\_35QPF\\_20200201\\_0\\_L2A/WVP.tif & https://sentinel-cogs.s3.us-west-2.amazonaws.com/sentinel-s2-l2a-cogs/35/Q/PF/2020/2/S2A\\_35QPF\\_20200201\\_0\\_L2A/TCI.tif & https://sentinel-cogs.s3.us-west-2.amazonaws.com/sentinel-s2-l2a-cogs/35/Q/PF/2020/2/S2A\\_35QPF\\_20200201\\_0\\_L2A/L2A\\_PVI.tif\\\\\n",
       "\t https://sentinel-cogs.s3.us-west-2.amazonaws.com/sentinel-s2-l2a-cogs/35/Q/PF/2020/3/S2A\\_35QPF\\_20200322\\_0\\_L2A/AOT.tif & https://sentinel-cogs.s3.us-west-2.amazonaws.com/sentinel-s2-l2a-cogs/35/Q/PF/2020/3/S2A\\_35QPF\\_20200322\\_0\\_L2A/B01.tif & https://sentinel-cogs.s3.us-west-2.amazonaws.com/sentinel-s2-l2a-cogs/35/Q/PF/2020/3/S2A\\_35QPF\\_20200322\\_0\\_L2A/B02.tif & https://sentinel-cogs.s3.us-west-2.amazonaws.com/sentinel-s2-l2a-cogs/35/Q/PF/2020/3/S2A\\_35QPF\\_20200322\\_0\\_L2A/B03.tif & https://sentinel-cogs.s3.us-west-2.amazonaws.com/sentinel-s2-l2a-cogs/35/Q/PF/2020/3/S2A\\_35QPF\\_20200322\\_0\\_L2A/B04.tif & https://sentinel-cogs.s3.us-west-2.amazonaws.com/sentinel-s2-l2a-cogs/35/Q/PF/2020/3/S2A\\_35QPF\\_20200322\\_0\\_L2A/B05.tif & https://sentinel-cogs.s3.us-west-2.amazonaws.com/sentinel-s2-l2a-cogs/35/Q/PF/2020/3/S2A\\_35QPF\\_20200322\\_0\\_L2A/B06.tif & https://sentinel-cogs.s3.us-west-2.amazonaws.com/sentinel-s2-l2a-cogs/35/Q/PF/2020/3/S2A\\_35QPF\\_20200322\\_0\\_L2A/B07.tif & https://sentinel-cogs.s3.us-west-2.amazonaws.com/sentinel-s2-l2a-cogs/35/Q/PF/2020/3/S2A\\_35QPF\\_20200322\\_0\\_L2A/B08.tif & https://sentinel-cogs.s3.us-west-2.amazonaws.com/sentinel-s2-l2a-cogs/35/Q/PF/2020/3/S2A\\_35QPF\\_20200322\\_0\\_L2A/B09.tif & https://sentinel-cogs.s3.us-west-2.amazonaws.com/sentinel-s2-l2a-cogs/35/Q/PF/2020/3/S2A\\_35QPF\\_20200322\\_0\\_L2A/B11.tif & https://sentinel-cogs.s3.us-west-2.amazonaws.com/sentinel-s2-l2a-cogs/35/Q/PF/2020/3/S2A\\_35QPF\\_20200322\\_0\\_L2A/B12.tif & https://sentinel-cogs.s3.us-west-2.amazonaws.com/sentinel-s2-l2a-cogs/35/Q/PF/2020/3/S2A\\_35QPF\\_20200322\\_0\\_L2A/B8A.tif & https://sentinel-cogs.s3.us-west-2.amazonaws.com/sentinel-s2-l2a-cogs/35/Q/PF/2020/3/S2A\\_35QPF\\_20200322\\_0\\_L2A/SCL.tif & https://sentinel-cogs.s3.us-west-2.amazonaws.com/sentinel-s2-l2a-cogs/35/Q/PF/2020/3/S2A\\_35QPF\\_20200322\\_0\\_L2A/WVP.tif & https://sentinel-cogs.s3.us-west-2.amazonaws.com/sentinel-s2-l2a-cogs/35/Q/PF/2020/3/S2A\\_35QPF\\_20200322\\_0\\_L2A/TCI.tif & https://sentinel-cogs.s3.us-west-2.amazonaws.com/sentinel-s2-l2a-cogs/35/Q/PF/2020/3/S2A\\_35QPF\\_20200322\\_0\\_L2A/L2A\\_PVI.tif\\\\\n",
       "\t https://sentinel-cogs.s3.us-west-2.amazonaws.com/sentinel-s2-l2a-cogs/35/Q/PF/2020/2/S2B\\_35QPF\\_20200216\\_0\\_L2A/AOT.tif & https://sentinel-cogs.s3.us-west-2.amazonaws.com/sentinel-s2-l2a-cogs/35/Q/PF/2020/2/S2B\\_35QPF\\_20200216\\_0\\_L2A/B01.tif & https://sentinel-cogs.s3.us-west-2.amazonaws.com/sentinel-s2-l2a-cogs/35/Q/PF/2020/2/S2B\\_35QPF\\_20200216\\_0\\_L2A/B02.tif & https://sentinel-cogs.s3.us-west-2.amazonaws.com/sentinel-s2-l2a-cogs/35/Q/PF/2020/2/S2B\\_35QPF\\_20200216\\_0\\_L2A/B03.tif & https://sentinel-cogs.s3.us-west-2.amazonaws.com/sentinel-s2-l2a-cogs/35/Q/PF/2020/2/S2B\\_35QPF\\_20200216\\_0\\_L2A/B04.tif & https://sentinel-cogs.s3.us-west-2.amazonaws.com/sentinel-s2-l2a-cogs/35/Q/PF/2020/2/S2B\\_35QPF\\_20200216\\_0\\_L2A/B05.tif & https://sentinel-cogs.s3.us-west-2.amazonaws.com/sentinel-s2-l2a-cogs/35/Q/PF/2020/2/S2B\\_35QPF\\_20200216\\_0\\_L2A/B06.tif & https://sentinel-cogs.s3.us-west-2.amazonaws.com/sentinel-s2-l2a-cogs/35/Q/PF/2020/2/S2B\\_35QPF\\_20200216\\_0\\_L2A/B07.tif & https://sentinel-cogs.s3.us-west-2.amazonaws.com/sentinel-s2-l2a-cogs/35/Q/PF/2020/2/S2B\\_35QPF\\_20200216\\_0\\_L2A/B08.tif & https://sentinel-cogs.s3.us-west-2.amazonaws.com/sentinel-s2-l2a-cogs/35/Q/PF/2020/2/S2B\\_35QPF\\_20200216\\_0\\_L2A/B09.tif & https://sentinel-cogs.s3.us-west-2.amazonaws.com/sentinel-s2-l2a-cogs/35/Q/PF/2020/2/S2B\\_35QPF\\_20200216\\_0\\_L2A/B11.tif & https://sentinel-cogs.s3.us-west-2.amazonaws.com/sentinel-s2-l2a-cogs/35/Q/PF/2020/2/S2B\\_35QPF\\_20200216\\_0\\_L2A/B12.tif & https://sentinel-cogs.s3.us-west-2.amazonaws.com/sentinel-s2-l2a-cogs/35/Q/PF/2020/2/S2B\\_35QPF\\_20200216\\_0\\_L2A/B8A.tif & https://sentinel-cogs.s3.us-west-2.amazonaws.com/sentinel-s2-l2a-cogs/35/Q/PF/2020/2/S2B\\_35QPF\\_20200216\\_0\\_L2A/SCL.tif & https://sentinel-cogs.s3.us-west-2.amazonaws.com/sentinel-s2-l2a-cogs/35/Q/PF/2020/2/S2B\\_35QPF\\_20200216\\_0\\_L2A/WVP.tif & https://sentinel-cogs.s3.us-west-2.amazonaws.com/sentinel-s2-l2a-cogs/35/Q/PF/2020/2/S2B\\_35QPF\\_20200216\\_0\\_L2A/TCI.tif & https://sentinel-cogs.s3.us-west-2.amazonaws.com/sentinel-s2-l2a-cogs/35/Q/PF/2020/2/S2B\\_35QPF\\_20200216\\_0\\_L2A/L2A\\_PVI.tif\\\\\n",
       "\t https://sentinel-cogs.s3.us-west-2.amazonaws.com/sentinel-s2-l2a-cogs/35/Q/PF/2020/1/S2A\\_35QPF\\_20200112\\_0\\_L2A/AOT.tif & https://sentinel-cogs.s3.us-west-2.amazonaws.com/sentinel-s2-l2a-cogs/35/Q/PF/2020/1/S2A\\_35QPF\\_20200112\\_0\\_L2A/B01.tif & https://sentinel-cogs.s3.us-west-2.amazonaws.com/sentinel-s2-l2a-cogs/35/Q/PF/2020/1/S2A\\_35QPF\\_20200112\\_0\\_L2A/B02.tif & https://sentinel-cogs.s3.us-west-2.amazonaws.com/sentinel-s2-l2a-cogs/35/Q/PF/2020/1/S2A\\_35QPF\\_20200112\\_0\\_L2A/B03.tif & https://sentinel-cogs.s3.us-west-2.amazonaws.com/sentinel-s2-l2a-cogs/35/Q/PF/2020/1/S2A\\_35QPF\\_20200112\\_0\\_L2A/B04.tif & https://sentinel-cogs.s3.us-west-2.amazonaws.com/sentinel-s2-l2a-cogs/35/Q/PF/2020/1/S2A\\_35QPF\\_20200112\\_0\\_L2A/B05.tif & https://sentinel-cogs.s3.us-west-2.amazonaws.com/sentinel-s2-l2a-cogs/35/Q/PF/2020/1/S2A\\_35QPF\\_20200112\\_0\\_L2A/B06.tif & https://sentinel-cogs.s3.us-west-2.amazonaws.com/sentinel-s2-l2a-cogs/35/Q/PF/2020/1/S2A\\_35QPF\\_20200112\\_0\\_L2A/B07.tif & https://sentinel-cogs.s3.us-west-2.amazonaws.com/sentinel-s2-l2a-cogs/35/Q/PF/2020/1/S2A\\_35QPF\\_20200112\\_0\\_L2A/B08.tif & https://sentinel-cogs.s3.us-west-2.amazonaws.com/sentinel-s2-l2a-cogs/35/Q/PF/2020/1/S2A\\_35QPF\\_20200112\\_0\\_L2A/B09.tif & https://sentinel-cogs.s3.us-west-2.amazonaws.com/sentinel-s2-l2a-cogs/35/Q/PF/2020/1/S2A\\_35QPF\\_20200112\\_0\\_L2A/B11.tif & https://sentinel-cogs.s3.us-west-2.amazonaws.com/sentinel-s2-l2a-cogs/35/Q/PF/2020/1/S2A\\_35QPF\\_20200112\\_0\\_L2A/B12.tif & https://sentinel-cogs.s3.us-west-2.amazonaws.com/sentinel-s2-l2a-cogs/35/Q/PF/2020/1/S2A\\_35QPF\\_20200112\\_0\\_L2A/B8A.tif & https://sentinel-cogs.s3.us-west-2.amazonaws.com/sentinel-s2-l2a-cogs/35/Q/PF/2020/1/S2A\\_35QPF\\_20200112\\_0\\_L2A/SCL.tif & https://sentinel-cogs.s3.us-west-2.amazonaws.com/sentinel-s2-l2a-cogs/35/Q/PF/2020/1/S2A\\_35QPF\\_20200112\\_0\\_L2A/WVP.tif & https://sentinel-cogs.s3.us-west-2.amazonaws.com/sentinel-s2-l2a-cogs/35/Q/PF/2020/1/S2A\\_35QPF\\_20200112\\_0\\_L2A/TCI.tif & https://sentinel-cogs.s3.us-west-2.amazonaws.com/sentinel-s2-l2a-cogs/35/Q/PF/2020/1/S2A\\_35QPF\\_20200112\\_0\\_L2A/L2A\\_PVI.tif\\\\\n",
       "\t https://sentinel-cogs.s3.us-west-2.amazonaws.com/sentinel-s2-l2a-cogs/35/Q/PF/2020/1/S2A\\_35QPF\\_20200112\\_1\\_L2A/AOT.tif & https://sentinel-cogs.s3.us-west-2.amazonaws.com/sentinel-s2-l2a-cogs/35/Q/PF/2020/1/S2A\\_35QPF\\_20200112\\_1\\_L2A/B01.tif & https://sentinel-cogs.s3.us-west-2.amazonaws.com/sentinel-s2-l2a-cogs/35/Q/PF/2020/1/S2A\\_35QPF\\_20200112\\_1\\_L2A/B02.tif & https://sentinel-cogs.s3.us-west-2.amazonaws.com/sentinel-s2-l2a-cogs/35/Q/PF/2020/1/S2A\\_35QPF\\_20200112\\_1\\_L2A/B03.tif & https://sentinel-cogs.s3.us-west-2.amazonaws.com/sentinel-s2-l2a-cogs/35/Q/PF/2020/1/S2A\\_35QPF\\_20200112\\_1\\_L2A/B04.tif & https://sentinel-cogs.s3.us-west-2.amazonaws.com/sentinel-s2-l2a-cogs/35/Q/PF/2020/1/S2A\\_35QPF\\_20200112\\_1\\_L2A/B05.tif & https://sentinel-cogs.s3.us-west-2.amazonaws.com/sentinel-s2-l2a-cogs/35/Q/PF/2020/1/S2A\\_35QPF\\_20200112\\_1\\_L2A/B06.tif & https://sentinel-cogs.s3.us-west-2.amazonaws.com/sentinel-s2-l2a-cogs/35/Q/PF/2020/1/S2A\\_35QPF\\_20200112\\_1\\_L2A/B07.tif & https://sentinel-cogs.s3.us-west-2.amazonaws.com/sentinel-s2-l2a-cogs/35/Q/PF/2020/1/S2A\\_35QPF\\_20200112\\_1\\_L2A/B08.tif & https://sentinel-cogs.s3.us-west-2.amazonaws.com/sentinel-s2-l2a-cogs/35/Q/PF/2020/1/S2A\\_35QPF\\_20200112\\_1\\_L2A/B09.tif & https://sentinel-cogs.s3.us-west-2.amazonaws.com/sentinel-s2-l2a-cogs/35/Q/PF/2020/1/S2A\\_35QPF\\_20200112\\_1\\_L2A/B11.tif & https://sentinel-cogs.s3.us-west-2.amazonaws.com/sentinel-s2-l2a-cogs/35/Q/PF/2020/1/S2A\\_35QPF\\_20200112\\_1\\_L2A/B12.tif & https://sentinel-cogs.s3.us-west-2.amazonaws.com/sentinel-s2-l2a-cogs/35/Q/PF/2020/1/S2A\\_35QPF\\_20200112\\_1\\_L2A/B8A.tif & https://sentinel-cogs.s3.us-west-2.amazonaws.com/sentinel-s2-l2a-cogs/35/Q/PF/2020/1/S2A\\_35QPF\\_20200112\\_1\\_L2A/SCL.tif & https://sentinel-cogs.s3.us-west-2.amazonaws.com/sentinel-s2-l2a-cogs/35/Q/PF/2020/1/S2A\\_35QPF\\_20200112\\_1\\_L2A/WVP.tif & https://sentinel-cogs.s3.us-west-2.amazonaws.com/sentinel-s2-l2a-cogs/35/Q/PF/2020/1/S2A\\_35QPF\\_20200112\\_1\\_L2A/TCI.tif & https://sentinel-cogs.s3.us-west-2.amazonaws.com/sentinel-s2-l2a-cogs/35/Q/PF/2020/1/S2A\\_35QPF\\_20200112\\_1\\_L2A/L2A\\_PVI.tif\\\\\n",
       "\\end{tabular}\n"
      ],
      "text/markdown": [
       "\n",
       "A data.frame: 19 × 17\n",
       "\n",
       "| AOT &lt;chr&gt; | B01 &lt;chr&gt; | B02 &lt;chr&gt; | B03 &lt;chr&gt; | B04 &lt;chr&gt; | B05 &lt;chr&gt; | B06 &lt;chr&gt; | B07 &lt;chr&gt; | B08 &lt;chr&gt; | B09 &lt;chr&gt; | B11 &lt;chr&gt; | B12 &lt;chr&gt; | B8A &lt;chr&gt; | SCL &lt;chr&gt; | WVP &lt;chr&gt; | visual &lt;chr&gt; | overview &lt;chr&gt; |\n",
       "|---|---|---|---|---|---|---|---|---|---|---|---|---|---|---|---|---|\n",
       "| https://sentinel-cogs.s3.us-west-2.amazonaws.com/sentinel-s2-l2a-cogs/35/Q/PF/2020/3/S2B_35QPF_20200307_0_L2A/AOT.tif | https://sentinel-cogs.s3.us-west-2.amazonaws.com/sentinel-s2-l2a-cogs/35/Q/PF/2020/3/S2B_35QPF_20200307_0_L2A/B01.tif | https://sentinel-cogs.s3.us-west-2.amazonaws.com/sentinel-s2-l2a-cogs/35/Q/PF/2020/3/S2B_35QPF_20200307_0_L2A/B02.tif | https://sentinel-cogs.s3.us-west-2.amazonaws.com/sentinel-s2-l2a-cogs/35/Q/PF/2020/3/S2B_35QPF_20200307_0_L2A/B03.tif | https://sentinel-cogs.s3.us-west-2.amazonaws.com/sentinel-s2-l2a-cogs/35/Q/PF/2020/3/S2B_35QPF_20200307_0_L2A/B04.tif | https://sentinel-cogs.s3.us-west-2.amazonaws.com/sentinel-s2-l2a-cogs/35/Q/PF/2020/3/S2B_35QPF_20200307_0_L2A/B05.tif | https://sentinel-cogs.s3.us-west-2.amazonaws.com/sentinel-s2-l2a-cogs/35/Q/PF/2020/3/S2B_35QPF_20200307_0_L2A/B06.tif | https://sentinel-cogs.s3.us-west-2.amazonaws.com/sentinel-s2-l2a-cogs/35/Q/PF/2020/3/S2B_35QPF_20200307_0_L2A/B07.tif | https://sentinel-cogs.s3.us-west-2.amazonaws.com/sentinel-s2-l2a-cogs/35/Q/PF/2020/3/S2B_35QPF_20200307_0_L2A/B08.tif | https://sentinel-cogs.s3.us-west-2.amazonaws.com/sentinel-s2-l2a-cogs/35/Q/PF/2020/3/S2B_35QPF_20200307_0_L2A/B09.tif | https://sentinel-cogs.s3.us-west-2.amazonaws.com/sentinel-s2-l2a-cogs/35/Q/PF/2020/3/S2B_35QPF_20200307_0_L2A/B11.tif | https://sentinel-cogs.s3.us-west-2.amazonaws.com/sentinel-s2-l2a-cogs/35/Q/PF/2020/3/S2B_35QPF_20200307_0_L2A/B12.tif | https://sentinel-cogs.s3.us-west-2.amazonaws.com/sentinel-s2-l2a-cogs/35/Q/PF/2020/3/S2B_35QPF_20200307_0_L2A/B8A.tif | https://sentinel-cogs.s3.us-west-2.amazonaws.com/sentinel-s2-l2a-cogs/35/Q/PF/2020/3/S2B_35QPF_20200307_0_L2A/SCL.tif | https://sentinel-cogs.s3.us-west-2.amazonaws.com/sentinel-s2-l2a-cogs/35/Q/PF/2020/3/S2B_35QPF_20200307_0_L2A/WVP.tif | https://sentinel-cogs.s3.us-west-2.amazonaws.com/sentinel-s2-l2a-cogs/35/Q/PF/2020/3/S2B_35QPF_20200307_0_L2A/TCI.tif | https://sentinel-cogs.s3.us-west-2.amazonaws.com/sentinel-s2-l2a-cogs/35/Q/PF/2020/3/S2B_35QPF_20200307_0_L2A/L2A_PVI.tif |\n",
       "| https://sentinel-cogs.s3.us-west-2.amazonaws.com/sentinel-s2-l2a-cogs/35/Q/PF/2020/1/S2A_35QPF_20200102_0_L2A/AOT.tif | https://sentinel-cogs.s3.us-west-2.amazonaws.com/sentinel-s2-l2a-cogs/35/Q/PF/2020/1/S2A_35QPF_20200102_0_L2A/B01.tif | https://sentinel-cogs.s3.us-west-2.amazonaws.com/sentinel-s2-l2a-cogs/35/Q/PF/2020/1/S2A_35QPF_20200102_0_L2A/B02.tif | https://sentinel-cogs.s3.us-west-2.amazonaws.com/sentinel-s2-l2a-cogs/35/Q/PF/2020/1/S2A_35QPF_20200102_0_L2A/B03.tif | https://sentinel-cogs.s3.us-west-2.amazonaws.com/sentinel-s2-l2a-cogs/35/Q/PF/2020/1/S2A_35QPF_20200102_0_L2A/B04.tif | https://sentinel-cogs.s3.us-west-2.amazonaws.com/sentinel-s2-l2a-cogs/35/Q/PF/2020/1/S2A_35QPF_20200102_0_L2A/B05.tif | https://sentinel-cogs.s3.us-west-2.amazonaws.com/sentinel-s2-l2a-cogs/35/Q/PF/2020/1/S2A_35QPF_20200102_0_L2A/B06.tif | https://sentinel-cogs.s3.us-west-2.amazonaws.com/sentinel-s2-l2a-cogs/35/Q/PF/2020/1/S2A_35QPF_20200102_0_L2A/B07.tif | https://sentinel-cogs.s3.us-west-2.amazonaws.com/sentinel-s2-l2a-cogs/35/Q/PF/2020/1/S2A_35QPF_20200102_0_L2A/B08.tif | https://sentinel-cogs.s3.us-west-2.amazonaws.com/sentinel-s2-l2a-cogs/35/Q/PF/2020/1/S2A_35QPF_20200102_0_L2A/B09.tif | https://sentinel-cogs.s3.us-west-2.amazonaws.com/sentinel-s2-l2a-cogs/35/Q/PF/2020/1/S2A_35QPF_20200102_0_L2A/B11.tif | https://sentinel-cogs.s3.us-west-2.amazonaws.com/sentinel-s2-l2a-cogs/35/Q/PF/2020/1/S2A_35QPF_20200102_0_L2A/B12.tif | https://sentinel-cogs.s3.us-west-2.amazonaws.com/sentinel-s2-l2a-cogs/35/Q/PF/2020/1/S2A_35QPF_20200102_0_L2A/B8A.tif | https://sentinel-cogs.s3.us-west-2.amazonaws.com/sentinel-s2-l2a-cogs/35/Q/PF/2020/1/S2A_35QPF_20200102_0_L2A/SCL.tif | https://sentinel-cogs.s3.us-west-2.amazonaws.com/sentinel-s2-l2a-cogs/35/Q/PF/2020/1/S2A_35QPF_20200102_0_L2A/WVP.tif | https://sentinel-cogs.s3.us-west-2.amazonaws.com/sentinel-s2-l2a-cogs/35/Q/PF/2020/1/S2A_35QPF_20200102_0_L2A/TCI.tif | https://sentinel-cogs.s3.us-west-2.amazonaws.com/sentinel-s2-l2a-cogs/35/Q/PF/2020/1/S2A_35QPF_20200102_0_L2A/L2A_PVI.tif |\n",
       "| https://sentinel-cogs.s3.us-west-2.amazonaws.com/sentinel-s2-l2a-cogs/35/Q/PF/2020/1/S2B_35QPF_20200117_0_L2A/AOT.tif | https://sentinel-cogs.s3.us-west-2.amazonaws.com/sentinel-s2-l2a-cogs/35/Q/PF/2020/1/S2B_35QPF_20200117_0_L2A/B01.tif | https://sentinel-cogs.s3.us-west-2.amazonaws.com/sentinel-s2-l2a-cogs/35/Q/PF/2020/1/S2B_35QPF_20200117_0_L2A/B02.tif | https://sentinel-cogs.s3.us-west-2.amazonaws.com/sentinel-s2-l2a-cogs/35/Q/PF/2020/1/S2B_35QPF_20200117_0_L2A/B03.tif | https://sentinel-cogs.s3.us-west-2.amazonaws.com/sentinel-s2-l2a-cogs/35/Q/PF/2020/1/S2B_35QPF_20200117_0_L2A/B04.tif | https://sentinel-cogs.s3.us-west-2.amazonaws.com/sentinel-s2-l2a-cogs/35/Q/PF/2020/1/S2B_35QPF_20200117_0_L2A/B05.tif | https://sentinel-cogs.s3.us-west-2.amazonaws.com/sentinel-s2-l2a-cogs/35/Q/PF/2020/1/S2B_35QPF_20200117_0_L2A/B06.tif | https://sentinel-cogs.s3.us-west-2.amazonaws.com/sentinel-s2-l2a-cogs/35/Q/PF/2020/1/S2B_35QPF_20200117_0_L2A/B07.tif | https://sentinel-cogs.s3.us-west-2.amazonaws.com/sentinel-s2-l2a-cogs/35/Q/PF/2020/1/S2B_35QPF_20200117_0_L2A/B08.tif | https://sentinel-cogs.s3.us-west-2.amazonaws.com/sentinel-s2-l2a-cogs/35/Q/PF/2020/1/S2B_35QPF_20200117_0_L2A/B09.tif | https://sentinel-cogs.s3.us-west-2.amazonaws.com/sentinel-s2-l2a-cogs/35/Q/PF/2020/1/S2B_35QPF_20200117_0_L2A/B11.tif | https://sentinel-cogs.s3.us-west-2.amazonaws.com/sentinel-s2-l2a-cogs/35/Q/PF/2020/1/S2B_35QPF_20200117_0_L2A/B12.tif | https://sentinel-cogs.s3.us-west-2.amazonaws.com/sentinel-s2-l2a-cogs/35/Q/PF/2020/1/S2B_35QPF_20200117_0_L2A/B8A.tif | https://sentinel-cogs.s3.us-west-2.amazonaws.com/sentinel-s2-l2a-cogs/35/Q/PF/2020/1/S2B_35QPF_20200117_0_L2A/SCL.tif | https://sentinel-cogs.s3.us-west-2.amazonaws.com/sentinel-s2-l2a-cogs/35/Q/PF/2020/1/S2B_35QPF_20200117_0_L2A/WVP.tif | https://sentinel-cogs.s3.us-west-2.amazonaws.com/sentinel-s2-l2a-cogs/35/Q/PF/2020/1/S2B_35QPF_20200117_0_L2A/TCI.tif | https://sentinel-cogs.s3.us-west-2.amazonaws.com/sentinel-s2-l2a-cogs/35/Q/PF/2020/1/S2B_35QPF_20200117_0_L2A/L2A_PVI.tif |\n",
       "| https://sentinel-cogs.s3.us-west-2.amazonaws.com/sentinel-s2-l2a-cogs/35/Q/PF/2020/3/S2A_35QPF_20200312_0_L2A/AOT.tif | https://sentinel-cogs.s3.us-west-2.amazonaws.com/sentinel-s2-l2a-cogs/35/Q/PF/2020/3/S2A_35QPF_20200312_0_L2A/B01.tif | https://sentinel-cogs.s3.us-west-2.amazonaws.com/sentinel-s2-l2a-cogs/35/Q/PF/2020/3/S2A_35QPF_20200312_0_L2A/B02.tif | https://sentinel-cogs.s3.us-west-2.amazonaws.com/sentinel-s2-l2a-cogs/35/Q/PF/2020/3/S2A_35QPF_20200312_0_L2A/B03.tif | https://sentinel-cogs.s3.us-west-2.amazonaws.com/sentinel-s2-l2a-cogs/35/Q/PF/2020/3/S2A_35QPF_20200312_0_L2A/B04.tif | https://sentinel-cogs.s3.us-west-2.amazonaws.com/sentinel-s2-l2a-cogs/35/Q/PF/2020/3/S2A_35QPF_20200312_0_L2A/B05.tif | https://sentinel-cogs.s3.us-west-2.amazonaws.com/sentinel-s2-l2a-cogs/35/Q/PF/2020/3/S2A_35QPF_20200312_0_L2A/B06.tif | https://sentinel-cogs.s3.us-west-2.amazonaws.com/sentinel-s2-l2a-cogs/35/Q/PF/2020/3/S2A_35QPF_20200312_0_L2A/B07.tif | https://sentinel-cogs.s3.us-west-2.amazonaws.com/sentinel-s2-l2a-cogs/35/Q/PF/2020/3/S2A_35QPF_20200312_0_L2A/B08.tif | https://sentinel-cogs.s3.us-west-2.amazonaws.com/sentinel-s2-l2a-cogs/35/Q/PF/2020/3/S2A_35QPF_20200312_0_L2A/B09.tif | https://sentinel-cogs.s3.us-west-2.amazonaws.com/sentinel-s2-l2a-cogs/35/Q/PF/2020/3/S2A_35QPF_20200312_0_L2A/B11.tif | https://sentinel-cogs.s3.us-west-2.amazonaws.com/sentinel-s2-l2a-cogs/35/Q/PF/2020/3/S2A_35QPF_20200312_0_L2A/B12.tif | https://sentinel-cogs.s3.us-west-2.amazonaws.com/sentinel-s2-l2a-cogs/35/Q/PF/2020/3/S2A_35QPF_20200312_0_L2A/B8A.tif | https://sentinel-cogs.s3.us-west-2.amazonaws.com/sentinel-s2-l2a-cogs/35/Q/PF/2020/3/S2A_35QPF_20200312_0_L2A/SCL.tif | https://sentinel-cogs.s3.us-west-2.amazonaws.com/sentinel-s2-l2a-cogs/35/Q/PF/2020/3/S2A_35QPF_20200312_0_L2A/WVP.tif | https://sentinel-cogs.s3.us-west-2.amazonaws.com/sentinel-s2-l2a-cogs/35/Q/PF/2020/3/S2A_35QPF_20200312_0_L2A/TCI.tif | https://sentinel-cogs.s3.us-west-2.amazonaws.com/sentinel-s2-l2a-cogs/35/Q/PF/2020/3/S2A_35QPF_20200312_0_L2A/L2A_PVI.tif |\n",
       "| https://sentinel-cogs.s3.us-west-2.amazonaws.com/sentinel-s2-l2a-cogs/35/Q/PF/2020/3/S2B_35QPF_20200317_0_L2A/AOT.tif | https://sentinel-cogs.s3.us-west-2.amazonaws.com/sentinel-s2-l2a-cogs/35/Q/PF/2020/3/S2B_35QPF_20200317_0_L2A/B01.tif | https://sentinel-cogs.s3.us-west-2.amazonaws.com/sentinel-s2-l2a-cogs/35/Q/PF/2020/3/S2B_35QPF_20200317_0_L2A/B02.tif | https://sentinel-cogs.s3.us-west-2.amazonaws.com/sentinel-s2-l2a-cogs/35/Q/PF/2020/3/S2B_35QPF_20200317_0_L2A/B03.tif | https://sentinel-cogs.s3.us-west-2.amazonaws.com/sentinel-s2-l2a-cogs/35/Q/PF/2020/3/S2B_35QPF_20200317_0_L2A/B04.tif | https://sentinel-cogs.s3.us-west-2.amazonaws.com/sentinel-s2-l2a-cogs/35/Q/PF/2020/3/S2B_35QPF_20200317_0_L2A/B05.tif | https://sentinel-cogs.s3.us-west-2.amazonaws.com/sentinel-s2-l2a-cogs/35/Q/PF/2020/3/S2B_35QPF_20200317_0_L2A/B06.tif | https://sentinel-cogs.s3.us-west-2.amazonaws.com/sentinel-s2-l2a-cogs/35/Q/PF/2020/3/S2B_35QPF_20200317_0_L2A/B07.tif | https://sentinel-cogs.s3.us-west-2.amazonaws.com/sentinel-s2-l2a-cogs/35/Q/PF/2020/3/S2B_35QPF_20200317_0_L2A/B08.tif | https://sentinel-cogs.s3.us-west-2.amazonaws.com/sentinel-s2-l2a-cogs/35/Q/PF/2020/3/S2B_35QPF_20200317_0_L2A/B09.tif | https://sentinel-cogs.s3.us-west-2.amazonaws.com/sentinel-s2-l2a-cogs/35/Q/PF/2020/3/S2B_35QPF_20200317_0_L2A/B11.tif | https://sentinel-cogs.s3.us-west-2.amazonaws.com/sentinel-s2-l2a-cogs/35/Q/PF/2020/3/S2B_35QPF_20200317_0_L2A/B12.tif | https://sentinel-cogs.s3.us-west-2.amazonaws.com/sentinel-s2-l2a-cogs/35/Q/PF/2020/3/S2B_35QPF_20200317_0_L2A/B8A.tif | https://sentinel-cogs.s3.us-west-2.amazonaws.com/sentinel-s2-l2a-cogs/35/Q/PF/2020/3/S2B_35QPF_20200317_0_L2A/SCL.tif | https://sentinel-cogs.s3.us-west-2.amazonaws.com/sentinel-s2-l2a-cogs/35/Q/PF/2020/3/S2B_35QPF_20200317_0_L2A/WVP.tif | https://sentinel-cogs.s3.us-west-2.amazonaws.com/sentinel-s2-l2a-cogs/35/Q/PF/2020/3/S2B_35QPF_20200317_0_L2A/TCI.tif | https://sentinel-cogs.s3.us-west-2.amazonaws.com/sentinel-s2-l2a-cogs/35/Q/PF/2020/3/S2B_35QPF_20200317_0_L2A/L2A_PVI.tif |\n",
       "| https://sentinel-cogs.s3.us-west-2.amazonaws.com/sentinel-s2-l2a-cogs/35/Q/PF/2020/1/S2A_35QPF_20200122_1_L2A/AOT.tif | https://sentinel-cogs.s3.us-west-2.amazonaws.com/sentinel-s2-l2a-cogs/35/Q/PF/2020/1/S2A_35QPF_20200122_1_L2A/B01.tif | https://sentinel-cogs.s3.us-west-2.amazonaws.com/sentinel-s2-l2a-cogs/35/Q/PF/2020/1/S2A_35QPF_20200122_1_L2A/B02.tif | https://sentinel-cogs.s3.us-west-2.amazonaws.com/sentinel-s2-l2a-cogs/35/Q/PF/2020/1/S2A_35QPF_20200122_1_L2A/B03.tif | https://sentinel-cogs.s3.us-west-2.amazonaws.com/sentinel-s2-l2a-cogs/35/Q/PF/2020/1/S2A_35QPF_20200122_1_L2A/B04.tif | https://sentinel-cogs.s3.us-west-2.amazonaws.com/sentinel-s2-l2a-cogs/35/Q/PF/2020/1/S2A_35QPF_20200122_1_L2A/B05.tif | https://sentinel-cogs.s3.us-west-2.amazonaws.com/sentinel-s2-l2a-cogs/35/Q/PF/2020/1/S2A_35QPF_20200122_1_L2A/B06.tif | https://sentinel-cogs.s3.us-west-2.amazonaws.com/sentinel-s2-l2a-cogs/35/Q/PF/2020/1/S2A_35QPF_20200122_1_L2A/B07.tif | https://sentinel-cogs.s3.us-west-2.amazonaws.com/sentinel-s2-l2a-cogs/35/Q/PF/2020/1/S2A_35QPF_20200122_1_L2A/B08.tif | https://sentinel-cogs.s3.us-west-2.amazonaws.com/sentinel-s2-l2a-cogs/35/Q/PF/2020/1/S2A_35QPF_20200122_1_L2A/B09.tif | https://sentinel-cogs.s3.us-west-2.amazonaws.com/sentinel-s2-l2a-cogs/35/Q/PF/2020/1/S2A_35QPF_20200122_1_L2A/B11.tif | https://sentinel-cogs.s3.us-west-2.amazonaws.com/sentinel-s2-l2a-cogs/35/Q/PF/2020/1/S2A_35QPF_20200122_1_L2A/B12.tif | https://sentinel-cogs.s3.us-west-2.amazonaws.com/sentinel-s2-l2a-cogs/35/Q/PF/2020/1/S2A_35QPF_20200122_1_L2A/B8A.tif | https://sentinel-cogs.s3.us-west-2.amazonaws.com/sentinel-s2-l2a-cogs/35/Q/PF/2020/1/S2A_35QPF_20200122_1_L2A/SCL.tif | https://sentinel-cogs.s3.us-west-2.amazonaws.com/sentinel-s2-l2a-cogs/35/Q/PF/2020/1/S2A_35QPF_20200122_1_L2A/WVP.tif | https://sentinel-cogs.s3.us-west-2.amazonaws.com/sentinel-s2-l2a-cogs/35/Q/PF/2020/1/S2A_35QPF_20200122_1_L2A/TCI.tif | https://sentinel-cogs.s3.us-west-2.amazonaws.com/sentinel-s2-l2a-cogs/35/Q/PF/2020/1/S2A_35QPF_20200122_1_L2A/L2A_PVI.tif |\n",
       "| https://sentinel-cogs.s3.us-west-2.amazonaws.com/sentinel-s2-l2a-cogs/35/Q/PF/2020/3/S2B_35QPF_20200327_0_L2A/AOT.tif | https://sentinel-cogs.s3.us-west-2.amazonaws.com/sentinel-s2-l2a-cogs/35/Q/PF/2020/3/S2B_35QPF_20200327_0_L2A/B01.tif | https://sentinel-cogs.s3.us-west-2.amazonaws.com/sentinel-s2-l2a-cogs/35/Q/PF/2020/3/S2B_35QPF_20200327_0_L2A/B02.tif | https://sentinel-cogs.s3.us-west-2.amazonaws.com/sentinel-s2-l2a-cogs/35/Q/PF/2020/3/S2B_35QPF_20200327_0_L2A/B03.tif | https://sentinel-cogs.s3.us-west-2.amazonaws.com/sentinel-s2-l2a-cogs/35/Q/PF/2020/3/S2B_35QPF_20200327_0_L2A/B04.tif | https://sentinel-cogs.s3.us-west-2.amazonaws.com/sentinel-s2-l2a-cogs/35/Q/PF/2020/3/S2B_35QPF_20200327_0_L2A/B05.tif | https://sentinel-cogs.s3.us-west-2.amazonaws.com/sentinel-s2-l2a-cogs/35/Q/PF/2020/3/S2B_35QPF_20200327_0_L2A/B06.tif | https://sentinel-cogs.s3.us-west-2.amazonaws.com/sentinel-s2-l2a-cogs/35/Q/PF/2020/3/S2B_35QPF_20200327_0_L2A/B07.tif | https://sentinel-cogs.s3.us-west-2.amazonaws.com/sentinel-s2-l2a-cogs/35/Q/PF/2020/3/S2B_35QPF_20200327_0_L2A/B08.tif | https://sentinel-cogs.s3.us-west-2.amazonaws.com/sentinel-s2-l2a-cogs/35/Q/PF/2020/3/S2B_35QPF_20200327_0_L2A/B09.tif | https://sentinel-cogs.s3.us-west-2.amazonaws.com/sentinel-s2-l2a-cogs/35/Q/PF/2020/3/S2B_35QPF_20200327_0_L2A/B11.tif | https://sentinel-cogs.s3.us-west-2.amazonaws.com/sentinel-s2-l2a-cogs/35/Q/PF/2020/3/S2B_35QPF_20200327_0_L2A/B12.tif | https://sentinel-cogs.s3.us-west-2.amazonaws.com/sentinel-s2-l2a-cogs/35/Q/PF/2020/3/S2B_35QPF_20200327_0_L2A/B8A.tif | https://sentinel-cogs.s3.us-west-2.amazonaws.com/sentinel-s2-l2a-cogs/35/Q/PF/2020/3/S2B_35QPF_20200327_0_L2A/SCL.tif | https://sentinel-cogs.s3.us-west-2.amazonaws.com/sentinel-s2-l2a-cogs/35/Q/PF/2020/3/S2B_35QPF_20200327_0_L2A/WVP.tif | https://sentinel-cogs.s3.us-west-2.amazonaws.com/sentinel-s2-l2a-cogs/35/Q/PF/2020/3/S2B_35QPF_20200327_0_L2A/TCI.tif | https://sentinel-cogs.s3.us-west-2.amazonaws.com/sentinel-s2-l2a-cogs/35/Q/PF/2020/3/S2B_35QPF_20200327_0_L2A/L2A_PVI.tif |\n",
       "| https://sentinel-cogs.s3.us-west-2.amazonaws.com/sentinel-s2-l2a-cogs/35/Q/PF/2020/2/S2B_35QPF_20200206_0_L2A/AOT.tif | https://sentinel-cogs.s3.us-west-2.amazonaws.com/sentinel-s2-l2a-cogs/35/Q/PF/2020/2/S2B_35QPF_20200206_0_L2A/B01.tif | https://sentinel-cogs.s3.us-west-2.amazonaws.com/sentinel-s2-l2a-cogs/35/Q/PF/2020/2/S2B_35QPF_20200206_0_L2A/B02.tif | https://sentinel-cogs.s3.us-west-2.amazonaws.com/sentinel-s2-l2a-cogs/35/Q/PF/2020/2/S2B_35QPF_20200206_0_L2A/B03.tif | https://sentinel-cogs.s3.us-west-2.amazonaws.com/sentinel-s2-l2a-cogs/35/Q/PF/2020/2/S2B_35QPF_20200206_0_L2A/B04.tif | https://sentinel-cogs.s3.us-west-2.amazonaws.com/sentinel-s2-l2a-cogs/35/Q/PF/2020/2/S2B_35QPF_20200206_0_L2A/B05.tif | https://sentinel-cogs.s3.us-west-2.amazonaws.com/sentinel-s2-l2a-cogs/35/Q/PF/2020/2/S2B_35QPF_20200206_0_L2A/B06.tif | https://sentinel-cogs.s3.us-west-2.amazonaws.com/sentinel-s2-l2a-cogs/35/Q/PF/2020/2/S2B_35QPF_20200206_0_L2A/B07.tif | https://sentinel-cogs.s3.us-west-2.amazonaws.com/sentinel-s2-l2a-cogs/35/Q/PF/2020/2/S2B_35QPF_20200206_0_L2A/B08.tif | https://sentinel-cogs.s3.us-west-2.amazonaws.com/sentinel-s2-l2a-cogs/35/Q/PF/2020/2/S2B_35QPF_20200206_0_L2A/B09.tif | https://sentinel-cogs.s3.us-west-2.amazonaws.com/sentinel-s2-l2a-cogs/35/Q/PF/2020/2/S2B_35QPF_20200206_0_L2A/B11.tif | https://sentinel-cogs.s3.us-west-2.amazonaws.com/sentinel-s2-l2a-cogs/35/Q/PF/2020/2/S2B_35QPF_20200206_0_L2A/B12.tif | https://sentinel-cogs.s3.us-west-2.amazonaws.com/sentinel-s2-l2a-cogs/35/Q/PF/2020/2/S2B_35QPF_20200206_0_L2A/B8A.tif | https://sentinel-cogs.s3.us-west-2.amazonaws.com/sentinel-s2-l2a-cogs/35/Q/PF/2020/2/S2B_35QPF_20200206_0_L2A/SCL.tif | https://sentinel-cogs.s3.us-west-2.amazonaws.com/sentinel-s2-l2a-cogs/35/Q/PF/2020/2/S2B_35QPF_20200206_0_L2A/WVP.tif | https://sentinel-cogs.s3.us-west-2.amazonaws.com/sentinel-s2-l2a-cogs/35/Q/PF/2020/2/S2B_35QPF_20200206_0_L2A/TCI.tif | https://sentinel-cogs.s3.us-west-2.amazonaws.com/sentinel-s2-l2a-cogs/35/Q/PF/2020/2/S2B_35QPF_20200206_0_L2A/L2A_PVI.tif |\n",
       "| https://sentinel-cogs.s3.us-west-2.amazonaws.com/sentinel-s2-l2a-cogs/35/Q/PF/2020/2/S2A_35QPF_20200211_0_L2A/AOT.tif | https://sentinel-cogs.s3.us-west-2.amazonaws.com/sentinel-s2-l2a-cogs/35/Q/PF/2020/2/S2A_35QPF_20200211_0_L2A/B01.tif | https://sentinel-cogs.s3.us-west-2.amazonaws.com/sentinel-s2-l2a-cogs/35/Q/PF/2020/2/S2A_35QPF_20200211_0_L2A/B02.tif | https://sentinel-cogs.s3.us-west-2.amazonaws.com/sentinel-s2-l2a-cogs/35/Q/PF/2020/2/S2A_35QPF_20200211_0_L2A/B03.tif | https://sentinel-cogs.s3.us-west-2.amazonaws.com/sentinel-s2-l2a-cogs/35/Q/PF/2020/2/S2A_35QPF_20200211_0_L2A/B04.tif | https://sentinel-cogs.s3.us-west-2.amazonaws.com/sentinel-s2-l2a-cogs/35/Q/PF/2020/2/S2A_35QPF_20200211_0_L2A/B05.tif | https://sentinel-cogs.s3.us-west-2.amazonaws.com/sentinel-s2-l2a-cogs/35/Q/PF/2020/2/S2A_35QPF_20200211_0_L2A/B06.tif | https://sentinel-cogs.s3.us-west-2.amazonaws.com/sentinel-s2-l2a-cogs/35/Q/PF/2020/2/S2A_35QPF_20200211_0_L2A/B07.tif | https://sentinel-cogs.s3.us-west-2.amazonaws.com/sentinel-s2-l2a-cogs/35/Q/PF/2020/2/S2A_35QPF_20200211_0_L2A/B08.tif | https://sentinel-cogs.s3.us-west-2.amazonaws.com/sentinel-s2-l2a-cogs/35/Q/PF/2020/2/S2A_35QPF_20200211_0_L2A/B09.tif | https://sentinel-cogs.s3.us-west-2.amazonaws.com/sentinel-s2-l2a-cogs/35/Q/PF/2020/2/S2A_35QPF_20200211_0_L2A/B11.tif | https://sentinel-cogs.s3.us-west-2.amazonaws.com/sentinel-s2-l2a-cogs/35/Q/PF/2020/2/S2A_35QPF_20200211_0_L2A/B12.tif | https://sentinel-cogs.s3.us-west-2.amazonaws.com/sentinel-s2-l2a-cogs/35/Q/PF/2020/2/S2A_35QPF_20200211_0_L2A/B8A.tif | https://sentinel-cogs.s3.us-west-2.amazonaws.com/sentinel-s2-l2a-cogs/35/Q/PF/2020/2/S2A_35QPF_20200211_0_L2A/SCL.tif | https://sentinel-cogs.s3.us-west-2.amazonaws.com/sentinel-s2-l2a-cogs/35/Q/PF/2020/2/S2A_35QPF_20200211_0_L2A/WVP.tif | https://sentinel-cogs.s3.us-west-2.amazonaws.com/sentinel-s2-l2a-cogs/35/Q/PF/2020/2/S2A_35QPF_20200211_0_L2A/TCI.tif | https://sentinel-cogs.s3.us-west-2.amazonaws.com/sentinel-s2-l2a-cogs/35/Q/PF/2020/2/S2A_35QPF_20200211_0_L2A/L2A_PVI.tif |\n",
       "| https://sentinel-cogs.s3.us-west-2.amazonaws.com/sentinel-s2-l2a-cogs/35/Q/PF/2020/2/S2A_35QPF_20200221_0_L2A/AOT.tif | https://sentinel-cogs.s3.us-west-2.amazonaws.com/sentinel-s2-l2a-cogs/35/Q/PF/2020/2/S2A_35QPF_20200221_0_L2A/B01.tif | https://sentinel-cogs.s3.us-west-2.amazonaws.com/sentinel-s2-l2a-cogs/35/Q/PF/2020/2/S2A_35QPF_20200221_0_L2A/B02.tif | https://sentinel-cogs.s3.us-west-2.amazonaws.com/sentinel-s2-l2a-cogs/35/Q/PF/2020/2/S2A_35QPF_20200221_0_L2A/B03.tif | https://sentinel-cogs.s3.us-west-2.amazonaws.com/sentinel-s2-l2a-cogs/35/Q/PF/2020/2/S2A_35QPF_20200221_0_L2A/B04.tif | https://sentinel-cogs.s3.us-west-2.amazonaws.com/sentinel-s2-l2a-cogs/35/Q/PF/2020/2/S2A_35QPF_20200221_0_L2A/B05.tif | https://sentinel-cogs.s3.us-west-2.amazonaws.com/sentinel-s2-l2a-cogs/35/Q/PF/2020/2/S2A_35QPF_20200221_0_L2A/B06.tif | https://sentinel-cogs.s3.us-west-2.amazonaws.com/sentinel-s2-l2a-cogs/35/Q/PF/2020/2/S2A_35QPF_20200221_0_L2A/B07.tif | https://sentinel-cogs.s3.us-west-2.amazonaws.com/sentinel-s2-l2a-cogs/35/Q/PF/2020/2/S2A_35QPF_20200221_0_L2A/B08.tif | https://sentinel-cogs.s3.us-west-2.amazonaws.com/sentinel-s2-l2a-cogs/35/Q/PF/2020/2/S2A_35QPF_20200221_0_L2A/B09.tif | https://sentinel-cogs.s3.us-west-2.amazonaws.com/sentinel-s2-l2a-cogs/35/Q/PF/2020/2/S2A_35QPF_20200221_0_L2A/B11.tif | https://sentinel-cogs.s3.us-west-2.amazonaws.com/sentinel-s2-l2a-cogs/35/Q/PF/2020/2/S2A_35QPF_20200221_0_L2A/B12.tif | https://sentinel-cogs.s3.us-west-2.amazonaws.com/sentinel-s2-l2a-cogs/35/Q/PF/2020/2/S2A_35QPF_20200221_0_L2A/B8A.tif | https://sentinel-cogs.s3.us-west-2.amazonaws.com/sentinel-s2-l2a-cogs/35/Q/PF/2020/2/S2A_35QPF_20200221_0_L2A/SCL.tif | https://sentinel-cogs.s3.us-west-2.amazonaws.com/sentinel-s2-l2a-cogs/35/Q/PF/2020/2/S2A_35QPF_20200221_0_L2A/WVP.tif | https://sentinel-cogs.s3.us-west-2.amazonaws.com/sentinel-s2-l2a-cogs/35/Q/PF/2020/2/S2A_35QPF_20200221_0_L2A/TCI.tif | https://sentinel-cogs.s3.us-west-2.amazonaws.com/sentinel-s2-l2a-cogs/35/Q/PF/2020/2/S2A_35QPF_20200221_0_L2A/L2A_PVI.tif |\n",
       "| https://sentinel-cogs.s3.us-west-2.amazonaws.com/sentinel-s2-l2a-cogs/35/Q/PF/2020/1/S2B_35QPF_20200107_0_L2A/AOT.tif | https://sentinel-cogs.s3.us-west-2.amazonaws.com/sentinel-s2-l2a-cogs/35/Q/PF/2020/1/S2B_35QPF_20200107_0_L2A/B01.tif | https://sentinel-cogs.s3.us-west-2.amazonaws.com/sentinel-s2-l2a-cogs/35/Q/PF/2020/1/S2B_35QPF_20200107_0_L2A/B02.tif | https://sentinel-cogs.s3.us-west-2.amazonaws.com/sentinel-s2-l2a-cogs/35/Q/PF/2020/1/S2B_35QPF_20200107_0_L2A/B03.tif | https://sentinel-cogs.s3.us-west-2.amazonaws.com/sentinel-s2-l2a-cogs/35/Q/PF/2020/1/S2B_35QPF_20200107_0_L2A/B04.tif | https://sentinel-cogs.s3.us-west-2.amazonaws.com/sentinel-s2-l2a-cogs/35/Q/PF/2020/1/S2B_35QPF_20200107_0_L2A/B05.tif | https://sentinel-cogs.s3.us-west-2.amazonaws.com/sentinel-s2-l2a-cogs/35/Q/PF/2020/1/S2B_35QPF_20200107_0_L2A/B06.tif | https://sentinel-cogs.s3.us-west-2.amazonaws.com/sentinel-s2-l2a-cogs/35/Q/PF/2020/1/S2B_35QPF_20200107_0_L2A/B07.tif | https://sentinel-cogs.s3.us-west-2.amazonaws.com/sentinel-s2-l2a-cogs/35/Q/PF/2020/1/S2B_35QPF_20200107_0_L2A/B08.tif | https://sentinel-cogs.s3.us-west-2.amazonaws.com/sentinel-s2-l2a-cogs/35/Q/PF/2020/1/S2B_35QPF_20200107_0_L2A/B09.tif | https://sentinel-cogs.s3.us-west-2.amazonaws.com/sentinel-s2-l2a-cogs/35/Q/PF/2020/1/S2B_35QPF_20200107_0_L2A/B11.tif | https://sentinel-cogs.s3.us-west-2.amazonaws.com/sentinel-s2-l2a-cogs/35/Q/PF/2020/1/S2B_35QPF_20200107_0_L2A/B12.tif | https://sentinel-cogs.s3.us-west-2.amazonaws.com/sentinel-s2-l2a-cogs/35/Q/PF/2020/1/S2B_35QPF_20200107_0_L2A/B8A.tif | https://sentinel-cogs.s3.us-west-2.amazonaws.com/sentinel-s2-l2a-cogs/35/Q/PF/2020/1/S2B_35QPF_20200107_0_L2A/SCL.tif | https://sentinel-cogs.s3.us-west-2.amazonaws.com/sentinel-s2-l2a-cogs/35/Q/PF/2020/1/S2B_35QPF_20200107_0_L2A/WVP.tif | https://sentinel-cogs.s3.us-west-2.amazonaws.com/sentinel-s2-l2a-cogs/35/Q/PF/2020/1/S2B_35QPF_20200107_0_L2A/TCI.tif | https://sentinel-cogs.s3.us-west-2.amazonaws.com/sentinel-s2-l2a-cogs/35/Q/PF/2020/1/S2B_35QPF_20200107_0_L2A/L2A_PVI.tif |\n",
       "| https://sentinel-cogs.s3.us-west-2.amazonaws.com/sentinel-s2-l2a-cogs/35/Q/PF/2020/2/S2B_35QPF_20200226_0_L2A/AOT.tif | https://sentinel-cogs.s3.us-west-2.amazonaws.com/sentinel-s2-l2a-cogs/35/Q/PF/2020/2/S2B_35QPF_20200226_0_L2A/B01.tif | https://sentinel-cogs.s3.us-west-2.amazonaws.com/sentinel-s2-l2a-cogs/35/Q/PF/2020/2/S2B_35QPF_20200226_0_L2A/B02.tif | https://sentinel-cogs.s3.us-west-2.amazonaws.com/sentinel-s2-l2a-cogs/35/Q/PF/2020/2/S2B_35QPF_20200226_0_L2A/B03.tif | https://sentinel-cogs.s3.us-west-2.amazonaws.com/sentinel-s2-l2a-cogs/35/Q/PF/2020/2/S2B_35QPF_20200226_0_L2A/B04.tif | https://sentinel-cogs.s3.us-west-2.amazonaws.com/sentinel-s2-l2a-cogs/35/Q/PF/2020/2/S2B_35QPF_20200226_0_L2A/B05.tif | https://sentinel-cogs.s3.us-west-2.amazonaws.com/sentinel-s2-l2a-cogs/35/Q/PF/2020/2/S2B_35QPF_20200226_0_L2A/B06.tif | https://sentinel-cogs.s3.us-west-2.amazonaws.com/sentinel-s2-l2a-cogs/35/Q/PF/2020/2/S2B_35QPF_20200226_0_L2A/B07.tif | https://sentinel-cogs.s3.us-west-2.amazonaws.com/sentinel-s2-l2a-cogs/35/Q/PF/2020/2/S2B_35QPF_20200226_0_L2A/B08.tif | https://sentinel-cogs.s3.us-west-2.amazonaws.com/sentinel-s2-l2a-cogs/35/Q/PF/2020/2/S2B_35QPF_20200226_0_L2A/B09.tif | https://sentinel-cogs.s3.us-west-2.amazonaws.com/sentinel-s2-l2a-cogs/35/Q/PF/2020/2/S2B_35QPF_20200226_0_L2A/B11.tif | https://sentinel-cogs.s3.us-west-2.amazonaws.com/sentinel-s2-l2a-cogs/35/Q/PF/2020/2/S2B_35QPF_20200226_0_L2A/B12.tif | https://sentinel-cogs.s3.us-west-2.amazonaws.com/sentinel-s2-l2a-cogs/35/Q/PF/2020/2/S2B_35QPF_20200226_0_L2A/B8A.tif | https://sentinel-cogs.s3.us-west-2.amazonaws.com/sentinel-s2-l2a-cogs/35/Q/PF/2020/2/S2B_35QPF_20200226_0_L2A/SCL.tif | https://sentinel-cogs.s3.us-west-2.amazonaws.com/sentinel-s2-l2a-cogs/35/Q/PF/2020/2/S2B_35QPF_20200226_0_L2A/WVP.tif | https://sentinel-cogs.s3.us-west-2.amazonaws.com/sentinel-s2-l2a-cogs/35/Q/PF/2020/2/S2B_35QPF_20200226_0_L2A/TCI.tif | https://sentinel-cogs.s3.us-west-2.amazonaws.com/sentinel-s2-l2a-cogs/35/Q/PF/2020/2/S2B_35QPF_20200226_0_L2A/L2A_PVI.tif |\n",
       "| https://sentinel-cogs.s3.us-west-2.amazonaws.com/sentinel-s2-l2a-cogs/35/Q/PF/2020/3/S2A_35QPF_20200302_0_L2A/AOT.tif | https://sentinel-cogs.s3.us-west-2.amazonaws.com/sentinel-s2-l2a-cogs/35/Q/PF/2020/3/S2A_35QPF_20200302_0_L2A/B01.tif | https://sentinel-cogs.s3.us-west-2.amazonaws.com/sentinel-s2-l2a-cogs/35/Q/PF/2020/3/S2A_35QPF_20200302_0_L2A/B02.tif | https://sentinel-cogs.s3.us-west-2.amazonaws.com/sentinel-s2-l2a-cogs/35/Q/PF/2020/3/S2A_35QPF_20200302_0_L2A/B03.tif | https://sentinel-cogs.s3.us-west-2.amazonaws.com/sentinel-s2-l2a-cogs/35/Q/PF/2020/3/S2A_35QPF_20200302_0_L2A/B04.tif | https://sentinel-cogs.s3.us-west-2.amazonaws.com/sentinel-s2-l2a-cogs/35/Q/PF/2020/3/S2A_35QPF_20200302_0_L2A/B05.tif | https://sentinel-cogs.s3.us-west-2.amazonaws.com/sentinel-s2-l2a-cogs/35/Q/PF/2020/3/S2A_35QPF_20200302_0_L2A/B06.tif | https://sentinel-cogs.s3.us-west-2.amazonaws.com/sentinel-s2-l2a-cogs/35/Q/PF/2020/3/S2A_35QPF_20200302_0_L2A/B07.tif | https://sentinel-cogs.s3.us-west-2.amazonaws.com/sentinel-s2-l2a-cogs/35/Q/PF/2020/3/S2A_35QPF_20200302_0_L2A/B08.tif | https://sentinel-cogs.s3.us-west-2.amazonaws.com/sentinel-s2-l2a-cogs/35/Q/PF/2020/3/S2A_35QPF_20200302_0_L2A/B09.tif | https://sentinel-cogs.s3.us-west-2.amazonaws.com/sentinel-s2-l2a-cogs/35/Q/PF/2020/3/S2A_35QPF_20200302_0_L2A/B11.tif | https://sentinel-cogs.s3.us-west-2.amazonaws.com/sentinel-s2-l2a-cogs/35/Q/PF/2020/3/S2A_35QPF_20200302_0_L2A/B12.tif | https://sentinel-cogs.s3.us-west-2.amazonaws.com/sentinel-s2-l2a-cogs/35/Q/PF/2020/3/S2A_35QPF_20200302_0_L2A/B8A.tif | https://sentinel-cogs.s3.us-west-2.amazonaws.com/sentinel-s2-l2a-cogs/35/Q/PF/2020/3/S2A_35QPF_20200302_0_L2A/SCL.tif | https://sentinel-cogs.s3.us-west-2.amazonaws.com/sentinel-s2-l2a-cogs/35/Q/PF/2020/3/S2A_35QPF_20200302_0_L2A/WVP.tif | https://sentinel-cogs.s3.us-west-2.amazonaws.com/sentinel-s2-l2a-cogs/35/Q/PF/2020/3/S2A_35QPF_20200302_0_L2A/TCI.tif | https://sentinel-cogs.s3.us-west-2.amazonaws.com/sentinel-s2-l2a-cogs/35/Q/PF/2020/3/S2A_35QPF_20200302_0_L2A/L2A_PVI.tif |\n",
       "| https://sentinel-cogs.s3.us-west-2.amazonaws.com/sentinel-s2-l2a-cogs/35/Q/PF/2020/1/S2B_35QPF_20200127_1_L2A/AOT.tif | https://sentinel-cogs.s3.us-west-2.amazonaws.com/sentinel-s2-l2a-cogs/35/Q/PF/2020/1/S2B_35QPF_20200127_1_L2A/B01.tif | https://sentinel-cogs.s3.us-west-2.amazonaws.com/sentinel-s2-l2a-cogs/35/Q/PF/2020/1/S2B_35QPF_20200127_1_L2A/B02.tif | https://sentinel-cogs.s3.us-west-2.amazonaws.com/sentinel-s2-l2a-cogs/35/Q/PF/2020/1/S2B_35QPF_20200127_1_L2A/B03.tif | https://sentinel-cogs.s3.us-west-2.amazonaws.com/sentinel-s2-l2a-cogs/35/Q/PF/2020/1/S2B_35QPF_20200127_1_L2A/B04.tif | https://sentinel-cogs.s3.us-west-2.amazonaws.com/sentinel-s2-l2a-cogs/35/Q/PF/2020/1/S2B_35QPF_20200127_1_L2A/B05.tif | https://sentinel-cogs.s3.us-west-2.amazonaws.com/sentinel-s2-l2a-cogs/35/Q/PF/2020/1/S2B_35QPF_20200127_1_L2A/B06.tif | https://sentinel-cogs.s3.us-west-2.amazonaws.com/sentinel-s2-l2a-cogs/35/Q/PF/2020/1/S2B_35QPF_20200127_1_L2A/B07.tif | https://sentinel-cogs.s3.us-west-2.amazonaws.com/sentinel-s2-l2a-cogs/35/Q/PF/2020/1/S2B_35QPF_20200127_1_L2A/B08.tif | https://sentinel-cogs.s3.us-west-2.amazonaws.com/sentinel-s2-l2a-cogs/35/Q/PF/2020/1/S2B_35QPF_20200127_1_L2A/B09.tif | https://sentinel-cogs.s3.us-west-2.amazonaws.com/sentinel-s2-l2a-cogs/35/Q/PF/2020/1/S2B_35QPF_20200127_1_L2A/B11.tif | https://sentinel-cogs.s3.us-west-2.amazonaws.com/sentinel-s2-l2a-cogs/35/Q/PF/2020/1/S2B_35QPF_20200127_1_L2A/B12.tif | https://sentinel-cogs.s3.us-west-2.amazonaws.com/sentinel-s2-l2a-cogs/35/Q/PF/2020/1/S2B_35QPF_20200127_1_L2A/B8A.tif | https://sentinel-cogs.s3.us-west-2.amazonaws.com/sentinel-s2-l2a-cogs/35/Q/PF/2020/1/S2B_35QPF_20200127_1_L2A/SCL.tif | https://sentinel-cogs.s3.us-west-2.amazonaws.com/sentinel-s2-l2a-cogs/35/Q/PF/2020/1/S2B_35QPF_20200127_1_L2A/WVP.tif | https://sentinel-cogs.s3.us-west-2.amazonaws.com/sentinel-s2-l2a-cogs/35/Q/PF/2020/1/S2B_35QPF_20200127_1_L2A/TCI.tif | https://sentinel-cogs.s3.us-west-2.amazonaws.com/sentinel-s2-l2a-cogs/35/Q/PF/2020/1/S2B_35QPF_20200127_1_L2A/L2A_PVI.tif |\n",
       "| https://sentinel-cogs.s3.us-west-2.amazonaws.com/sentinel-s2-l2a-cogs/35/Q/PF/2020/2/S2A_35QPF_20200201_0_L2A/AOT.tif | https://sentinel-cogs.s3.us-west-2.amazonaws.com/sentinel-s2-l2a-cogs/35/Q/PF/2020/2/S2A_35QPF_20200201_0_L2A/B01.tif | https://sentinel-cogs.s3.us-west-2.amazonaws.com/sentinel-s2-l2a-cogs/35/Q/PF/2020/2/S2A_35QPF_20200201_0_L2A/B02.tif | https://sentinel-cogs.s3.us-west-2.amazonaws.com/sentinel-s2-l2a-cogs/35/Q/PF/2020/2/S2A_35QPF_20200201_0_L2A/B03.tif | https://sentinel-cogs.s3.us-west-2.amazonaws.com/sentinel-s2-l2a-cogs/35/Q/PF/2020/2/S2A_35QPF_20200201_0_L2A/B04.tif | https://sentinel-cogs.s3.us-west-2.amazonaws.com/sentinel-s2-l2a-cogs/35/Q/PF/2020/2/S2A_35QPF_20200201_0_L2A/B05.tif | https://sentinel-cogs.s3.us-west-2.amazonaws.com/sentinel-s2-l2a-cogs/35/Q/PF/2020/2/S2A_35QPF_20200201_0_L2A/B06.tif | https://sentinel-cogs.s3.us-west-2.amazonaws.com/sentinel-s2-l2a-cogs/35/Q/PF/2020/2/S2A_35QPF_20200201_0_L2A/B07.tif | https://sentinel-cogs.s3.us-west-2.amazonaws.com/sentinel-s2-l2a-cogs/35/Q/PF/2020/2/S2A_35QPF_20200201_0_L2A/B08.tif | https://sentinel-cogs.s3.us-west-2.amazonaws.com/sentinel-s2-l2a-cogs/35/Q/PF/2020/2/S2A_35QPF_20200201_0_L2A/B09.tif | https://sentinel-cogs.s3.us-west-2.amazonaws.com/sentinel-s2-l2a-cogs/35/Q/PF/2020/2/S2A_35QPF_20200201_0_L2A/B11.tif | https://sentinel-cogs.s3.us-west-2.amazonaws.com/sentinel-s2-l2a-cogs/35/Q/PF/2020/2/S2A_35QPF_20200201_0_L2A/B12.tif | https://sentinel-cogs.s3.us-west-2.amazonaws.com/sentinel-s2-l2a-cogs/35/Q/PF/2020/2/S2A_35QPF_20200201_0_L2A/B8A.tif | https://sentinel-cogs.s3.us-west-2.amazonaws.com/sentinel-s2-l2a-cogs/35/Q/PF/2020/2/S2A_35QPF_20200201_0_L2A/SCL.tif | https://sentinel-cogs.s3.us-west-2.amazonaws.com/sentinel-s2-l2a-cogs/35/Q/PF/2020/2/S2A_35QPF_20200201_0_L2A/WVP.tif | https://sentinel-cogs.s3.us-west-2.amazonaws.com/sentinel-s2-l2a-cogs/35/Q/PF/2020/2/S2A_35QPF_20200201_0_L2A/TCI.tif | https://sentinel-cogs.s3.us-west-2.amazonaws.com/sentinel-s2-l2a-cogs/35/Q/PF/2020/2/S2A_35QPF_20200201_0_L2A/L2A_PVI.tif |\n",
       "| https://sentinel-cogs.s3.us-west-2.amazonaws.com/sentinel-s2-l2a-cogs/35/Q/PF/2020/3/S2A_35QPF_20200322_0_L2A/AOT.tif | https://sentinel-cogs.s3.us-west-2.amazonaws.com/sentinel-s2-l2a-cogs/35/Q/PF/2020/3/S2A_35QPF_20200322_0_L2A/B01.tif | https://sentinel-cogs.s3.us-west-2.amazonaws.com/sentinel-s2-l2a-cogs/35/Q/PF/2020/3/S2A_35QPF_20200322_0_L2A/B02.tif | https://sentinel-cogs.s3.us-west-2.amazonaws.com/sentinel-s2-l2a-cogs/35/Q/PF/2020/3/S2A_35QPF_20200322_0_L2A/B03.tif | https://sentinel-cogs.s3.us-west-2.amazonaws.com/sentinel-s2-l2a-cogs/35/Q/PF/2020/3/S2A_35QPF_20200322_0_L2A/B04.tif | https://sentinel-cogs.s3.us-west-2.amazonaws.com/sentinel-s2-l2a-cogs/35/Q/PF/2020/3/S2A_35QPF_20200322_0_L2A/B05.tif | https://sentinel-cogs.s3.us-west-2.amazonaws.com/sentinel-s2-l2a-cogs/35/Q/PF/2020/3/S2A_35QPF_20200322_0_L2A/B06.tif | https://sentinel-cogs.s3.us-west-2.amazonaws.com/sentinel-s2-l2a-cogs/35/Q/PF/2020/3/S2A_35QPF_20200322_0_L2A/B07.tif | https://sentinel-cogs.s3.us-west-2.amazonaws.com/sentinel-s2-l2a-cogs/35/Q/PF/2020/3/S2A_35QPF_20200322_0_L2A/B08.tif | https://sentinel-cogs.s3.us-west-2.amazonaws.com/sentinel-s2-l2a-cogs/35/Q/PF/2020/3/S2A_35QPF_20200322_0_L2A/B09.tif | https://sentinel-cogs.s3.us-west-2.amazonaws.com/sentinel-s2-l2a-cogs/35/Q/PF/2020/3/S2A_35QPF_20200322_0_L2A/B11.tif | https://sentinel-cogs.s3.us-west-2.amazonaws.com/sentinel-s2-l2a-cogs/35/Q/PF/2020/3/S2A_35QPF_20200322_0_L2A/B12.tif | https://sentinel-cogs.s3.us-west-2.amazonaws.com/sentinel-s2-l2a-cogs/35/Q/PF/2020/3/S2A_35QPF_20200322_0_L2A/B8A.tif | https://sentinel-cogs.s3.us-west-2.amazonaws.com/sentinel-s2-l2a-cogs/35/Q/PF/2020/3/S2A_35QPF_20200322_0_L2A/SCL.tif | https://sentinel-cogs.s3.us-west-2.amazonaws.com/sentinel-s2-l2a-cogs/35/Q/PF/2020/3/S2A_35QPF_20200322_0_L2A/WVP.tif | https://sentinel-cogs.s3.us-west-2.amazonaws.com/sentinel-s2-l2a-cogs/35/Q/PF/2020/3/S2A_35QPF_20200322_0_L2A/TCI.tif | https://sentinel-cogs.s3.us-west-2.amazonaws.com/sentinel-s2-l2a-cogs/35/Q/PF/2020/3/S2A_35QPF_20200322_0_L2A/L2A_PVI.tif |\n",
       "| https://sentinel-cogs.s3.us-west-2.amazonaws.com/sentinel-s2-l2a-cogs/35/Q/PF/2020/2/S2B_35QPF_20200216_0_L2A/AOT.tif | https://sentinel-cogs.s3.us-west-2.amazonaws.com/sentinel-s2-l2a-cogs/35/Q/PF/2020/2/S2B_35QPF_20200216_0_L2A/B01.tif | https://sentinel-cogs.s3.us-west-2.amazonaws.com/sentinel-s2-l2a-cogs/35/Q/PF/2020/2/S2B_35QPF_20200216_0_L2A/B02.tif | https://sentinel-cogs.s3.us-west-2.amazonaws.com/sentinel-s2-l2a-cogs/35/Q/PF/2020/2/S2B_35QPF_20200216_0_L2A/B03.tif | https://sentinel-cogs.s3.us-west-2.amazonaws.com/sentinel-s2-l2a-cogs/35/Q/PF/2020/2/S2B_35QPF_20200216_0_L2A/B04.tif | https://sentinel-cogs.s3.us-west-2.amazonaws.com/sentinel-s2-l2a-cogs/35/Q/PF/2020/2/S2B_35QPF_20200216_0_L2A/B05.tif | https://sentinel-cogs.s3.us-west-2.amazonaws.com/sentinel-s2-l2a-cogs/35/Q/PF/2020/2/S2B_35QPF_20200216_0_L2A/B06.tif | https://sentinel-cogs.s3.us-west-2.amazonaws.com/sentinel-s2-l2a-cogs/35/Q/PF/2020/2/S2B_35QPF_20200216_0_L2A/B07.tif | https://sentinel-cogs.s3.us-west-2.amazonaws.com/sentinel-s2-l2a-cogs/35/Q/PF/2020/2/S2B_35QPF_20200216_0_L2A/B08.tif | https://sentinel-cogs.s3.us-west-2.amazonaws.com/sentinel-s2-l2a-cogs/35/Q/PF/2020/2/S2B_35QPF_20200216_0_L2A/B09.tif | https://sentinel-cogs.s3.us-west-2.amazonaws.com/sentinel-s2-l2a-cogs/35/Q/PF/2020/2/S2B_35QPF_20200216_0_L2A/B11.tif | https://sentinel-cogs.s3.us-west-2.amazonaws.com/sentinel-s2-l2a-cogs/35/Q/PF/2020/2/S2B_35QPF_20200216_0_L2A/B12.tif | https://sentinel-cogs.s3.us-west-2.amazonaws.com/sentinel-s2-l2a-cogs/35/Q/PF/2020/2/S2B_35QPF_20200216_0_L2A/B8A.tif | https://sentinel-cogs.s3.us-west-2.amazonaws.com/sentinel-s2-l2a-cogs/35/Q/PF/2020/2/S2B_35QPF_20200216_0_L2A/SCL.tif | https://sentinel-cogs.s3.us-west-2.amazonaws.com/sentinel-s2-l2a-cogs/35/Q/PF/2020/2/S2B_35QPF_20200216_0_L2A/WVP.tif | https://sentinel-cogs.s3.us-west-2.amazonaws.com/sentinel-s2-l2a-cogs/35/Q/PF/2020/2/S2B_35QPF_20200216_0_L2A/TCI.tif | https://sentinel-cogs.s3.us-west-2.amazonaws.com/sentinel-s2-l2a-cogs/35/Q/PF/2020/2/S2B_35QPF_20200216_0_L2A/L2A_PVI.tif |\n",
       "| https://sentinel-cogs.s3.us-west-2.amazonaws.com/sentinel-s2-l2a-cogs/35/Q/PF/2020/1/S2A_35QPF_20200112_0_L2A/AOT.tif | https://sentinel-cogs.s3.us-west-2.amazonaws.com/sentinel-s2-l2a-cogs/35/Q/PF/2020/1/S2A_35QPF_20200112_0_L2A/B01.tif | https://sentinel-cogs.s3.us-west-2.amazonaws.com/sentinel-s2-l2a-cogs/35/Q/PF/2020/1/S2A_35QPF_20200112_0_L2A/B02.tif | https://sentinel-cogs.s3.us-west-2.amazonaws.com/sentinel-s2-l2a-cogs/35/Q/PF/2020/1/S2A_35QPF_20200112_0_L2A/B03.tif | https://sentinel-cogs.s3.us-west-2.amazonaws.com/sentinel-s2-l2a-cogs/35/Q/PF/2020/1/S2A_35QPF_20200112_0_L2A/B04.tif | https://sentinel-cogs.s3.us-west-2.amazonaws.com/sentinel-s2-l2a-cogs/35/Q/PF/2020/1/S2A_35QPF_20200112_0_L2A/B05.tif | https://sentinel-cogs.s3.us-west-2.amazonaws.com/sentinel-s2-l2a-cogs/35/Q/PF/2020/1/S2A_35QPF_20200112_0_L2A/B06.tif | https://sentinel-cogs.s3.us-west-2.amazonaws.com/sentinel-s2-l2a-cogs/35/Q/PF/2020/1/S2A_35QPF_20200112_0_L2A/B07.tif | https://sentinel-cogs.s3.us-west-2.amazonaws.com/sentinel-s2-l2a-cogs/35/Q/PF/2020/1/S2A_35QPF_20200112_0_L2A/B08.tif | https://sentinel-cogs.s3.us-west-2.amazonaws.com/sentinel-s2-l2a-cogs/35/Q/PF/2020/1/S2A_35QPF_20200112_0_L2A/B09.tif | https://sentinel-cogs.s3.us-west-2.amazonaws.com/sentinel-s2-l2a-cogs/35/Q/PF/2020/1/S2A_35QPF_20200112_0_L2A/B11.tif | https://sentinel-cogs.s3.us-west-2.amazonaws.com/sentinel-s2-l2a-cogs/35/Q/PF/2020/1/S2A_35QPF_20200112_0_L2A/B12.tif | https://sentinel-cogs.s3.us-west-2.amazonaws.com/sentinel-s2-l2a-cogs/35/Q/PF/2020/1/S2A_35QPF_20200112_0_L2A/B8A.tif | https://sentinel-cogs.s3.us-west-2.amazonaws.com/sentinel-s2-l2a-cogs/35/Q/PF/2020/1/S2A_35QPF_20200112_0_L2A/SCL.tif | https://sentinel-cogs.s3.us-west-2.amazonaws.com/sentinel-s2-l2a-cogs/35/Q/PF/2020/1/S2A_35QPF_20200112_0_L2A/WVP.tif | https://sentinel-cogs.s3.us-west-2.amazonaws.com/sentinel-s2-l2a-cogs/35/Q/PF/2020/1/S2A_35QPF_20200112_0_L2A/TCI.tif | https://sentinel-cogs.s3.us-west-2.amazonaws.com/sentinel-s2-l2a-cogs/35/Q/PF/2020/1/S2A_35QPF_20200112_0_L2A/L2A_PVI.tif |\n",
       "| https://sentinel-cogs.s3.us-west-2.amazonaws.com/sentinel-s2-l2a-cogs/35/Q/PF/2020/1/S2A_35QPF_20200112_1_L2A/AOT.tif | https://sentinel-cogs.s3.us-west-2.amazonaws.com/sentinel-s2-l2a-cogs/35/Q/PF/2020/1/S2A_35QPF_20200112_1_L2A/B01.tif | https://sentinel-cogs.s3.us-west-2.amazonaws.com/sentinel-s2-l2a-cogs/35/Q/PF/2020/1/S2A_35QPF_20200112_1_L2A/B02.tif | https://sentinel-cogs.s3.us-west-2.amazonaws.com/sentinel-s2-l2a-cogs/35/Q/PF/2020/1/S2A_35QPF_20200112_1_L2A/B03.tif | https://sentinel-cogs.s3.us-west-2.amazonaws.com/sentinel-s2-l2a-cogs/35/Q/PF/2020/1/S2A_35QPF_20200112_1_L2A/B04.tif | https://sentinel-cogs.s3.us-west-2.amazonaws.com/sentinel-s2-l2a-cogs/35/Q/PF/2020/1/S2A_35QPF_20200112_1_L2A/B05.tif | https://sentinel-cogs.s3.us-west-2.amazonaws.com/sentinel-s2-l2a-cogs/35/Q/PF/2020/1/S2A_35QPF_20200112_1_L2A/B06.tif | https://sentinel-cogs.s3.us-west-2.amazonaws.com/sentinel-s2-l2a-cogs/35/Q/PF/2020/1/S2A_35QPF_20200112_1_L2A/B07.tif | https://sentinel-cogs.s3.us-west-2.amazonaws.com/sentinel-s2-l2a-cogs/35/Q/PF/2020/1/S2A_35QPF_20200112_1_L2A/B08.tif | https://sentinel-cogs.s3.us-west-2.amazonaws.com/sentinel-s2-l2a-cogs/35/Q/PF/2020/1/S2A_35QPF_20200112_1_L2A/B09.tif | https://sentinel-cogs.s3.us-west-2.amazonaws.com/sentinel-s2-l2a-cogs/35/Q/PF/2020/1/S2A_35QPF_20200112_1_L2A/B11.tif | https://sentinel-cogs.s3.us-west-2.amazonaws.com/sentinel-s2-l2a-cogs/35/Q/PF/2020/1/S2A_35QPF_20200112_1_L2A/B12.tif | https://sentinel-cogs.s3.us-west-2.amazonaws.com/sentinel-s2-l2a-cogs/35/Q/PF/2020/1/S2A_35QPF_20200112_1_L2A/B8A.tif | https://sentinel-cogs.s3.us-west-2.amazonaws.com/sentinel-s2-l2a-cogs/35/Q/PF/2020/1/S2A_35QPF_20200112_1_L2A/SCL.tif | https://sentinel-cogs.s3.us-west-2.amazonaws.com/sentinel-s2-l2a-cogs/35/Q/PF/2020/1/S2A_35QPF_20200112_1_L2A/WVP.tif | https://sentinel-cogs.s3.us-west-2.amazonaws.com/sentinel-s2-l2a-cogs/35/Q/PF/2020/1/S2A_35QPF_20200112_1_L2A/TCI.tif | https://sentinel-cogs.s3.us-west-2.amazonaws.com/sentinel-s2-l2a-cogs/35/Q/PF/2020/1/S2A_35QPF_20200112_1_L2A/L2A_PVI.tif |\n",
       "\n"
      ],
      "text/plain": [
       "   AOT                                                                                                                  \n",
       "1  https://sentinel-cogs.s3.us-west-2.amazonaws.com/sentinel-s2-l2a-cogs/35/Q/PF/2020/3/S2B_35QPF_20200307_0_L2A/AOT.tif\n",
       "2  https://sentinel-cogs.s3.us-west-2.amazonaws.com/sentinel-s2-l2a-cogs/35/Q/PF/2020/1/S2A_35QPF_20200102_0_L2A/AOT.tif\n",
       "3  https://sentinel-cogs.s3.us-west-2.amazonaws.com/sentinel-s2-l2a-cogs/35/Q/PF/2020/1/S2B_35QPF_20200117_0_L2A/AOT.tif\n",
       "4  https://sentinel-cogs.s3.us-west-2.amazonaws.com/sentinel-s2-l2a-cogs/35/Q/PF/2020/3/S2A_35QPF_20200312_0_L2A/AOT.tif\n",
       "5  https://sentinel-cogs.s3.us-west-2.amazonaws.com/sentinel-s2-l2a-cogs/35/Q/PF/2020/3/S2B_35QPF_20200317_0_L2A/AOT.tif\n",
       "6  https://sentinel-cogs.s3.us-west-2.amazonaws.com/sentinel-s2-l2a-cogs/35/Q/PF/2020/1/S2A_35QPF_20200122_1_L2A/AOT.tif\n",
       "7  https://sentinel-cogs.s3.us-west-2.amazonaws.com/sentinel-s2-l2a-cogs/35/Q/PF/2020/3/S2B_35QPF_20200327_0_L2A/AOT.tif\n",
       "8  https://sentinel-cogs.s3.us-west-2.amazonaws.com/sentinel-s2-l2a-cogs/35/Q/PF/2020/2/S2B_35QPF_20200206_0_L2A/AOT.tif\n",
       "9  https://sentinel-cogs.s3.us-west-2.amazonaws.com/sentinel-s2-l2a-cogs/35/Q/PF/2020/2/S2A_35QPF_20200211_0_L2A/AOT.tif\n",
       "10 https://sentinel-cogs.s3.us-west-2.amazonaws.com/sentinel-s2-l2a-cogs/35/Q/PF/2020/2/S2A_35QPF_20200221_0_L2A/AOT.tif\n",
       "11 https://sentinel-cogs.s3.us-west-2.amazonaws.com/sentinel-s2-l2a-cogs/35/Q/PF/2020/1/S2B_35QPF_20200107_0_L2A/AOT.tif\n",
       "12 https://sentinel-cogs.s3.us-west-2.amazonaws.com/sentinel-s2-l2a-cogs/35/Q/PF/2020/2/S2B_35QPF_20200226_0_L2A/AOT.tif\n",
       "13 https://sentinel-cogs.s3.us-west-2.amazonaws.com/sentinel-s2-l2a-cogs/35/Q/PF/2020/3/S2A_35QPF_20200302_0_L2A/AOT.tif\n",
       "14 https://sentinel-cogs.s3.us-west-2.amazonaws.com/sentinel-s2-l2a-cogs/35/Q/PF/2020/1/S2B_35QPF_20200127_1_L2A/AOT.tif\n",
       "15 https://sentinel-cogs.s3.us-west-2.amazonaws.com/sentinel-s2-l2a-cogs/35/Q/PF/2020/2/S2A_35QPF_20200201_0_L2A/AOT.tif\n",
       "16 https://sentinel-cogs.s3.us-west-2.amazonaws.com/sentinel-s2-l2a-cogs/35/Q/PF/2020/3/S2A_35QPF_20200322_0_L2A/AOT.tif\n",
       "17 https://sentinel-cogs.s3.us-west-2.amazonaws.com/sentinel-s2-l2a-cogs/35/Q/PF/2020/2/S2B_35QPF_20200216_0_L2A/AOT.tif\n",
       "18 https://sentinel-cogs.s3.us-west-2.amazonaws.com/sentinel-s2-l2a-cogs/35/Q/PF/2020/1/S2A_35QPF_20200112_0_L2A/AOT.tif\n",
       "19 https://sentinel-cogs.s3.us-west-2.amazonaws.com/sentinel-s2-l2a-cogs/35/Q/PF/2020/1/S2A_35QPF_20200112_1_L2A/AOT.tif\n",
       "   B01                                                                                                                  \n",
       "1  https://sentinel-cogs.s3.us-west-2.amazonaws.com/sentinel-s2-l2a-cogs/35/Q/PF/2020/3/S2B_35QPF_20200307_0_L2A/B01.tif\n",
       "2  https://sentinel-cogs.s3.us-west-2.amazonaws.com/sentinel-s2-l2a-cogs/35/Q/PF/2020/1/S2A_35QPF_20200102_0_L2A/B01.tif\n",
       "3  https://sentinel-cogs.s3.us-west-2.amazonaws.com/sentinel-s2-l2a-cogs/35/Q/PF/2020/1/S2B_35QPF_20200117_0_L2A/B01.tif\n",
       "4  https://sentinel-cogs.s3.us-west-2.amazonaws.com/sentinel-s2-l2a-cogs/35/Q/PF/2020/3/S2A_35QPF_20200312_0_L2A/B01.tif\n",
       "5  https://sentinel-cogs.s3.us-west-2.amazonaws.com/sentinel-s2-l2a-cogs/35/Q/PF/2020/3/S2B_35QPF_20200317_0_L2A/B01.tif\n",
       "6  https://sentinel-cogs.s3.us-west-2.amazonaws.com/sentinel-s2-l2a-cogs/35/Q/PF/2020/1/S2A_35QPF_20200122_1_L2A/B01.tif\n",
       "7  https://sentinel-cogs.s3.us-west-2.amazonaws.com/sentinel-s2-l2a-cogs/35/Q/PF/2020/3/S2B_35QPF_20200327_0_L2A/B01.tif\n",
       "8  https://sentinel-cogs.s3.us-west-2.amazonaws.com/sentinel-s2-l2a-cogs/35/Q/PF/2020/2/S2B_35QPF_20200206_0_L2A/B01.tif\n",
       "9  https://sentinel-cogs.s3.us-west-2.amazonaws.com/sentinel-s2-l2a-cogs/35/Q/PF/2020/2/S2A_35QPF_20200211_0_L2A/B01.tif\n",
       "10 https://sentinel-cogs.s3.us-west-2.amazonaws.com/sentinel-s2-l2a-cogs/35/Q/PF/2020/2/S2A_35QPF_20200221_0_L2A/B01.tif\n",
       "11 https://sentinel-cogs.s3.us-west-2.amazonaws.com/sentinel-s2-l2a-cogs/35/Q/PF/2020/1/S2B_35QPF_20200107_0_L2A/B01.tif\n",
       "12 https://sentinel-cogs.s3.us-west-2.amazonaws.com/sentinel-s2-l2a-cogs/35/Q/PF/2020/2/S2B_35QPF_20200226_0_L2A/B01.tif\n",
       "13 https://sentinel-cogs.s3.us-west-2.amazonaws.com/sentinel-s2-l2a-cogs/35/Q/PF/2020/3/S2A_35QPF_20200302_0_L2A/B01.tif\n",
       "14 https://sentinel-cogs.s3.us-west-2.amazonaws.com/sentinel-s2-l2a-cogs/35/Q/PF/2020/1/S2B_35QPF_20200127_1_L2A/B01.tif\n",
       "15 https://sentinel-cogs.s3.us-west-2.amazonaws.com/sentinel-s2-l2a-cogs/35/Q/PF/2020/2/S2A_35QPF_20200201_0_L2A/B01.tif\n",
       "16 https://sentinel-cogs.s3.us-west-2.amazonaws.com/sentinel-s2-l2a-cogs/35/Q/PF/2020/3/S2A_35QPF_20200322_0_L2A/B01.tif\n",
       "17 https://sentinel-cogs.s3.us-west-2.amazonaws.com/sentinel-s2-l2a-cogs/35/Q/PF/2020/2/S2B_35QPF_20200216_0_L2A/B01.tif\n",
       "18 https://sentinel-cogs.s3.us-west-2.amazonaws.com/sentinel-s2-l2a-cogs/35/Q/PF/2020/1/S2A_35QPF_20200112_0_L2A/B01.tif\n",
       "19 https://sentinel-cogs.s3.us-west-2.amazonaws.com/sentinel-s2-l2a-cogs/35/Q/PF/2020/1/S2A_35QPF_20200112_1_L2A/B01.tif\n",
       "   B02                                                                                                                  \n",
       "1  https://sentinel-cogs.s3.us-west-2.amazonaws.com/sentinel-s2-l2a-cogs/35/Q/PF/2020/3/S2B_35QPF_20200307_0_L2A/B02.tif\n",
       "2  https://sentinel-cogs.s3.us-west-2.amazonaws.com/sentinel-s2-l2a-cogs/35/Q/PF/2020/1/S2A_35QPF_20200102_0_L2A/B02.tif\n",
       "3  https://sentinel-cogs.s3.us-west-2.amazonaws.com/sentinel-s2-l2a-cogs/35/Q/PF/2020/1/S2B_35QPF_20200117_0_L2A/B02.tif\n",
       "4  https://sentinel-cogs.s3.us-west-2.amazonaws.com/sentinel-s2-l2a-cogs/35/Q/PF/2020/3/S2A_35QPF_20200312_0_L2A/B02.tif\n",
       "5  https://sentinel-cogs.s3.us-west-2.amazonaws.com/sentinel-s2-l2a-cogs/35/Q/PF/2020/3/S2B_35QPF_20200317_0_L2A/B02.tif\n",
       "6  https://sentinel-cogs.s3.us-west-2.amazonaws.com/sentinel-s2-l2a-cogs/35/Q/PF/2020/1/S2A_35QPF_20200122_1_L2A/B02.tif\n",
       "7  https://sentinel-cogs.s3.us-west-2.amazonaws.com/sentinel-s2-l2a-cogs/35/Q/PF/2020/3/S2B_35QPF_20200327_0_L2A/B02.tif\n",
       "8  https://sentinel-cogs.s3.us-west-2.amazonaws.com/sentinel-s2-l2a-cogs/35/Q/PF/2020/2/S2B_35QPF_20200206_0_L2A/B02.tif\n",
       "9  https://sentinel-cogs.s3.us-west-2.amazonaws.com/sentinel-s2-l2a-cogs/35/Q/PF/2020/2/S2A_35QPF_20200211_0_L2A/B02.tif\n",
       "10 https://sentinel-cogs.s3.us-west-2.amazonaws.com/sentinel-s2-l2a-cogs/35/Q/PF/2020/2/S2A_35QPF_20200221_0_L2A/B02.tif\n",
       "11 https://sentinel-cogs.s3.us-west-2.amazonaws.com/sentinel-s2-l2a-cogs/35/Q/PF/2020/1/S2B_35QPF_20200107_0_L2A/B02.tif\n",
       "12 https://sentinel-cogs.s3.us-west-2.amazonaws.com/sentinel-s2-l2a-cogs/35/Q/PF/2020/2/S2B_35QPF_20200226_0_L2A/B02.tif\n",
       "13 https://sentinel-cogs.s3.us-west-2.amazonaws.com/sentinel-s2-l2a-cogs/35/Q/PF/2020/3/S2A_35QPF_20200302_0_L2A/B02.tif\n",
       "14 https://sentinel-cogs.s3.us-west-2.amazonaws.com/sentinel-s2-l2a-cogs/35/Q/PF/2020/1/S2B_35QPF_20200127_1_L2A/B02.tif\n",
       "15 https://sentinel-cogs.s3.us-west-2.amazonaws.com/sentinel-s2-l2a-cogs/35/Q/PF/2020/2/S2A_35QPF_20200201_0_L2A/B02.tif\n",
       "16 https://sentinel-cogs.s3.us-west-2.amazonaws.com/sentinel-s2-l2a-cogs/35/Q/PF/2020/3/S2A_35QPF_20200322_0_L2A/B02.tif\n",
       "17 https://sentinel-cogs.s3.us-west-2.amazonaws.com/sentinel-s2-l2a-cogs/35/Q/PF/2020/2/S2B_35QPF_20200216_0_L2A/B02.tif\n",
       "18 https://sentinel-cogs.s3.us-west-2.amazonaws.com/sentinel-s2-l2a-cogs/35/Q/PF/2020/1/S2A_35QPF_20200112_0_L2A/B02.tif\n",
       "19 https://sentinel-cogs.s3.us-west-2.amazonaws.com/sentinel-s2-l2a-cogs/35/Q/PF/2020/1/S2A_35QPF_20200112_1_L2A/B02.tif\n",
       "   B03                                                                                                                  \n",
       "1  https://sentinel-cogs.s3.us-west-2.amazonaws.com/sentinel-s2-l2a-cogs/35/Q/PF/2020/3/S2B_35QPF_20200307_0_L2A/B03.tif\n",
       "2  https://sentinel-cogs.s3.us-west-2.amazonaws.com/sentinel-s2-l2a-cogs/35/Q/PF/2020/1/S2A_35QPF_20200102_0_L2A/B03.tif\n",
       "3  https://sentinel-cogs.s3.us-west-2.amazonaws.com/sentinel-s2-l2a-cogs/35/Q/PF/2020/1/S2B_35QPF_20200117_0_L2A/B03.tif\n",
       "4  https://sentinel-cogs.s3.us-west-2.amazonaws.com/sentinel-s2-l2a-cogs/35/Q/PF/2020/3/S2A_35QPF_20200312_0_L2A/B03.tif\n",
       "5  https://sentinel-cogs.s3.us-west-2.amazonaws.com/sentinel-s2-l2a-cogs/35/Q/PF/2020/3/S2B_35QPF_20200317_0_L2A/B03.tif\n",
       "6  https://sentinel-cogs.s3.us-west-2.amazonaws.com/sentinel-s2-l2a-cogs/35/Q/PF/2020/1/S2A_35QPF_20200122_1_L2A/B03.tif\n",
       "7  https://sentinel-cogs.s3.us-west-2.amazonaws.com/sentinel-s2-l2a-cogs/35/Q/PF/2020/3/S2B_35QPF_20200327_0_L2A/B03.tif\n",
       "8  https://sentinel-cogs.s3.us-west-2.amazonaws.com/sentinel-s2-l2a-cogs/35/Q/PF/2020/2/S2B_35QPF_20200206_0_L2A/B03.tif\n",
       "9  https://sentinel-cogs.s3.us-west-2.amazonaws.com/sentinel-s2-l2a-cogs/35/Q/PF/2020/2/S2A_35QPF_20200211_0_L2A/B03.tif\n",
       "10 https://sentinel-cogs.s3.us-west-2.amazonaws.com/sentinel-s2-l2a-cogs/35/Q/PF/2020/2/S2A_35QPF_20200221_0_L2A/B03.tif\n",
       "11 https://sentinel-cogs.s3.us-west-2.amazonaws.com/sentinel-s2-l2a-cogs/35/Q/PF/2020/1/S2B_35QPF_20200107_0_L2A/B03.tif\n",
       "12 https://sentinel-cogs.s3.us-west-2.amazonaws.com/sentinel-s2-l2a-cogs/35/Q/PF/2020/2/S2B_35QPF_20200226_0_L2A/B03.tif\n",
       "13 https://sentinel-cogs.s3.us-west-2.amazonaws.com/sentinel-s2-l2a-cogs/35/Q/PF/2020/3/S2A_35QPF_20200302_0_L2A/B03.tif\n",
       "14 https://sentinel-cogs.s3.us-west-2.amazonaws.com/sentinel-s2-l2a-cogs/35/Q/PF/2020/1/S2B_35QPF_20200127_1_L2A/B03.tif\n",
       "15 https://sentinel-cogs.s3.us-west-2.amazonaws.com/sentinel-s2-l2a-cogs/35/Q/PF/2020/2/S2A_35QPF_20200201_0_L2A/B03.tif\n",
       "16 https://sentinel-cogs.s3.us-west-2.amazonaws.com/sentinel-s2-l2a-cogs/35/Q/PF/2020/3/S2A_35QPF_20200322_0_L2A/B03.tif\n",
       "17 https://sentinel-cogs.s3.us-west-2.amazonaws.com/sentinel-s2-l2a-cogs/35/Q/PF/2020/2/S2B_35QPF_20200216_0_L2A/B03.tif\n",
       "18 https://sentinel-cogs.s3.us-west-2.amazonaws.com/sentinel-s2-l2a-cogs/35/Q/PF/2020/1/S2A_35QPF_20200112_0_L2A/B03.tif\n",
       "19 https://sentinel-cogs.s3.us-west-2.amazonaws.com/sentinel-s2-l2a-cogs/35/Q/PF/2020/1/S2A_35QPF_20200112_1_L2A/B03.tif\n",
       "   B04                                                                                                                  \n",
       "1  https://sentinel-cogs.s3.us-west-2.amazonaws.com/sentinel-s2-l2a-cogs/35/Q/PF/2020/3/S2B_35QPF_20200307_0_L2A/B04.tif\n",
       "2  https://sentinel-cogs.s3.us-west-2.amazonaws.com/sentinel-s2-l2a-cogs/35/Q/PF/2020/1/S2A_35QPF_20200102_0_L2A/B04.tif\n",
       "3  https://sentinel-cogs.s3.us-west-2.amazonaws.com/sentinel-s2-l2a-cogs/35/Q/PF/2020/1/S2B_35QPF_20200117_0_L2A/B04.tif\n",
       "4  https://sentinel-cogs.s3.us-west-2.amazonaws.com/sentinel-s2-l2a-cogs/35/Q/PF/2020/3/S2A_35QPF_20200312_0_L2A/B04.tif\n",
       "5  https://sentinel-cogs.s3.us-west-2.amazonaws.com/sentinel-s2-l2a-cogs/35/Q/PF/2020/3/S2B_35QPF_20200317_0_L2A/B04.tif\n",
       "6  https://sentinel-cogs.s3.us-west-2.amazonaws.com/sentinel-s2-l2a-cogs/35/Q/PF/2020/1/S2A_35QPF_20200122_1_L2A/B04.tif\n",
       "7  https://sentinel-cogs.s3.us-west-2.amazonaws.com/sentinel-s2-l2a-cogs/35/Q/PF/2020/3/S2B_35QPF_20200327_0_L2A/B04.tif\n",
       "8  https://sentinel-cogs.s3.us-west-2.amazonaws.com/sentinel-s2-l2a-cogs/35/Q/PF/2020/2/S2B_35QPF_20200206_0_L2A/B04.tif\n",
       "9  https://sentinel-cogs.s3.us-west-2.amazonaws.com/sentinel-s2-l2a-cogs/35/Q/PF/2020/2/S2A_35QPF_20200211_0_L2A/B04.tif\n",
       "10 https://sentinel-cogs.s3.us-west-2.amazonaws.com/sentinel-s2-l2a-cogs/35/Q/PF/2020/2/S2A_35QPF_20200221_0_L2A/B04.tif\n",
       "11 https://sentinel-cogs.s3.us-west-2.amazonaws.com/sentinel-s2-l2a-cogs/35/Q/PF/2020/1/S2B_35QPF_20200107_0_L2A/B04.tif\n",
       "12 https://sentinel-cogs.s3.us-west-2.amazonaws.com/sentinel-s2-l2a-cogs/35/Q/PF/2020/2/S2B_35QPF_20200226_0_L2A/B04.tif\n",
       "13 https://sentinel-cogs.s3.us-west-2.amazonaws.com/sentinel-s2-l2a-cogs/35/Q/PF/2020/3/S2A_35QPF_20200302_0_L2A/B04.tif\n",
       "14 https://sentinel-cogs.s3.us-west-2.amazonaws.com/sentinel-s2-l2a-cogs/35/Q/PF/2020/1/S2B_35QPF_20200127_1_L2A/B04.tif\n",
       "15 https://sentinel-cogs.s3.us-west-2.amazonaws.com/sentinel-s2-l2a-cogs/35/Q/PF/2020/2/S2A_35QPF_20200201_0_L2A/B04.tif\n",
       "16 https://sentinel-cogs.s3.us-west-2.amazonaws.com/sentinel-s2-l2a-cogs/35/Q/PF/2020/3/S2A_35QPF_20200322_0_L2A/B04.tif\n",
       "17 https://sentinel-cogs.s3.us-west-2.amazonaws.com/sentinel-s2-l2a-cogs/35/Q/PF/2020/2/S2B_35QPF_20200216_0_L2A/B04.tif\n",
       "18 https://sentinel-cogs.s3.us-west-2.amazonaws.com/sentinel-s2-l2a-cogs/35/Q/PF/2020/1/S2A_35QPF_20200112_0_L2A/B04.tif\n",
       "19 https://sentinel-cogs.s3.us-west-2.amazonaws.com/sentinel-s2-l2a-cogs/35/Q/PF/2020/1/S2A_35QPF_20200112_1_L2A/B04.tif\n",
       "   B05                                                                                                                  \n",
       "1  https://sentinel-cogs.s3.us-west-2.amazonaws.com/sentinel-s2-l2a-cogs/35/Q/PF/2020/3/S2B_35QPF_20200307_0_L2A/B05.tif\n",
       "2  https://sentinel-cogs.s3.us-west-2.amazonaws.com/sentinel-s2-l2a-cogs/35/Q/PF/2020/1/S2A_35QPF_20200102_0_L2A/B05.tif\n",
       "3  https://sentinel-cogs.s3.us-west-2.amazonaws.com/sentinel-s2-l2a-cogs/35/Q/PF/2020/1/S2B_35QPF_20200117_0_L2A/B05.tif\n",
       "4  https://sentinel-cogs.s3.us-west-2.amazonaws.com/sentinel-s2-l2a-cogs/35/Q/PF/2020/3/S2A_35QPF_20200312_0_L2A/B05.tif\n",
       "5  https://sentinel-cogs.s3.us-west-2.amazonaws.com/sentinel-s2-l2a-cogs/35/Q/PF/2020/3/S2B_35QPF_20200317_0_L2A/B05.tif\n",
       "6  https://sentinel-cogs.s3.us-west-2.amazonaws.com/sentinel-s2-l2a-cogs/35/Q/PF/2020/1/S2A_35QPF_20200122_1_L2A/B05.tif\n",
       "7  https://sentinel-cogs.s3.us-west-2.amazonaws.com/sentinel-s2-l2a-cogs/35/Q/PF/2020/3/S2B_35QPF_20200327_0_L2A/B05.tif\n",
       "8  https://sentinel-cogs.s3.us-west-2.amazonaws.com/sentinel-s2-l2a-cogs/35/Q/PF/2020/2/S2B_35QPF_20200206_0_L2A/B05.tif\n",
       "9  https://sentinel-cogs.s3.us-west-2.amazonaws.com/sentinel-s2-l2a-cogs/35/Q/PF/2020/2/S2A_35QPF_20200211_0_L2A/B05.tif\n",
       "10 https://sentinel-cogs.s3.us-west-2.amazonaws.com/sentinel-s2-l2a-cogs/35/Q/PF/2020/2/S2A_35QPF_20200221_0_L2A/B05.tif\n",
       "11 https://sentinel-cogs.s3.us-west-2.amazonaws.com/sentinel-s2-l2a-cogs/35/Q/PF/2020/1/S2B_35QPF_20200107_0_L2A/B05.tif\n",
       "12 https://sentinel-cogs.s3.us-west-2.amazonaws.com/sentinel-s2-l2a-cogs/35/Q/PF/2020/2/S2B_35QPF_20200226_0_L2A/B05.tif\n",
       "13 https://sentinel-cogs.s3.us-west-2.amazonaws.com/sentinel-s2-l2a-cogs/35/Q/PF/2020/3/S2A_35QPF_20200302_0_L2A/B05.tif\n",
       "14 https://sentinel-cogs.s3.us-west-2.amazonaws.com/sentinel-s2-l2a-cogs/35/Q/PF/2020/1/S2B_35QPF_20200127_1_L2A/B05.tif\n",
       "15 https://sentinel-cogs.s3.us-west-2.amazonaws.com/sentinel-s2-l2a-cogs/35/Q/PF/2020/2/S2A_35QPF_20200201_0_L2A/B05.tif\n",
       "16 https://sentinel-cogs.s3.us-west-2.amazonaws.com/sentinel-s2-l2a-cogs/35/Q/PF/2020/3/S2A_35QPF_20200322_0_L2A/B05.tif\n",
       "17 https://sentinel-cogs.s3.us-west-2.amazonaws.com/sentinel-s2-l2a-cogs/35/Q/PF/2020/2/S2B_35QPF_20200216_0_L2A/B05.tif\n",
       "18 https://sentinel-cogs.s3.us-west-2.amazonaws.com/sentinel-s2-l2a-cogs/35/Q/PF/2020/1/S2A_35QPF_20200112_0_L2A/B05.tif\n",
       "19 https://sentinel-cogs.s3.us-west-2.amazonaws.com/sentinel-s2-l2a-cogs/35/Q/PF/2020/1/S2A_35QPF_20200112_1_L2A/B05.tif\n",
       "   B06                                                                                                                  \n",
       "1  https://sentinel-cogs.s3.us-west-2.amazonaws.com/sentinel-s2-l2a-cogs/35/Q/PF/2020/3/S2B_35QPF_20200307_0_L2A/B06.tif\n",
       "2  https://sentinel-cogs.s3.us-west-2.amazonaws.com/sentinel-s2-l2a-cogs/35/Q/PF/2020/1/S2A_35QPF_20200102_0_L2A/B06.tif\n",
       "3  https://sentinel-cogs.s3.us-west-2.amazonaws.com/sentinel-s2-l2a-cogs/35/Q/PF/2020/1/S2B_35QPF_20200117_0_L2A/B06.tif\n",
       "4  https://sentinel-cogs.s3.us-west-2.amazonaws.com/sentinel-s2-l2a-cogs/35/Q/PF/2020/3/S2A_35QPF_20200312_0_L2A/B06.tif\n",
       "5  https://sentinel-cogs.s3.us-west-2.amazonaws.com/sentinel-s2-l2a-cogs/35/Q/PF/2020/3/S2B_35QPF_20200317_0_L2A/B06.tif\n",
       "6  https://sentinel-cogs.s3.us-west-2.amazonaws.com/sentinel-s2-l2a-cogs/35/Q/PF/2020/1/S2A_35QPF_20200122_1_L2A/B06.tif\n",
       "7  https://sentinel-cogs.s3.us-west-2.amazonaws.com/sentinel-s2-l2a-cogs/35/Q/PF/2020/3/S2B_35QPF_20200327_0_L2A/B06.tif\n",
       "8  https://sentinel-cogs.s3.us-west-2.amazonaws.com/sentinel-s2-l2a-cogs/35/Q/PF/2020/2/S2B_35QPF_20200206_0_L2A/B06.tif\n",
       "9  https://sentinel-cogs.s3.us-west-2.amazonaws.com/sentinel-s2-l2a-cogs/35/Q/PF/2020/2/S2A_35QPF_20200211_0_L2A/B06.tif\n",
       "10 https://sentinel-cogs.s3.us-west-2.amazonaws.com/sentinel-s2-l2a-cogs/35/Q/PF/2020/2/S2A_35QPF_20200221_0_L2A/B06.tif\n",
       "11 https://sentinel-cogs.s3.us-west-2.amazonaws.com/sentinel-s2-l2a-cogs/35/Q/PF/2020/1/S2B_35QPF_20200107_0_L2A/B06.tif\n",
       "12 https://sentinel-cogs.s3.us-west-2.amazonaws.com/sentinel-s2-l2a-cogs/35/Q/PF/2020/2/S2B_35QPF_20200226_0_L2A/B06.tif\n",
       "13 https://sentinel-cogs.s3.us-west-2.amazonaws.com/sentinel-s2-l2a-cogs/35/Q/PF/2020/3/S2A_35QPF_20200302_0_L2A/B06.tif\n",
       "14 https://sentinel-cogs.s3.us-west-2.amazonaws.com/sentinel-s2-l2a-cogs/35/Q/PF/2020/1/S2B_35QPF_20200127_1_L2A/B06.tif\n",
       "15 https://sentinel-cogs.s3.us-west-2.amazonaws.com/sentinel-s2-l2a-cogs/35/Q/PF/2020/2/S2A_35QPF_20200201_0_L2A/B06.tif\n",
       "16 https://sentinel-cogs.s3.us-west-2.amazonaws.com/sentinel-s2-l2a-cogs/35/Q/PF/2020/3/S2A_35QPF_20200322_0_L2A/B06.tif\n",
       "17 https://sentinel-cogs.s3.us-west-2.amazonaws.com/sentinel-s2-l2a-cogs/35/Q/PF/2020/2/S2B_35QPF_20200216_0_L2A/B06.tif\n",
       "18 https://sentinel-cogs.s3.us-west-2.amazonaws.com/sentinel-s2-l2a-cogs/35/Q/PF/2020/1/S2A_35QPF_20200112_0_L2A/B06.tif\n",
       "19 https://sentinel-cogs.s3.us-west-2.amazonaws.com/sentinel-s2-l2a-cogs/35/Q/PF/2020/1/S2A_35QPF_20200112_1_L2A/B06.tif\n",
       "   B07                                                                                                                  \n",
       "1  https://sentinel-cogs.s3.us-west-2.amazonaws.com/sentinel-s2-l2a-cogs/35/Q/PF/2020/3/S2B_35QPF_20200307_0_L2A/B07.tif\n",
       "2  https://sentinel-cogs.s3.us-west-2.amazonaws.com/sentinel-s2-l2a-cogs/35/Q/PF/2020/1/S2A_35QPF_20200102_0_L2A/B07.tif\n",
       "3  https://sentinel-cogs.s3.us-west-2.amazonaws.com/sentinel-s2-l2a-cogs/35/Q/PF/2020/1/S2B_35QPF_20200117_0_L2A/B07.tif\n",
       "4  https://sentinel-cogs.s3.us-west-2.amazonaws.com/sentinel-s2-l2a-cogs/35/Q/PF/2020/3/S2A_35QPF_20200312_0_L2A/B07.tif\n",
       "5  https://sentinel-cogs.s3.us-west-2.amazonaws.com/sentinel-s2-l2a-cogs/35/Q/PF/2020/3/S2B_35QPF_20200317_0_L2A/B07.tif\n",
       "6  https://sentinel-cogs.s3.us-west-2.amazonaws.com/sentinel-s2-l2a-cogs/35/Q/PF/2020/1/S2A_35QPF_20200122_1_L2A/B07.tif\n",
       "7  https://sentinel-cogs.s3.us-west-2.amazonaws.com/sentinel-s2-l2a-cogs/35/Q/PF/2020/3/S2B_35QPF_20200327_0_L2A/B07.tif\n",
       "8  https://sentinel-cogs.s3.us-west-2.amazonaws.com/sentinel-s2-l2a-cogs/35/Q/PF/2020/2/S2B_35QPF_20200206_0_L2A/B07.tif\n",
       "9  https://sentinel-cogs.s3.us-west-2.amazonaws.com/sentinel-s2-l2a-cogs/35/Q/PF/2020/2/S2A_35QPF_20200211_0_L2A/B07.tif\n",
       "10 https://sentinel-cogs.s3.us-west-2.amazonaws.com/sentinel-s2-l2a-cogs/35/Q/PF/2020/2/S2A_35QPF_20200221_0_L2A/B07.tif\n",
       "11 https://sentinel-cogs.s3.us-west-2.amazonaws.com/sentinel-s2-l2a-cogs/35/Q/PF/2020/1/S2B_35QPF_20200107_0_L2A/B07.tif\n",
       "12 https://sentinel-cogs.s3.us-west-2.amazonaws.com/sentinel-s2-l2a-cogs/35/Q/PF/2020/2/S2B_35QPF_20200226_0_L2A/B07.tif\n",
       "13 https://sentinel-cogs.s3.us-west-2.amazonaws.com/sentinel-s2-l2a-cogs/35/Q/PF/2020/3/S2A_35QPF_20200302_0_L2A/B07.tif\n",
       "14 https://sentinel-cogs.s3.us-west-2.amazonaws.com/sentinel-s2-l2a-cogs/35/Q/PF/2020/1/S2B_35QPF_20200127_1_L2A/B07.tif\n",
       "15 https://sentinel-cogs.s3.us-west-2.amazonaws.com/sentinel-s2-l2a-cogs/35/Q/PF/2020/2/S2A_35QPF_20200201_0_L2A/B07.tif\n",
       "16 https://sentinel-cogs.s3.us-west-2.amazonaws.com/sentinel-s2-l2a-cogs/35/Q/PF/2020/3/S2A_35QPF_20200322_0_L2A/B07.tif\n",
       "17 https://sentinel-cogs.s3.us-west-2.amazonaws.com/sentinel-s2-l2a-cogs/35/Q/PF/2020/2/S2B_35QPF_20200216_0_L2A/B07.tif\n",
       "18 https://sentinel-cogs.s3.us-west-2.amazonaws.com/sentinel-s2-l2a-cogs/35/Q/PF/2020/1/S2A_35QPF_20200112_0_L2A/B07.tif\n",
       "19 https://sentinel-cogs.s3.us-west-2.amazonaws.com/sentinel-s2-l2a-cogs/35/Q/PF/2020/1/S2A_35QPF_20200112_1_L2A/B07.tif\n",
       "   B08                                                                                                                  \n",
       "1  https://sentinel-cogs.s3.us-west-2.amazonaws.com/sentinel-s2-l2a-cogs/35/Q/PF/2020/3/S2B_35QPF_20200307_0_L2A/B08.tif\n",
       "2  https://sentinel-cogs.s3.us-west-2.amazonaws.com/sentinel-s2-l2a-cogs/35/Q/PF/2020/1/S2A_35QPF_20200102_0_L2A/B08.tif\n",
       "3  https://sentinel-cogs.s3.us-west-2.amazonaws.com/sentinel-s2-l2a-cogs/35/Q/PF/2020/1/S2B_35QPF_20200117_0_L2A/B08.tif\n",
       "4  https://sentinel-cogs.s3.us-west-2.amazonaws.com/sentinel-s2-l2a-cogs/35/Q/PF/2020/3/S2A_35QPF_20200312_0_L2A/B08.tif\n",
       "5  https://sentinel-cogs.s3.us-west-2.amazonaws.com/sentinel-s2-l2a-cogs/35/Q/PF/2020/3/S2B_35QPF_20200317_0_L2A/B08.tif\n",
       "6  https://sentinel-cogs.s3.us-west-2.amazonaws.com/sentinel-s2-l2a-cogs/35/Q/PF/2020/1/S2A_35QPF_20200122_1_L2A/B08.tif\n",
       "7  https://sentinel-cogs.s3.us-west-2.amazonaws.com/sentinel-s2-l2a-cogs/35/Q/PF/2020/3/S2B_35QPF_20200327_0_L2A/B08.tif\n",
       "8  https://sentinel-cogs.s3.us-west-2.amazonaws.com/sentinel-s2-l2a-cogs/35/Q/PF/2020/2/S2B_35QPF_20200206_0_L2A/B08.tif\n",
       "9  https://sentinel-cogs.s3.us-west-2.amazonaws.com/sentinel-s2-l2a-cogs/35/Q/PF/2020/2/S2A_35QPF_20200211_0_L2A/B08.tif\n",
       "10 https://sentinel-cogs.s3.us-west-2.amazonaws.com/sentinel-s2-l2a-cogs/35/Q/PF/2020/2/S2A_35QPF_20200221_0_L2A/B08.tif\n",
       "11 https://sentinel-cogs.s3.us-west-2.amazonaws.com/sentinel-s2-l2a-cogs/35/Q/PF/2020/1/S2B_35QPF_20200107_0_L2A/B08.tif\n",
       "12 https://sentinel-cogs.s3.us-west-2.amazonaws.com/sentinel-s2-l2a-cogs/35/Q/PF/2020/2/S2B_35QPF_20200226_0_L2A/B08.tif\n",
       "13 https://sentinel-cogs.s3.us-west-2.amazonaws.com/sentinel-s2-l2a-cogs/35/Q/PF/2020/3/S2A_35QPF_20200302_0_L2A/B08.tif\n",
       "14 https://sentinel-cogs.s3.us-west-2.amazonaws.com/sentinel-s2-l2a-cogs/35/Q/PF/2020/1/S2B_35QPF_20200127_1_L2A/B08.tif\n",
       "15 https://sentinel-cogs.s3.us-west-2.amazonaws.com/sentinel-s2-l2a-cogs/35/Q/PF/2020/2/S2A_35QPF_20200201_0_L2A/B08.tif\n",
       "16 https://sentinel-cogs.s3.us-west-2.amazonaws.com/sentinel-s2-l2a-cogs/35/Q/PF/2020/3/S2A_35QPF_20200322_0_L2A/B08.tif\n",
       "17 https://sentinel-cogs.s3.us-west-2.amazonaws.com/sentinel-s2-l2a-cogs/35/Q/PF/2020/2/S2B_35QPF_20200216_0_L2A/B08.tif\n",
       "18 https://sentinel-cogs.s3.us-west-2.amazonaws.com/sentinel-s2-l2a-cogs/35/Q/PF/2020/1/S2A_35QPF_20200112_0_L2A/B08.tif\n",
       "19 https://sentinel-cogs.s3.us-west-2.amazonaws.com/sentinel-s2-l2a-cogs/35/Q/PF/2020/1/S2A_35QPF_20200112_1_L2A/B08.tif\n",
       "   B09                                                                                                                  \n",
       "1  https://sentinel-cogs.s3.us-west-2.amazonaws.com/sentinel-s2-l2a-cogs/35/Q/PF/2020/3/S2B_35QPF_20200307_0_L2A/B09.tif\n",
       "2  https://sentinel-cogs.s3.us-west-2.amazonaws.com/sentinel-s2-l2a-cogs/35/Q/PF/2020/1/S2A_35QPF_20200102_0_L2A/B09.tif\n",
       "3  https://sentinel-cogs.s3.us-west-2.amazonaws.com/sentinel-s2-l2a-cogs/35/Q/PF/2020/1/S2B_35QPF_20200117_0_L2A/B09.tif\n",
       "4  https://sentinel-cogs.s3.us-west-2.amazonaws.com/sentinel-s2-l2a-cogs/35/Q/PF/2020/3/S2A_35QPF_20200312_0_L2A/B09.tif\n",
       "5  https://sentinel-cogs.s3.us-west-2.amazonaws.com/sentinel-s2-l2a-cogs/35/Q/PF/2020/3/S2B_35QPF_20200317_0_L2A/B09.tif\n",
       "6  https://sentinel-cogs.s3.us-west-2.amazonaws.com/sentinel-s2-l2a-cogs/35/Q/PF/2020/1/S2A_35QPF_20200122_1_L2A/B09.tif\n",
       "7  https://sentinel-cogs.s3.us-west-2.amazonaws.com/sentinel-s2-l2a-cogs/35/Q/PF/2020/3/S2B_35QPF_20200327_0_L2A/B09.tif\n",
       "8  https://sentinel-cogs.s3.us-west-2.amazonaws.com/sentinel-s2-l2a-cogs/35/Q/PF/2020/2/S2B_35QPF_20200206_0_L2A/B09.tif\n",
       "9  https://sentinel-cogs.s3.us-west-2.amazonaws.com/sentinel-s2-l2a-cogs/35/Q/PF/2020/2/S2A_35QPF_20200211_0_L2A/B09.tif\n",
       "10 https://sentinel-cogs.s3.us-west-2.amazonaws.com/sentinel-s2-l2a-cogs/35/Q/PF/2020/2/S2A_35QPF_20200221_0_L2A/B09.tif\n",
       "11 https://sentinel-cogs.s3.us-west-2.amazonaws.com/sentinel-s2-l2a-cogs/35/Q/PF/2020/1/S2B_35QPF_20200107_0_L2A/B09.tif\n",
       "12 https://sentinel-cogs.s3.us-west-2.amazonaws.com/sentinel-s2-l2a-cogs/35/Q/PF/2020/2/S2B_35QPF_20200226_0_L2A/B09.tif\n",
       "13 https://sentinel-cogs.s3.us-west-2.amazonaws.com/sentinel-s2-l2a-cogs/35/Q/PF/2020/3/S2A_35QPF_20200302_0_L2A/B09.tif\n",
       "14 https://sentinel-cogs.s3.us-west-2.amazonaws.com/sentinel-s2-l2a-cogs/35/Q/PF/2020/1/S2B_35QPF_20200127_1_L2A/B09.tif\n",
       "15 https://sentinel-cogs.s3.us-west-2.amazonaws.com/sentinel-s2-l2a-cogs/35/Q/PF/2020/2/S2A_35QPF_20200201_0_L2A/B09.tif\n",
       "16 https://sentinel-cogs.s3.us-west-2.amazonaws.com/sentinel-s2-l2a-cogs/35/Q/PF/2020/3/S2A_35QPF_20200322_0_L2A/B09.tif\n",
       "17 https://sentinel-cogs.s3.us-west-2.amazonaws.com/sentinel-s2-l2a-cogs/35/Q/PF/2020/2/S2B_35QPF_20200216_0_L2A/B09.tif\n",
       "18 https://sentinel-cogs.s3.us-west-2.amazonaws.com/sentinel-s2-l2a-cogs/35/Q/PF/2020/1/S2A_35QPF_20200112_0_L2A/B09.tif\n",
       "19 https://sentinel-cogs.s3.us-west-2.amazonaws.com/sentinel-s2-l2a-cogs/35/Q/PF/2020/1/S2A_35QPF_20200112_1_L2A/B09.tif\n",
       "   B11                                                                                                                  \n",
       "1  https://sentinel-cogs.s3.us-west-2.amazonaws.com/sentinel-s2-l2a-cogs/35/Q/PF/2020/3/S2B_35QPF_20200307_0_L2A/B11.tif\n",
       "2  https://sentinel-cogs.s3.us-west-2.amazonaws.com/sentinel-s2-l2a-cogs/35/Q/PF/2020/1/S2A_35QPF_20200102_0_L2A/B11.tif\n",
       "3  https://sentinel-cogs.s3.us-west-2.amazonaws.com/sentinel-s2-l2a-cogs/35/Q/PF/2020/1/S2B_35QPF_20200117_0_L2A/B11.tif\n",
       "4  https://sentinel-cogs.s3.us-west-2.amazonaws.com/sentinel-s2-l2a-cogs/35/Q/PF/2020/3/S2A_35QPF_20200312_0_L2A/B11.tif\n",
       "5  https://sentinel-cogs.s3.us-west-2.amazonaws.com/sentinel-s2-l2a-cogs/35/Q/PF/2020/3/S2B_35QPF_20200317_0_L2A/B11.tif\n",
       "6  https://sentinel-cogs.s3.us-west-2.amazonaws.com/sentinel-s2-l2a-cogs/35/Q/PF/2020/1/S2A_35QPF_20200122_1_L2A/B11.tif\n",
       "7  https://sentinel-cogs.s3.us-west-2.amazonaws.com/sentinel-s2-l2a-cogs/35/Q/PF/2020/3/S2B_35QPF_20200327_0_L2A/B11.tif\n",
       "8  https://sentinel-cogs.s3.us-west-2.amazonaws.com/sentinel-s2-l2a-cogs/35/Q/PF/2020/2/S2B_35QPF_20200206_0_L2A/B11.tif\n",
       "9  https://sentinel-cogs.s3.us-west-2.amazonaws.com/sentinel-s2-l2a-cogs/35/Q/PF/2020/2/S2A_35QPF_20200211_0_L2A/B11.tif\n",
       "10 https://sentinel-cogs.s3.us-west-2.amazonaws.com/sentinel-s2-l2a-cogs/35/Q/PF/2020/2/S2A_35QPF_20200221_0_L2A/B11.tif\n",
       "11 https://sentinel-cogs.s3.us-west-2.amazonaws.com/sentinel-s2-l2a-cogs/35/Q/PF/2020/1/S2B_35QPF_20200107_0_L2A/B11.tif\n",
       "12 https://sentinel-cogs.s3.us-west-2.amazonaws.com/sentinel-s2-l2a-cogs/35/Q/PF/2020/2/S2B_35QPF_20200226_0_L2A/B11.tif\n",
       "13 https://sentinel-cogs.s3.us-west-2.amazonaws.com/sentinel-s2-l2a-cogs/35/Q/PF/2020/3/S2A_35QPF_20200302_0_L2A/B11.tif\n",
       "14 https://sentinel-cogs.s3.us-west-2.amazonaws.com/sentinel-s2-l2a-cogs/35/Q/PF/2020/1/S2B_35QPF_20200127_1_L2A/B11.tif\n",
       "15 https://sentinel-cogs.s3.us-west-2.amazonaws.com/sentinel-s2-l2a-cogs/35/Q/PF/2020/2/S2A_35QPF_20200201_0_L2A/B11.tif\n",
       "16 https://sentinel-cogs.s3.us-west-2.amazonaws.com/sentinel-s2-l2a-cogs/35/Q/PF/2020/3/S2A_35QPF_20200322_0_L2A/B11.tif\n",
       "17 https://sentinel-cogs.s3.us-west-2.amazonaws.com/sentinel-s2-l2a-cogs/35/Q/PF/2020/2/S2B_35QPF_20200216_0_L2A/B11.tif\n",
       "18 https://sentinel-cogs.s3.us-west-2.amazonaws.com/sentinel-s2-l2a-cogs/35/Q/PF/2020/1/S2A_35QPF_20200112_0_L2A/B11.tif\n",
       "19 https://sentinel-cogs.s3.us-west-2.amazonaws.com/sentinel-s2-l2a-cogs/35/Q/PF/2020/1/S2A_35QPF_20200112_1_L2A/B11.tif\n",
       "   B12                                                                                                                  \n",
       "1  https://sentinel-cogs.s3.us-west-2.amazonaws.com/sentinel-s2-l2a-cogs/35/Q/PF/2020/3/S2B_35QPF_20200307_0_L2A/B12.tif\n",
       "2  https://sentinel-cogs.s3.us-west-2.amazonaws.com/sentinel-s2-l2a-cogs/35/Q/PF/2020/1/S2A_35QPF_20200102_0_L2A/B12.tif\n",
       "3  https://sentinel-cogs.s3.us-west-2.amazonaws.com/sentinel-s2-l2a-cogs/35/Q/PF/2020/1/S2B_35QPF_20200117_0_L2A/B12.tif\n",
       "4  https://sentinel-cogs.s3.us-west-2.amazonaws.com/sentinel-s2-l2a-cogs/35/Q/PF/2020/3/S2A_35QPF_20200312_0_L2A/B12.tif\n",
       "5  https://sentinel-cogs.s3.us-west-2.amazonaws.com/sentinel-s2-l2a-cogs/35/Q/PF/2020/3/S2B_35QPF_20200317_0_L2A/B12.tif\n",
       "6  https://sentinel-cogs.s3.us-west-2.amazonaws.com/sentinel-s2-l2a-cogs/35/Q/PF/2020/1/S2A_35QPF_20200122_1_L2A/B12.tif\n",
       "7  https://sentinel-cogs.s3.us-west-2.amazonaws.com/sentinel-s2-l2a-cogs/35/Q/PF/2020/3/S2B_35QPF_20200327_0_L2A/B12.tif\n",
       "8  https://sentinel-cogs.s3.us-west-2.amazonaws.com/sentinel-s2-l2a-cogs/35/Q/PF/2020/2/S2B_35QPF_20200206_0_L2A/B12.tif\n",
       "9  https://sentinel-cogs.s3.us-west-2.amazonaws.com/sentinel-s2-l2a-cogs/35/Q/PF/2020/2/S2A_35QPF_20200211_0_L2A/B12.tif\n",
       "10 https://sentinel-cogs.s3.us-west-2.amazonaws.com/sentinel-s2-l2a-cogs/35/Q/PF/2020/2/S2A_35QPF_20200221_0_L2A/B12.tif\n",
       "11 https://sentinel-cogs.s3.us-west-2.amazonaws.com/sentinel-s2-l2a-cogs/35/Q/PF/2020/1/S2B_35QPF_20200107_0_L2A/B12.tif\n",
       "12 https://sentinel-cogs.s3.us-west-2.amazonaws.com/sentinel-s2-l2a-cogs/35/Q/PF/2020/2/S2B_35QPF_20200226_0_L2A/B12.tif\n",
       "13 https://sentinel-cogs.s3.us-west-2.amazonaws.com/sentinel-s2-l2a-cogs/35/Q/PF/2020/3/S2A_35QPF_20200302_0_L2A/B12.tif\n",
       "14 https://sentinel-cogs.s3.us-west-2.amazonaws.com/sentinel-s2-l2a-cogs/35/Q/PF/2020/1/S2B_35QPF_20200127_1_L2A/B12.tif\n",
       "15 https://sentinel-cogs.s3.us-west-2.amazonaws.com/sentinel-s2-l2a-cogs/35/Q/PF/2020/2/S2A_35QPF_20200201_0_L2A/B12.tif\n",
       "16 https://sentinel-cogs.s3.us-west-2.amazonaws.com/sentinel-s2-l2a-cogs/35/Q/PF/2020/3/S2A_35QPF_20200322_0_L2A/B12.tif\n",
       "17 https://sentinel-cogs.s3.us-west-2.amazonaws.com/sentinel-s2-l2a-cogs/35/Q/PF/2020/2/S2B_35QPF_20200216_0_L2A/B12.tif\n",
       "18 https://sentinel-cogs.s3.us-west-2.amazonaws.com/sentinel-s2-l2a-cogs/35/Q/PF/2020/1/S2A_35QPF_20200112_0_L2A/B12.tif\n",
       "19 https://sentinel-cogs.s3.us-west-2.amazonaws.com/sentinel-s2-l2a-cogs/35/Q/PF/2020/1/S2A_35QPF_20200112_1_L2A/B12.tif\n",
       "   B8A                                                                                                                  \n",
       "1  https://sentinel-cogs.s3.us-west-2.amazonaws.com/sentinel-s2-l2a-cogs/35/Q/PF/2020/3/S2B_35QPF_20200307_0_L2A/B8A.tif\n",
       "2  https://sentinel-cogs.s3.us-west-2.amazonaws.com/sentinel-s2-l2a-cogs/35/Q/PF/2020/1/S2A_35QPF_20200102_0_L2A/B8A.tif\n",
       "3  https://sentinel-cogs.s3.us-west-2.amazonaws.com/sentinel-s2-l2a-cogs/35/Q/PF/2020/1/S2B_35QPF_20200117_0_L2A/B8A.tif\n",
       "4  https://sentinel-cogs.s3.us-west-2.amazonaws.com/sentinel-s2-l2a-cogs/35/Q/PF/2020/3/S2A_35QPF_20200312_0_L2A/B8A.tif\n",
       "5  https://sentinel-cogs.s3.us-west-2.amazonaws.com/sentinel-s2-l2a-cogs/35/Q/PF/2020/3/S2B_35QPF_20200317_0_L2A/B8A.tif\n",
       "6  https://sentinel-cogs.s3.us-west-2.amazonaws.com/sentinel-s2-l2a-cogs/35/Q/PF/2020/1/S2A_35QPF_20200122_1_L2A/B8A.tif\n",
       "7  https://sentinel-cogs.s3.us-west-2.amazonaws.com/sentinel-s2-l2a-cogs/35/Q/PF/2020/3/S2B_35QPF_20200327_0_L2A/B8A.tif\n",
       "8  https://sentinel-cogs.s3.us-west-2.amazonaws.com/sentinel-s2-l2a-cogs/35/Q/PF/2020/2/S2B_35QPF_20200206_0_L2A/B8A.tif\n",
       "9  https://sentinel-cogs.s3.us-west-2.amazonaws.com/sentinel-s2-l2a-cogs/35/Q/PF/2020/2/S2A_35QPF_20200211_0_L2A/B8A.tif\n",
       "10 https://sentinel-cogs.s3.us-west-2.amazonaws.com/sentinel-s2-l2a-cogs/35/Q/PF/2020/2/S2A_35QPF_20200221_0_L2A/B8A.tif\n",
       "11 https://sentinel-cogs.s3.us-west-2.amazonaws.com/sentinel-s2-l2a-cogs/35/Q/PF/2020/1/S2B_35QPF_20200107_0_L2A/B8A.tif\n",
       "12 https://sentinel-cogs.s3.us-west-2.amazonaws.com/sentinel-s2-l2a-cogs/35/Q/PF/2020/2/S2B_35QPF_20200226_0_L2A/B8A.tif\n",
       "13 https://sentinel-cogs.s3.us-west-2.amazonaws.com/sentinel-s2-l2a-cogs/35/Q/PF/2020/3/S2A_35QPF_20200302_0_L2A/B8A.tif\n",
       "14 https://sentinel-cogs.s3.us-west-2.amazonaws.com/sentinel-s2-l2a-cogs/35/Q/PF/2020/1/S2B_35QPF_20200127_1_L2A/B8A.tif\n",
       "15 https://sentinel-cogs.s3.us-west-2.amazonaws.com/sentinel-s2-l2a-cogs/35/Q/PF/2020/2/S2A_35QPF_20200201_0_L2A/B8A.tif\n",
       "16 https://sentinel-cogs.s3.us-west-2.amazonaws.com/sentinel-s2-l2a-cogs/35/Q/PF/2020/3/S2A_35QPF_20200322_0_L2A/B8A.tif\n",
       "17 https://sentinel-cogs.s3.us-west-2.amazonaws.com/sentinel-s2-l2a-cogs/35/Q/PF/2020/2/S2B_35QPF_20200216_0_L2A/B8A.tif\n",
       "18 https://sentinel-cogs.s3.us-west-2.amazonaws.com/sentinel-s2-l2a-cogs/35/Q/PF/2020/1/S2A_35QPF_20200112_0_L2A/B8A.tif\n",
       "19 https://sentinel-cogs.s3.us-west-2.amazonaws.com/sentinel-s2-l2a-cogs/35/Q/PF/2020/1/S2A_35QPF_20200112_1_L2A/B8A.tif\n",
       "   SCL                                                                                                                  \n",
       "1  https://sentinel-cogs.s3.us-west-2.amazonaws.com/sentinel-s2-l2a-cogs/35/Q/PF/2020/3/S2B_35QPF_20200307_0_L2A/SCL.tif\n",
       "2  https://sentinel-cogs.s3.us-west-2.amazonaws.com/sentinel-s2-l2a-cogs/35/Q/PF/2020/1/S2A_35QPF_20200102_0_L2A/SCL.tif\n",
       "3  https://sentinel-cogs.s3.us-west-2.amazonaws.com/sentinel-s2-l2a-cogs/35/Q/PF/2020/1/S2B_35QPF_20200117_0_L2A/SCL.tif\n",
       "4  https://sentinel-cogs.s3.us-west-2.amazonaws.com/sentinel-s2-l2a-cogs/35/Q/PF/2020/3/S2A_35QPF_20200312_0_L2A/SCL.tif\n",
       "5  https://sentinel-cogs.s3.us-west-2.amazonaws.com/sentinel-s2-l2a-cogs/35/Q/PF/2020/3/S2B_35QPF_20200317_0_L2A/SCL.tif\n",
       "6  https://sentinel-cogs.s3.us-west-2.amazonaws.com/sentinel-s2-l2a-cogs/35/Q/PF/2020/1/S2A_35QPF_20200122_1_L2A/SCL.tif\n",
       "7  https://sentinel-cogs.s3.us-west-2.amazonaws.com/sentinel-s2-l2a-cogs/35/Q/PF/2020/3/S2B_35QPF_20200327_0_L2A/SCL.tif\n",
       "8  https://sentinel-cogs.s3.us-west-2.amazonaws.com/sentinel-s2-l2a-cogs/35/Q/PF/2020/2/S2B_35QPF_20200206_0_L2A/SCL.tif\n",
       "9  https://sentinel-cogs.s3.us-west-2.amazonaws.com/sentinel-s2-l2a-cogs/35/Q/PF/2020/2/S2A_35QPF_20200211_0_L2A/SCL.tif\n",
       "10 https://sentinel-cogs.s3.us-west-2.amazonaws.com/sentinel-s2-l2a-cogs/35/Q/PF/2020/2/S2A_35QPF_20200221_0_L2A/SCL.tif\n",
       "11 https://sentinel-cogs.s3.us-west-2.amazonaws.com/sentinel-s2-l2a-cogs/35/Q/PF/2020/1/S2B_35QPF_20200107_0_L2A/SCL.tif\n",
       "12 https://sentinel-cogs.s3.us-west-2.amazonaws.com/sentinel-s2-l2a-cogs/35/Q/PF/2020/2/S2B_35QPF_20200226_0_L2A/SCL.tif\n",
       "13 https://sentinel-cogs.s3.us-west-2.amazonaws.com/sentinel-s2-l2a-cogs/35/Q/PF/2020/3/S2A_35QPF_20200302_0_L2A/SCL.tif\n",
       "14 https://sentinel-cogs.s3.us-west-2.amazonaws.com/sentinel-s2-l2a-cogs/35/Q/PF/2020/1/S2B_35QPF_20200127_1_L2A/SCL.tif\n",
       "15 https://sentinel-cogs.s3.us-west-2.amazonaws.com/sentinel-s2-l2a-cogs/35/Q/PF/2020/2/S2A_35QPF_20200201_0_L2A/SCL.tif\n",
       "16 https://sentinel-cogs.s3.us-west-2.amazonaws.com/sentinel-s2-l2a-cogs/35/Q/PF/2020/3/S2A_35QPF_20200322_0_L2A/SCL.tif\n",
       "17 https://sentinel-cogs.s3.us-west-2.amazonaws.com/sentinel-s2-l2a-cogs/35/Q/PF/2020/2/S2B_35QPF_20200216_0_L2A/SCL.tif\n",
       "18 https://sentinel-cogs.s3.us-west-2.amazonaws.com/sentinel-s2-l2a-cogs/35/Q/PF/2020/1/S2A_35QPF_20200112_0_L2A/SCL.tif\n",
       "19 https://sentinel-cogs.s3.us-west-2.amazonaws.com/sentinel-s2-l2a-cogs/35/Q/PF/2020/1/S2A_35QPF_20200112_1_L2A/SCL.tif\n",
       "   WVP                                                                                                                  \n",
       "1  https://sentinel-cogs.s3.us-west-2.amazonaws.com/sentinel-s2-l2a-cogs/35/Q/PF/2020/3/S2B_35QPF_20200307_0_L2A/WVP.tif\n",
       "2  https://sentinel-cogs.s3.us-west-2.amazonaws.com/sentinel-s2-l2a-cogs/35/Q/PF/2020/1/S2A_35QPF_20200102_0_L2A/WVP.tif\n",
       "3  https://sentinel-cogs.s3.us-west-2.amazonaws.com/sentinel-s2-l2a-cogs/35/Q/PF/2020/1/S2B_35QPF_20200117_0_L2A/WVP.tif\n",
       "4  https://sentinel-cogs.s3.us-west-2.amazonaws.com/sentinel-s2-l2a-cogs/35/Q/PF/2020/3/S2A_35QPF_20200312_0_L2A/WVP.tif\n",
       "5  https://sentinel-cogs.s3.us-west-2.amazonaws.com/sentinel-s2-l2a-cogs/35/Q/PF/2020/3/S2B_35QPF_20200317_0_L2A/WVP.tif\n",
       "6  https://sentinel-cogs.s3.us-west-2.amazonaws.com/sentinel-s2-l2a-cogs/35/Q/PF/2020/1/S2A_35QPF_20200122_1_L2A/WVP.tif\n",
       "7  https://sentinel-cogs.s3.us-west-2.amazonaws.com/sentinel-s2-l2a-cogs/35/Q/PF/2020/3/S2B_35QPF_20200327_0_L2A/WVP.tif\n",
       "8  https://sentinel-cogs.s3.us-west-2.amazonaws.com/sentinel-s2-l2a-cogs/35/Q/PF/2020/2/S2B_35QPF_20200206_0_L2A/WVP.tif\n",
       "9  https://sentinel-cogs.s3.us-west-2.amazonaws.com/sentinel-s2-l2a-cogs/35/Q/PF/2020/2/S2A_35QPF_20200211_0_L2A/WVP.tif\n",
       "10 https://sentinel-cogs.s3.us-west-2.amazonaws.com/sentinel-s2-l2a-cogs/35/Q/PF/2020/2/S2A_35QPF_20200221_0_L2A/WVP.tif\n",
       "11 https://sentinel-cogs.s3.us-west-2.amazonaws.com/sentinel-s2-l2a-cogs/35/Q/PF/2020/1/S2B_35QPF_20200107_0_L2A/WVP.tif\n",
       "12 https://sentinel-cogs.s3.us-west-2.amazonaws.com/sentinel-s2-l2a-cogs/35/Q/PF/2020/2/S2B_35QPF_20200226_0_L2A/WVP.tif\n",
       "13 https://sentinel-cogs.s3.us-west-2.amazonaws.com/sentinel-s2-l2a-cogs/35/Q/PF/2020/3/S2A_35QPF_20200302_0_L2A/WVP.tif\n",
       "14 https://sentinel-cogs.s3.us-west-2.amazonaws.com/sentinel-s2-l2a-cogs/35/Q/PF/2020/1/S2B_35QPF_20200127_1_L2A/WVP.tif\n",
       "15 https://sentinel-cogs.s3.us-west-2.amazonaws.com/sentinel-s2-l2a-cogs/35/Q/PF/2020/2/S2A_35QPF_20200201_0_L2A/WVP.tif\n",
       "16 https://sentinel-cogs.s3.us-west-2.amazonaws.com/sentinel-s2-l2a-cogs/35/Q/PF/2020/3/S2A_35QPF_20200322_0_L2A/WVP.tif\n",
       "17 https://sentinel-cogs.s3.us-west-2.amazonaws.com/sentinel-s2-l2a-cogs/35/Q/PF/2020/2/S2B_35QPF_20200216_0_L2A/WVP.tif\n",
       "18 https://sentinel-cogs.s3.us-west-2.amazonaws.com/sentinel-s2-l2a-cogs/35/Q/PF/2020/1/S2A_35QPF_20200112_0_L2A/WVP.tif\n",
       "19 https://sentinel-cogs.s3.us-west-2.amazonaws.com/sentinel-s2-l2a-cogs/35/Q/PF/2020/1/S2A_35QPF_20200112_1_L2A/WVP.tif\n",
       "   visual                                                                                                               \n",
       "1  https://sentinel-cogs.s3.us-west-2.amazonaws.com/sentinel-s2-l2a-cogs/35/Q/PF/2020/3/S2B_35QPF_20200307_0_L2A/TCI.tif\n",
       "2  https://sentinel-cogs.s3.us-west-2.amazonaws.com/sentinel-s2-l2a-cogs/35/Q/PF/2020/1/S2A_35QPF_20200102_0_L2A/TCI.tif\n",
       "3  https://sentinel-cogs.s3.us-west-2.amazonaws.com/sentinel-s2-l2a-cogs/35/Q/PF/2020/1/S2B_35QPF_20200117_0_L2A/TCI.tif\n",
       "4  https://sentinel-cogs.s3.us-west-2.amazonaws.com/sentinel-s2-l2a-cogs/35/Q/PF/2020/3/S2A_35QPF_20200312_0_L2A/TCI.tif\n",
       "5  https://sentinel-cogs.s3.us-west-2.amazonaws.com/sentinel-s2-l2a-cogs/35/Q/PF/2020/3/S2B_35QPF_20200317_0_L2A/TCI.tif\n",
       "6  https://sentinel-cogs.s3.us-west-2.amazonaws.com/sentinel-s2-l2a-cogs/35/Q/PF/2020/1/S2A_35QPF_20200122_1_L2A/TCI.tif\n",
       "7  https://sentinel-cogs.s3.us-west-2.amazonaws.com/sentinel-s2-l2a-cogs/35/Q/PF/2020/3/S2B_35QPF_20200327_0_L2A/TCI.tif\n",
       "8  https://sentinel-cogs.s3.us-west-2.amazonaws.com/sentinel-s2-l2a-cogs/35/Q/PF/2020/2/S2B_35QPF_20200206_0_L2A/TCI.tif\n",
       "9  https://sentinel-cogs.s3.us-west-2.amazonaws.com/sentinel-s2-l2a-cogs/35/Q/PF/2020/2/S2A_35QPF_20200211_0_L2A/TCI.tif\n",
       "10 https://sentinel-cogs.s3.us-west-2.amazonaws.com/sentinel-s2-l2a-cogs/35/Q/PF/2020/2/S2A_35QPF_20200221_0_L2A/TCI.tif\n",
       "11 https://sentinel-cogs.s3.us-west-2.amazonaws.com/sentinel-s2-l2a-cogs/35/Q/PF/2020/1/S2B_35QPF_20200107_0_L2A/TCI.tif\n",
       "12 https://sentinel-cogs.s3.us-west-2.amazonaws.com/sentinel-s2-l2a-cogs/35/Q/PF/2020/2/S2B_35QPF_20200226_0_L2A/TCI.tif\n",
       "13 https://sentinel-cogs.s3.us-west-2.amazonaws.com/sentinel-s2-l2a-cogs/35/Q/PF/2020/3/S2A_35QPF_20200302_0_L2A/TCI.tif\n",
       "14 https://sentinel-cogs.s3.us-west-2.amazonaws.com/sentinel-s2-l2a-cogs/35/Q/PF/2020/1/S2B_35QPF_20200127_1_L2A/TCI.tif\n",
       "15 https://sentinel-cogs.s3.us-west-2.amazonaws.com/sentinel-s2-l2a-cogs/35/Q/PF/2020/2/S2A_35QPF_20200201_0_L2A/TCI.tif\n",
       "16 https://sentinel-cogs.s3.us-west-2.amazonaws.com/sentinel-s2-l2a-cogs/35/Q/PF/2020/3/S2A_35QPF_20200322_0_L2A/TCI.tif\n",
       "17 https://sentinel-cogs.s3.us-west-2.amazonaws.com/sentinel-s2-l2a-cogs/35/Q/PF/2020/2/S2B_35QPF_20200216_0_L2A/TCI.tif\n",
       "18 https://sentinel-cogs.s3.us-west-2.amazonaws.com/sentinel-s2-l2a-cogs/35/Q/PF/2020/1/S2A_35QPF_20200112_0_L2A/TCI.tif\n",
       "19 https://sentinel-cogs.s3.us-west-2.amazonaws.com/sentinel-s2-l2a-cogs/35/Q/PF/2020/1/S2A_35QPF_20200112_1_L2A/TCI.tif\n",
       "   overview                                                                                                                 \n",
       "1  https://sentinel-cogs.s3.us-west-2.amazonaws.com/sentinel-s2-l2a-cogs/35/Q/PF/2020/3/S2B_35QPF_20200307_0_L2A/L2A_PVI.tif\n",
       "2  https://sentinel-cogs.s3.us-west-2.amazonaws.com/sentinel-s2-l2a-cogs/35/Q/PF/2020/1/S2A_35QPF_20200102_0_L2A/L2A_PVI.tif\n",
       "3  https://sentinel-cogs.s3.us-west-2.amazonaws.com/sentinel-s2-l2a-cogs/35/Q/PF/2020/1/S2B_35QPF_20200117_0_L2A/L2A_PVI.tif\n",
       "4  https://sentinel-cogs.s3.us-west-2.amazonaws.com/sentinel-s2-l2a-cogs/35/Q/PF/2020/3/S2A_35QPF_20200312_0_L2A/L2A_PVI.tif\n",
       "5  https://sentinel-cogs.s3.us-west-2.amazonaws.com/sentinel-s2-l2a-cogs/35/Q/PF/2020/3/S2B_35QPF_20200317_0_L2A/L2A_PVI.tif\n",
       "6  https://sentinel-cogs.s3.us-west-2.amazonaws.com/sentinel-s2-l2a-cogs/35/Q/PF/2020/1/S2A_35QPF_20200122_1_L2A/L2A_PVI.tif\n",
       "7  https://sentinel-cogs.s3.us-west-2.amazonaws.com/sentinel-s2-l2a-cogs/35/Q/PF/2020/3/S2B_35QPF_20200327_0_L2A/L2A_PVI.tif\n",
       "8  https://sentinel-cogs.s3.us-west-2.amazonaws.com/sentinel-s2-l2a-cogs/35/Q/PF/2020/2/S2B_35QPF_20200206_0_L2A/L2A_PVI.tif\n",
       "9  https://sentinel-cogs.s3.us-west-2.amazonaws.com/sentinel-s2-l2a-cogs/35/Q/PF/2020/2/S2A_35QPF_20200211_0_L2A/L2A_PVI.tif\n",
       "10 https://sentinel-cogs.s3.us-west-2.amazonaws.com/sentinel-s2-l2a-cogs/35/Q/PF/2020/2/S2A_35QPF_20200221_0_L2A/L2A_PVI.tif\n",
       "11 https://sentinel-cogs.s3.us-west-2.amazonaws.com/sentinel-s2-l2a-cogs/35/Q/PF/2020/1/S2B_35QPF_20200107_0_L2A/L2A_PVI.tif\n",
       "12 https://sentinel-cogs.s3.us-west-2.amazonaws.com/sentinel-s2-l2a-cogs/35/Q/PF/2020/2/S2B_35QPF_20200226_0_L2A/L2A_PVI.tif\n",
       "13 https://sentinel-cogs.s3.us-west-2.amazonaws.com/sentinel-s2-l2a-cogs/35/Q/PF/2020/3/S2A_35QPF_20200302_0_L2A/L2A_PVI.tif\n",
       "14 https://sentinel-cogs.s3.us-west-2.amazonaws.com/sentinel-s2-l2a-cogs/35/Q/PF/2020/1/S2B_35QPF_20200127_1_L2A/L2A_PVI.tif\n",
       "15 https://sentinel-cogs.s3.us-west-2.amazonaws.com/sentinel-s2-l2a-cogs/35/Q/PF/2020/2/S2A_35QPF_20200201_0_L2A/L2A_PVI.tif\n",
       "16 https://sentinel-cogs.s3.us-west-2.amazonaws.com/sentinel-s2-l2a-cogs/35/Q/PF/2020/3/S2A_35QPF_20200322_0_L2A/L2A_PVI.tif\n",
       "17 https://sentinel-cogs.s3.us-west-2.amazonaws.com/sentinel-s2-l2a-cogs/35/Q/PF/2020/2/S2B_35QPF_20200216_0_L2A/L2A_PVI.tif\n",
       "18 https://sentinel-cogs.s3.us-west-2.amazonaws.com/sentinel-s2-l2a-cogs/35/Q/PF/2020/1/S2A_35QPF_20200112_0_L2A/L2A_PVI.tif\n",
       "19 https://sentinel-cogs.s3.us-west-2.amazonaws.com/sentinel-s2-l2a-cogs/35/Q/PF/2020/1/S2A_35QPF_20200112_1_L2A/L2A_PVI.tif"
      ]
     },
     "metadata": {},
     "output_type": "display_data"
    }
   ],
   "source": [
    "dc_find_datasets(query = c(product = \"s2_l2a\", query))"
   ]
  },
  {
   "cell_type": "markdown",
   "id": "ebf7c2f2",
   "metadata": {},
   "source": [
    "Use `dc_load` to load all data associated with your query:"
   ]
  },
  {
   "cell_type": "code",
   "execution_count": 11,
   "id": "58e99a46",
   "metadata": {},
   "outputs": [
    {
     "data": {
      "text/plain": [
       "<xarray.Dataset>\n",
       "Dimensions:      (time: 19, x: 483, y: 590)\n",
       "Coordinates:\n",
       "  * time         (time) datetime64[ns] 2020-01-02T08:53:48 ... 2020-03-27T08:...\n",
       "  * y            (y) float64 2.843e+06 2.843e+06 ... 2.831e+06 2.831e+06\n",
       "  * x            (x) float64 2.747e+06 2.747e+06 ... 2.756e+06 2.756e+06\n",
       "    spatial_ref  int32 6933\n",
       "Data variables:\n",
       "    B01          (time, y, x) uint16 dask.array<chunksize=(1, 590, 483), meta=np.ndarray>\n",
       "    B02          (time, y, x) uint16 dask.array<chunksize=(1, 590, 483), meta=np.ndarray>\n",
       "    B03          (time, y, x) uint16 dask.array<chunksize=(1, 590, 483), meta=np.ndarray>\n",
       "    B04          (time, y, x) uint16 dask.array<chunksize=(1, 590, 483), meta=np.ndarray>\n",
       "    B05          (time, y, x) uint16 dask.array<chunksize=(1, 590, 483), meta=np.ndarray>\n",
       "    B06          (time, y, x) uint16 dask.array<chunksize=(1, 590, 483), meta=np.ndarray>\n",
       "    B07          (time, y, x) uint16 dask.array<chunksize=(1, 590, 483), meta=np.ndarray>\n",
       "    B08          (time, y, x) uint16 dask.array<chunksize=(1, 590, 483), meta=np.ndarray>\n",
       "    B8A          (time, y, x) uint16 dask.array<chunksize=(1, 590, 483), meta=np.ndarray>\n",
       "    B09          (time, y, x) uint16 dask.array<chunksize=(1, 590, 483), meta=np.ndarray>\n",
       "    B11          (time, y, x) uint16 dask.array<chunksize=(1, 590, 483), meta=np.ndarray>\n",
       "    B12          (time, y, x) uint16 dask.array<chunksize=(1, 590, 483), meta=np.ndarray>\n",
       "    SCL          (time, y, x) uint8 dask.array<chunksize=(1, 590, 483), meta=np.ndarray>\n",
       "    AOT          (time, y, x) uint16 dask.array<chunksize=(1, 590, 483), meta=np.ndarray>\n",
       "    WVP          (time, y, x) uint16 dask.array<chunksize=(1, 590, 483), meta=np.ndarray>\n",
       "Attributes:\n",
       "    crs:           epsg:6933\n",
       "    grid_mapping:  spatial_ref"
      ]
     },
     "metadata": {},
     "output_type": "display_data"
    }
   ],
   "source": [
    "ds <- dc_load(query = c(product = \"s2_l2a\", query))\n",
    "ds"
   ]
  },
  {
   "cell_type": "markdown",
   "id": "6cafb35b",
   "metadata": {},
   "source": [
    "Alternatively, you may want to add a query element to only query and load specific measurements, e.g. \"red\" and \"nir\":"
   ]
  },
  {
   "cell_type": "code",
   "execution_count": 12,
   "id": "0df50182",
   "metadata": {},
   "outputs": [
    {
     "data": {
      "text/plain": [
       "<xarray.Dataset>\n",
       "Dimensions:      (time: 19, x: 483, y: 590)\n",
       "Coordinates:\n",
       "  * time         (time) datetime64[ns] 2020-01-02T08:53:48 ... 2020-03-27T08:...\n",
       "  * y            (y) float64 2.843e+06 2.843e+06 ... 2.831e+06 2.831e+06\n",
       "  * x            (x) float64 2.747e+06 2.747e+06 ... 2.756e+06 2.756e+06\n",
       "    spatial_ref  int32 6933\n",
       "Data variables:\n",
       "    red          (time, y, x) uint16 dask.array<chunksize=(1, 590, 483), meta=np.ndarray>\n",
       "    nir          (time, y, x) uint16 dask.array<chunksize=(1, 590, 483), meta=np.ndarray>\n",
       "Attributes:\n",
       "    crs:           epsg:6933\n",
       "    grid_mapping:  spatial_ref"
      ]
     },
     "metadata": {},
     "output_type": "display_data"
    }
   ],
   "source": [
    "bands <- list(measurements = c('red', 'nir')) #c('blue', 'green', 'red', 'nir', 'swir_1'))\n",
    "ds <- dc_load(query = c(product = \"s2_l2a\", query, bands))\n",
    "ds"
   ]
  },
  {
   "cell_type": "markdown",
   "id": "e85e99bf",
   "metadata": {},
   "source": [
    "## Index/subset data\n",
    "\n",
    "By default, data are loaded as an object of class `xarray`, which is natively supported by `odcr`. The package implements both an `xarray`-equivalent native class as well as standard methods to interact with an `xarray`, as you will see in the following examples. First, let's make use of the `dim` method to display the dimensions of the loaded data:"
   ]
  },
  {
   "cell_type": "code",
   "execution_count": 10,
   "id": "ccb6d26b",
   "metadata": {},
   "outputs": [
    {
     "data": {
      "text/html": [
       "<style>\n",
       ".dl-inline {width: auto; margin:0; padding: 0}\n",
       ".dl-inline>dt, .dl-inline>dd {float: none; width: auto; display: inline-block}\n",
       ".dl-inline>dt::after {content: \":\\0020\"; padding-right: .5ex}\n",
       ".dl-inline>dt:not(:first-of-type) {padding-left: .5ex}\n",
       "</style><dl class=dl-inline><dt>time</dt><dd>19</dd><dt>x</dt><dd>483</dd><dt>y</dt><dd>590</dd></dl>\n"
      ],
      "text/latex": [
       "\\begin{description*}\n",
       "\\item[time] 19\n",
       "\\item[x] 483\n",
       "\\item[y] 590\n",
       "\\end{description*}\n"
      ],
      "text/markdown": [
       "time\n",
       ":   19x\n",
       ":   483y\n",
       ":   590\n",
       "\n"
      ],
      "text/plain": [
       "time    x    y \n",
       "  19  483  590 "
      ]
     },
     "metadata": {},
     "output_type": "display_data"
    }
   ],
   "source": [
    "dim(ds)"
   ]
  },
  {
   "cell_type": "markdown",
   "id": "d645d548",
   "metadata": {},
   "source": [
    "For indexing/subsetting data by measurements, you can use the `[[` extraction method. Here, we extract the second measurment by its index, which is referring to the \"nir\" band:"
   ]
  },
  {
   "cell_type": "code",
   "execution_count": 11,
   "id": "8d1f3289",
   "metadata": {},
   "outputs": [
    {
     "data": {
      "text/plain": [
       "<xarray.DataArray 'nir' (time: 19, y: 590, x: 483)>\n",
       "dask.array<dc_load_nir, shape=(19, 590, 483), dtype=uint16, chunksize=(1, 590, 483), chunktype=numpy.ndarray>\n",
       "Coordinates:\n",
       "  * time         (time) datetime64[ns] 2020-01-02T08:53:48 ... 2020-03-27T08:...\n",
       "  * y            (y) float64 2.843e+06 2.843e+06 ... 2.831e+06 2.831e+06\n",
       "  * x            (x) float64 2.747e+06 2.747e+06 ... 2.756e+06 2.756e+06\n",
       "    spatial_ref  int32 6933\n",
       "Attributes:\n",
       "    units:         1\n",
       "    nodata:        0\n",
       "    crs:           epsg:6933\n",
       "    grid_mapping:  spatial_ref"
      ]
     },
     "metadata": {},
     "output_type": "display_data"
    }
   ],
   "source": [
    "ds[[2]]"
   ]
  },
  {
   "cell_type": "markdown",
   "id": "49b725d4",
   "metadata": {},
   "source": [
    "Alternatively, you can index measurements using their names or aliases, as shown here:"
   ]
  },
  {
   "cell_type": "code",
   "execution_count": 12,
   "id": "85c7ec21",
   "metadata": {},
   "outputs": [
    {
     "data": {
      "text/plain": [
       "<xarray.DataArray 'nir' (time: 19, y: 590, x: 483)>\n",
       "dask.array<dc_load_nir, shape=(19, 590, 483), dtype=uint16, chunksize=(1, 590, 483), chunktype=numpy.ndarray>\n",
       "Coordinates:\n",
       "  * time         (time) datetime64[ns] 2020-01-02T08:53:48 ... 2020-03-27T08:...\n",
       "  * y            (y) float64 2.843e+06 2.843e+06 ... 2.831e+06 2.831e+06\n",
       "  * x            (x) float64 2.747e+06 2.747e+06 ... 2.756e+06 2.756e+06\n",
       "    spatial_ref  int32 6933\n",
       "Attributes:\n",
       "    units:         1\n",
       "    nodata:        0\n",
       "    crs:           epsg:6933\n",
       "    grid_mapping:  spatial_ref"
      ]
     },
     "metadata": {},
     "output_type": "display_data"
    }
   ],
   "source": [
    "ds[[\"nir\"]]"
   ]
  },
  {
   "cell_type": "code",
   "execution_count": 13,
   "id": "4eb489d1",
   "metadata": {},
   "outputs": [
    {
     "data": {
      "text/plain": [
       "<xarray.DataArray 'nir' (time: 19, y: 590, x: 483)>\n",
       "dask.array<dc_load_nir, shape=(19, 590, 483), dtype=uint16, chunksize=(1, 590, 483), chunktype=numpy.ndarray>\n",
       "Coordinates:\n",
       "  * time         (time) datetime64[ns] 2020-01-02T08:53:48 ... 2020-03-27T08:...\n",
       "  * y            (y) float64 2.843e+06 2.843e+06 ... 2.831e+06 2.831e+06\n",
       "  * x            (x) float64 2.747e+06 2.747e+06 ... 2.756e+06 2.756e+06\n",
       "    spatial_ref  int32 6933\n",
       "Attributes:\n",
       "    units:         1\n",
       "    nodata:        0\n",
       "    crs:           epsg:6933\n",
       "    grid_mapping:  spatial_ref"
      ]
     },
     "metadata": {},
     "output_type": "display_data"
    }
   ],
   "source": [
    "ds$nir"
   ]
  },
  {
   "cell_type": "markdown",
   "id": "d137b4c0",
   "metadata": {},
   "source": [
    "For indexing/subsetting by dimensions, you can use the extraction method `[`. Its index order corresponds to the order of the dimensions returned by `dim`. This means that in this example, the first index referrs to the temporal dimension and the second and third indices to the spatial dimensions x and y:"
   ]
  },
  {
   "cell_type": "code",
   "execution_count": 14,
   "id": "c22ec38b",
   "metadata": {},
   "outputs": [
    {
     "data": {
      "text/html": [
       "<style>\n",
       ".dl-inline {width: auto; margin:0; padding: 0}\n",
       ".dl-inline>dt, .dl-inline>dd {float: none; width: auto; display: inline-block}\n",
       ".dl-inline>dt::after {content: \":\\0020\"; padding-right: .5ex}\n",
       ".dl-inline>dt:not(:first-of-type) {padding-left: .5ex}\n",
       "</style><dl class=dl-inline><dt>time</dt><dd>19</dd><dt>x</dt><dd>483</dd><dt>y</dt><dd>590</dd></dl>\n"
      ],
      "text/latex": [
       "\\begin{description*}\n",
       "\\item[time] 19\n",
       "\\item[x] 483\n",
       "\\item[y] 590\n",
       "\\end{description*}\n"
      ],
      "text/markdown": [
       "time\n",
       ":   19x\n",
       ":   483y\n",
       ":   590\n",
       "\n"
      ],
      "text/plain": [
       "time    x    y \n",
       "  19  483  590 "
      ]
     },
     "metadata": {},
     "output_type": "display_data"
    },
    {
     "data": {
      "text/plain": [
       "<xarray.Dataset>\n",
       "Dimensions:      (x: 10, y: 10)\n",
       "Coordinates:\n",
       "    time         datetime64[ns] 2020-02-26T08:53:51\n",
       "  * y            (y) float64 2.842e+06 2.842e+06 ... 2.842e+06 2.842e+06\n",
       "  * x            (x) float64 2.747e+06 2.747e+06 ... 2.747e+06 2.747e+06\n",
       "    spatial_ref  int32 6933\n",
       "Data variables:\n",
       "    red          (y, x) uint16 dask.array<chunksize=(10, 10), meta=np.ndarray>\n",
       "    nir          (y, x) uint16 dask.array<chunksize=(10, 10), meta=np.ndarray>\n",
       "Attributes:\n",
       "    crs:           epsg:6933\n",
       "    grid_mapping:  spatial_ref"
      ]
     },
     "metadata": {},
     "output_type": "display_data"
    }
   ],
   "source": [
    "dim(ds)\n",
    "ds[13, 11:20, 21:30]"
   ]
  },
  {
   "cell_type": "markdown",
   "id": "02b7520d",
   "metadata": {},
   "source": [
    "To subset only by one dimension, you may skip those dimensions that should not be subsetted:"
   ]
  },
  {
   "cell_type": "code",
   "execution_count": 15,
   "id": "617d71b0",
   "metadata": {},
   "outputs": [
    {
     "data": {
      "text/plain": [
       "<xarray.Dataset>\n",
       "Dimensions:      (x: 483, y: 590)\n",
       "Coordinates:\n",
       "    time         datetime64[ns] 2020-02-26T08:53:51\n",
       "  * y            (y) float64 2.843e+06 2.843e+06 ... 2.831e+06 2.831e+06\n",
       "  * x            (x) float64 2.747e+06 2.747e+06 ... 2.756e+06 2.756e+06\n",
       "    spatial_ref  int32 6933\n",
       "Data variables:\n",
       "    red          (y, x) uint16 dask.array<chunksize=(590, 483), meta=np.ndarray>\n",
       "    nir          (y, x) uint16 dask.array<chunksize=(590, 483), meta=np.ndarray>\n",
       "Attributes:\n",
       "    crs:           epsg:6933\n",
       "    grid_mapping:  spatial_ref"
      ]
     },
     "metadata": {},
     "output_type": "display_data"
    }
   ],
   "source": [
    "ds[13,,]"
   ]
  },
  {
   "cell_type": "markdown",
   "id": "7ca68d15",
   "metadata": {},
   "source": [
    "Here, we subset the red band by two timestamps and smaller spatial extent:"
   ]
  },
  {
   "cell_type": "code",
   "execution_count": 16,
   "id": "984dff73",
   "metadata": {},
   "outputs": [
    {
     "data": {
      "text/plain": [
       "<xarray.DataArray 'red' (time: 2, y: 10, x: 10)>\n",
       "dask.array<getitem, shape=(2, 10, 10), dtype=uint16, chunksize=(1, 10, 10), chunktype=numpy.ndarray>\n",
       "Coordinates:\n",
       "  * time         (time) datetime64[ns] 2020-01-02T08:53:48 2020-01-07T08:53:48\n",
       "  * y            (y) float64 2.841e+06 2.841e+06 2.841e+06 ... 2.84e+06 2.84e+06\n",
       "  * x            (x) float64 2.747e+06 2.747e+06 ... 2.747e+06 2.747e+06\n",
       "    spatial_ref  int32 6933\n",
       "Attributes:\n",
       "    units:         1\n",
       "    nodata:        0\n",
       "    crs:           epsg:6933\n",
       "    grid_mapping:  spatial_ref"
      ]
     },
     "metadata": {},
     "output_type": "display_data"
    }
   ],
   "source": [
    "ds$red[1:2,10:19, 110:119]"
   ]
  },
  {
   "cell_type": "markdown",
   "id": "54971d51",
   "metadata": {},
   "source": [
    "Using the function `xar_sel_time`, it is possible to index the temporal dimension using a character vector of unique timestamps. Here, for example, we extract to timestamps from our data:"
   ]
  },
  {
   "cell_type": "code",
   "execution_count": 17,
   "id": "0d5c1df2",
   "metadata": {},
   "outputs": [
    {
     "data": {
      "text/plain": [
       "<xarray.Dataset>\n",
       "Dimensions:      (time: 2, x: 483, y: 590)\n",
       "Coordinates:\n",
       "  * time         (time) datetime64[ns] 2020-01-02T08:53:48 2020-01-07T08:53:48\n",
       "  * y            (y) float64 2.843e+06 2.843e+06 ... 2.831e+06 2.831e+06\n",
       "  * x            (x) float64 2.747e+06 2.747e+06 ... 2.756e+06 2.756e+06\n",
       "    spatial_ref  int32 6933\n",
       "Data variables:\n",
       "    red          (time, y, x) uint16 dask.array<chunksize=(1, 590, 483), meta=np.ndarray>\n",
       "    nir          (time, y, x) uint16 dask.array<chunksize=(1, 590, 483), meta=np.ndarray>\n",
       "Attributes:\n",
       "    crs:           epsg:6933\n",
       "    grid_mapping:  spatial_ref"
      ]
     },
     "metadata": {},
     "output_type": "display_data"
    }
   ],
   "source": [
    "xar_sel_time(ds, c(\"2020-01-02\", \"2020-01-07\"))"
   ]
  },
  {
   "cell_type": "markdown",
   "id": "eed98f06",
   "metadata": {},
   "source": [
    "By default, the timestamps input must match the timestamps of your data. Invalid times will be skipped throwing a warning:"
   ]
  },
  {
   "cell_type": "code",
   "execution_count": 18,
   "id": "df3c115d",
   "metadata": {},
   "outputs": [
    {
     "name": "stderr",
     "output_type": "stream",
     "text": [
      "Warning message:\n",
      "“Some query times are not matching times of x, subsetting only by valid times.”\n"
     ]
    },
    {
     "data": {
      "text/plain": [
       "<xarray.Dataset>\n",
       "Dimensions:      (time: 1, x: 483, y: 590)\n",
       "Coordinates:\n",
       "  * time         (time) datetime64[ns] 2020-01-07T08:53:48\n",
       "  * y            (y) float64 2.843e+06 2.843e+06 ... 2.831e+06 2.831e+06\n",
       "  * x            (x) float64 2.747e+06 2.747e+06 ... 2.756e+06 2.756e+06\n",
       "    spatial_ref  int32 6933\n",
       "Data variables:\n",
       "    red          (time, y, x) uint16 dask.array<chunksize=(1, 590, 483), meta=np.ndarray>\n",
       "    nir          (time, y, x) uint16 dask.array<chunksize=(1, 590, 483), meta=np.ndarray>\n",
       "Attributes:\n",
       "    crs:           epsg:6933\n",
       "    grid_mapping:  spatial_ref"
      ]
     },
     "metadata": {},
     "output_type": "display_data"
    }
   ],
   "source": [
    "xar_sel_time(ds, c(\"2020-01-01\", \"2020-01-07\"))"
   ]
  },
  {
   "cell_type": "markdown",
   "id": "a574d31e",
   "metadata": {},
   "source": [
    "However, you can also index by timestamps inputs that are closest to the timestamps of the data. To do so, disable exact matching using `exact_match = F`:"
   ]
  },
  {
   "cell_type": "code",
   "execution_count": 19,
   "id": "a1695841",
   "metadata": {},
   "outputs": [
    {
     "data": {
      "text/plain": [
       "<xarray.Dataset>\n",
       "Dimensions:      (time: 2, x: 483, y: 590)\n",
       "Coordinates:\n",
       "  * time         (time) datetime64[ns] 2020-01-02T08:53:48 2020-01-07T08:53:48\n",
       "  * y            (y) float64 2.843e+06 2.843e+06 ... 2.831e+06 2.831e+06\n",
       "  * x            (x) float64 2.747e+06 2.747e+06 ... 2.756e+06 2.756e+06\n",
       "    spatial_ref  int32 6933\n",
       "Data variables:\n",
       "    red          (time, y, x) uint16 dask.array<chunksize=(1, 590, 483), meta=np.ndarray>\n",
       "    nir          (time, y, x) uint16 dask.array<chunksize=(1, 590, 483), meta=np.ndarray>\n",
       "Attributes:\n",
       "    crs:           epsg:6933\n",
       "    grid_mapping:  spatial_ref"
      ]
     },
     "metadata": {},
     "output_type": "display_data"
    }
   ],
   "source": [
    "xar_sel_time(ds, c(\"2020-01-01\", \"2020-01-07\"), exact_match = F)"
   ]
  },
  {
   "cell_type": "markdown",
   "id": "a551246b",
   "metadata": {},
   "source": [
    "Note that timestamps inputs that both are closest to the same timestamp of the data will result in duplicated timestamps in the result and a warning is thrown:"
   ]
  },
  {
   "cell_type": "code",
   "execution_count": 20,
   "id": "637de35f",
   "metadata": {},
   "outputs": [
    {
     "name": "stderr",
     "output_type": "stream",
     "text": [
      "Warning message:\n",
      "“Output contains duplicated times, since some query times are closest to the same times of x.”\n"
     ]
    },
    {
     "data": {
      "text/plain": [
       "<xarray.Dataset>\n",
       "Dimensions:      (time: 2, x: 483, y: 590)\n",
       "Coordinates:\n",
       "  * time         (time) datetime64[ns] 2020-01-02T08:53:48 2020-01-02T08:53:48\n",
       "  * y            (y) float64 2.843e+06 2.843e+06 ... 2.831e+06 2.831e+06\n",
       "  * x            (x) float64 2.747e+06 2.747e+06 ... 2.756e+06 2.756e+06\n",
       "    spatial_ref  int32 6933\n",
       "Data variables:\n",
       "    red          (time, y, x) uint16 dask.array<chunksize=(2, 590, 483), meta=np.ndarray>\n",
       "    nir          (time, y, x) uint16 dask.array<chunksize=(2, 590, 483), meta=np.ndarray>\n",
       "Attributes:\n",
       "    crs:           epsg:6933\n",
       "    grid_mapping:  spatial_ref"
      ]
     },
     "metadata": {},
     "output_type": "display_data"
    }
   ],
   "source": [
    "xar_sel_time(ds, c(\"2020-01-03\", \"2020-01-04\"), exact_match = F)"
   ]
  },
  {
   "cell_type": "markdown",
   "id": "50f7669c",
   "metadata": {},
   "source": [
    "## Plotting\n",
    "\n",
    "`odcr` implements a simple plotting interface using `stars`. Here, we index `ds` by the first timestamp, subset its spatial dimensions and extract the first measurement (the red band). Afterwards, we plot it using the `odcr` plot method for the `xarray` class:"
   ]
  },
  {
   "cell_type": "code",
   "execution_count": null,
   "id": "c74b8df9",
   "metadata": {},
   "outputs": [],
   "source": [
    "plot(ds[1,100:300,100:300][[1]])"
   ]
  },
  {
   "cell_type": "markdown",
   "id": "eb4efe5d",
   "metadata": {},
   "source": [
    "## Arithmetic\n",
    "\n",
    "`odcr` supports basic arithmetic operations on `xarray`s. For example, you can apply a formula to all cells of your data using a syntax like in the following example. Here, we calculate the NDVI by substracting the \"red\" band from the \"nir\" band, adding the \"nir\" band and the \"red\" band and dividing both results:"
   ]
  },
  {
   "cell_type": "code",
   "execution_count": 15,
   "id": "56ab5bf8",
   "metadata": {},
   "outputs": [
    {
     "data": {
      "text/plain": [
       "<xarray.DataArray (time: 19, y: 590, x: 483)>\n",
       "dask.array<true_divide, shape=(19, 590, 483), dtype=float64, chunksize=(1, 590, 483), chunktype=numpy.ndarray>\n",
       "Coordinates:\n",
       "  * time         (time) datetime64[ns] 2020-01-02T08:53:48 ... 2020-03-27T08:...\n",
       "  * y            (y) float64 2.843e+06 2.843e+06 ... 2.831e+06 2.831e+06\n",
       "  * x            (x) float64 2.747e+06 2.747e+06 ... 2.756e+06 2.756e+06\n",
       "    spatial_ref  int32 6933"
      ]
     },
     "metadata": {},
     "output_type": "display_data"
    }
   ],
   "source": [
    "ndvi <- (ds[[\"nir\"]] - ds[[\"red\"]]) / (ds[[\"nir\"]] + ds[[\"red\"]])\n",
    "ndvi"
   ]
  },
  {
   "cell_type": "markdown",
   "id": "248ab77f",
   "metadata": {},
   "source": [
    "The result is an `xarray` with the same dimensions as the original data. We can plot the result, e.g. for the first timestamp using `plot`:"
   ]
  },
  {
   "cell_type": "code",
   "execution_count": null,
   "id": "111d2c8d",
   "metadata": {},
   "outputs": [],
   "source": [
    "plot(ndvi[1,])"
   ]
  },
  {
   "cell_type": "markdown",
   "id": "f9674aac",
   "metadata": {},
   "source": [
    "## Coercing to native spatial classes\n",
    "\n",
    "`odcr` implements methods to coerce `xarray` objects into native spatial classes such as `stars` or `Raster*`. To coerce an `xarray` object into a `stars` object, use `as.stars`:"
   ]
  },
  {
   "cell_type": "code",
   "execution_count": 18,
   "id": "f0fd1908",
   "metadata": {},
   "outputs": [
    {
     "data": {
      "text/plain": [
       "stars object with 3 dimensions and 2 attributes\n",
       "attribute(s):\n",
       "        Min. 1st Qu. Median     Mean 3rd Qu. Max.\n",
       "X..nir  1560    4800   5908 5376.095    6212 7836\n",
       "X..red     1    2598   4970 3930.067    5316 6504\n",
       "dimension(s):\n",
       "     from  to offset delta                       refsys point values x/y\n",
       "x       1 100      0     1 WGS 84 / NSIDC EASE-Grid ...    NA   NULL [x]\n",
       "y       1 100    100    -1 WGS 84 / NSIDC EASE-Grid ...    NA   NULL [y]\n",
       "time    1   3     NA    NA                           NA    NA   NULL    "
      ]
     },
     "metadata": {},
     "output_type": "display_data"
    }
   ],
   "source": [
    "ds_stars <- as.stars(ds[1:3,100:199, 100:199]) # or:\n",
    "#ds_stars <- as(ds[1:3,100:199, 100:199], \"stars\")\n",
    "ds_stars"
   ]
  },
  {
   "cell_type": "code",
   "execution_count": 16,
   "id": "829a9c40",
   "metadata": {},
   "outputs": [
    {
     "data": {
      "text/plain": [
       "stars object with 3 dimensions and 1 attribute\n",
       "attribute(s), summary of first 1e+05 cells:\n",
       "                     Min.    1st Qu.     Median      Mean    3rd Qu.     Max.\n",
       "file7d5f19adc1.ncdf     0 0.06856548 0.07989854 0.1686233 0.09137056 12.83542\n",
       "dimension(s):\n",
       "     from  to offset delta                       refsys point values x/y\n",
       "x       1 483      0     1 WGS 84 / NSIDC EASE-Grid ...    NA   NULL [x]\n",
       "y       1 590    590    -1 WGS 84 / NSIDC EASE-Grid ...    NA   NULL [y]\n",
       "time    1  19     NA    NA                           NA    NA   NULL    "
      ]
     },
     "metadata": {},
     "output_type": "display_data"
    }
   ],
   "source": [
    "ndvi_stars <- as.stars(ndvi)\n",
    "ndvi_stars"
   ]
  },
  {
   "cell_type": "markdown",
   "id": "f1a985e2",
   "metadata": {},
   "source": [
    "Coercing to `Raster*` works the same way. Note that `raster` cannot represent objects with more than 3 dimensions. Coercing four-dimensional `xarray`s into `raster` will thus result in a list of `RasterBricks`."
   ]
  },
  {
   "cell_type": "code",
   "execution_count": 17,
   "id": "77b7d704",
   "metadata": {},
   "outputs": [
    {
     "name": "stderr",
     "output_type": "stream",
     "text": [
      "Warning message:\n",
      "“Raster* cannot represent four dimensions, only three. Coercing to a list of Raster* instead.”\n"
     ]
    },
    {
     "data": {
      "text/plain": [
       "$X..nir\n",
       "class      : RasterBrick \n",
       "dimensions : 100, 100, 10000, 3  (nrow, ncol, ncell, nlayers)\n",
       "resolution : 1, 1  (x, y)\n",
       "extent     : 0, 100, 0, 100  (xmin, xmax, ymin, ymax)\n",
       "crs        : +proj=cea +lat_ts=30 +lon_0=0 +x_0=0 +y_0=0 +datum=WGS84 +units=m +no_defs \n",
       "source     : memory\n",
       "names      : layer.1, layer.2, layer.3 \n",
       "min values :    1908,    1560,    1944 \n",
       "max values :    7836,    6792,    6812 \n",
       "time       : 1, 2, 3 \n",
       "\n",
       "\n",
       "$X..red\n",
       "class      : RasterBrick \n",
       "dimensions : 100, 100, 10000, 3  (nrow, ncol, ncell, nlayers)\n",
       "resolution : 1, 1  (x, y)\n",
       "extent     : 0, 100, 0, 100  (xmin, xmax, ymin, ymax)\n",
       "crs        : +proj=cea +lat_ts=30 +lon_0=0 +x_0=0 +y_0=0 +datum=WGS84 +units=m +no_defs \n",
       "source     : memory\n",
       "names      : layer.1, layer.2, layer.3 \n",
       "min values :       1,       1,     400 \n",
       "max values :    6504,    5660,    5672 \n",
       "time       : 1, 2, 3 \n",
       "\n"
      ]
     },
     "metadata": {},
     "output_type": "display_data"
    }
   ],
   "source": [
    "ds_raster <- as.raster(ds[1:3,100:199, 100:199])\n",
    "ds_raster"
   ]
  },
  {
   "cell_type": "code",
   "execution_count": 19,
   "id": "96bce02b",
   "metadata": {},
   "outputs": [
    {
     "data": {
      "text/plain": [
       "class      : RasterBrick \n",
       "dimensions : 590, 483, 284970, 19  (nrow, ncol, ncell, nlayers)\n",
       "resolution : 1, 1  (x, y)\n",
       "extent     : 0, 483, 0, 590  (xmin, xmax, ymin, ymax)\n",
       "crs        : +proj=cea +lat_ts=30 +lon_0=0 +x_0=0 +y_0=0 +datum=WGS84 +units=m +no_defs \n",
       "source     : memory\n",
       "names      :      layer.1,      layer.2,      layer.3,      layer.4,      layer.5,      layer.6,      layer.7,      layer.8,      layer.9,     layer.10,     layer.11,     layer.12,     layer.13,     layer.14,     layer.15, ... \n",
       "min values : 0.0000000000, 0.0086058520, 0.0043975374, 0.0000000000, 0.0000000000, 0.0007936508, 0.0075885329, 0.0085470085, 0.0163934426, 0.0000000000, 0.0019755038, 0.0004014452, 0.0093043864, 0.0052539405, 0.0044516390, ... \n",
       "max values :   26.1693291,    7.8564547,    7.4154195,   77.3010753,    8.1431421,    8.6615466,    7.7234043,    7.5000000,    7.7845567,    8.4730849,    7.7010163,    7.6560300,    7.9392319,    7.7875030,    7.7730412, ... \n",
       "time       : 1, 19 (min, max)\n"
      ]
     },
     "metadata": {},
     "output_type": "display_data"
    }
   ],
   "source": [
    "ds_ndvi <- as.raster(ndvi)\n",
    "ds_ndvi"
   ]
  }
 ],
 "metadata": {
  "kernelspec": {
   "display_name": "R",
   "language": "R",
   "name": "ir"
  },
  "language_info": {
   "codemirror_mode": "r",
   "file_extension": ".r",
   "mimetype": "text/x-r-source",
   "name": "R",
   "pygments_lexer": "r",
   "version": "4.1.0"
  }
 },
 "nbformat": 4,
 "nbformat_minor": 5
}

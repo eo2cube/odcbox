{
 "cells": [
  {
   "cell_type": "markdown",
   "metadata": {},
   "source": [
    "# Cube in a Box\n",
    "\n",
    "### Notebook Index\n",
    "\n",
    "\n",
    "The [OpenDataCube](https://github.com/opendatacube) (ODC) provides an integrated gridded data analysis environment capable of delivering decades of analysis ready earth observation satellite and related data from multiple satellite and other acquisition systems. \n",
    "\n",
    "The ODC initiative seeks to increase the value and impact of global Earth obervation satellite data by providing an open and freely accessible exploitation archectecture and to foster a community to develop, sustain, and grow the techonology and the breadth and depth of its application. To read more see the [ODC Initiative Whitepaper](https://github.com/opendatacube/documentation/blob/master/Roadmap/ODC%20White%20Paper.md)\n",
    "\n",
    "The ODC manual can be found at http://datacube-core.readthedocs.io/en/latest/.\n",
    "\n",
    "We have bundled together a number of open source technologies with the aim of making the ODC installation and data index and ingestion process easier to get started and to learn. We've called this \"Cube in a Box\", and it demonstrates the capabilities of ODC and use of earth observation data and algorithms on ODC."
   ]
  },
  {
   "cell_type": "markdown",
   "metadata": {},
   "source": [
    "Considering you've reached this far we'll assume you have our Docker-based system either running locally or on AWS, including the python prerequisite Python libraries. The index process should have been run on your custom extents, or our default ones, and now you should be ready to use the ODC.\n",
    "\n",
    "Cube in a Box automatically indexes the landsat path/rows stored in Amazon's [Landsat archive](https://registry.opendata.aws/landsat-8) associated with the extent specified in the initial configuration. \n",
    "\n",
    "Zoom in to the red bounding box in the below map to confirm this is the extent that you're looking to experiment explore. If the config parameters have been set correctly there will be a bounding box over your case study area."
   ]
  },
  {
   "cell_type": "code",
   "execution_count": null,
   "metadata": {},
   "outputs": [],
   "source": [
    "import folium\n",
    "import json\n",
    "from utils.utils import load_config_extents\n",
    "\n",
    "# Load the extents that were saved after the initial index.\n",
    "extents, bbox = load_config_extents('/opt/odc/data/configIndex.txt')\n",
    "\n",
    "lon_min, lon_max, lat_min, lat_max = extents\n",
    "\n",
    "# Get the centre and format the bounding box rectangle\n",
    "centre = [(lon_min + lon_max) / 2, (lat_min + lat_max) / 2]\n",
    "\n",
    "# Create a map\n",
    "m = folium.Map(location=centre, zoom_start=10)\n",
    "bounds = folium.PolyLine(bbox, color='red')\n",
    "\n",
    "# Zoom to our area of interest\n",
    "m.fit_bounds([[lat_min, lon_min], [lat_max, lon_max]])\n",
    "bounds.add_to(m)\n",
    "\n",
    "# Show the map\n",
    "m"
   ]
  },
  {
   "cell_type": "markdown",
   "metadata": {},
   "source": [
    "# [Basic ODC Functionality](Basic_Functionality.ipynb)\n",
    "\n",
    "The [Basic ODF Functionality](Basic_Functionality.ipynb) notebook runs through the data load command, generating cloud free time slice visualisations and interogating a single pixel over a time span.\n"
   ]
  },
  {
   "cell_type": "markdown",
   "metadata": {},
   "source": [
    "# [Cloud Free Mosaics and Water From Space Algorithm (WoFS)](WoFS.ipynb)\n",
    "\n",
    "[In progress]"
   ]
  }
 ],
 "metadata": {
  "kernelspec": {
   "display_name": "Python 3",
   "language": "python",
   "name": "python3"
  },
  "language_info": {
   "codemirror_mode": {
    "name": "ipython",
    "version": 3
   },
   "file_extension": ".py",
   "mimetype": "text/x-python",
   "name": "python",
   "nbconvert_exporter": "python",
   "pygments_lexer": "ipython3",
   "version": "3.6.7"
  }
 },
 "nbformat": 4,
 "nbformat_minor": 2
}
